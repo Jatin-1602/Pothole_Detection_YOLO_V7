{
  "cells": [
    {
      "cell_type": "code",
      "execution_count": 1,
      "metadata": {
        "colab": {
          "base_uri": "https://localhost:8080/"
        },
        "id": "pePdc3gjF_Oi",
        "outputId": "5e049083-e6da-4876-8533-bb5d0ba437f3"
      },
      "outputs": [
        {
          "name": "stdout",
          "output_type": "stream",
          "text": [
            "/content/drive/MyDrive/yolo_v7/yolov7\n"
          ]
        }
      ],
      "source": [
        "%cd /content/drive/MyDrive/yolo_v7/yolov7"
      ]
    },
    {
      "cell_type": "code",
      "execution_count": 6,
      "metadata": {
        "id": "WEowg3CDElF6"
      },
      "outputs": [],
      "source": [
        "# !unzip test/test_data.zip -d test/"
      ]
    },
    {
      "cell_type": "code",
      "execution_count": 9,
      "metadata": {
        "id": "3C60eZgdHRlo"
      },
      "outputs": [],
      "source": [
        "# import os\n",
        "# l = os.listdir('test/images')\n",
        "# len(l)"
      ]
    },
    {
      "cell_type": "code",
      "execution_count": null,
      "metadata": {
        "id": "A-IZFIidq0cJ"
      },
      "outputs": [],
      "source": [
        "# RUN TEST\n",
        "# !python test.py --weights runs/train/yolov7-e6e-pothole-fold_4/weights/best.pt --data wheat4.yaml --task val"
      ]
    },
    {
      "cell_type": "code",
      "execution_count": 18,
      "metadata": {
        "colab": {
          "base_uri": "https://localhost:8080/"
        },
        "id": "-_JVs_kaGO9O",
        "outputId": "f8485e33-2956-4a00-88d5-24a6eea883f5"
      },
      "outputs": [
        {
          "name": "stdout",
          "output_type": "stream",
          "text": [
            "Namespace(agnostic_nms=False, augment=False, classes=None, conf_thres=0.05, device='', exist_ok=False, img_size=640, iou_thres=0.45, name='pothole_detection_test_img', no_trace=False, nosave=False, project='runs/detect', save_conf=True, save_txt=True, source='test/images', update=False, view_img=False, weights=['runs/train/yolov7-e6e-pothole-fold_4/weights/best.pt'])\n",
            "YOLOR 🚀 v0.1-120-g48052c4 torch 1.13.0+cu116 CPU\n",
            "\n",
            "Fusing layers... \n",
            "IAuxDetect.fuse\n",
            "Model Summary: 819 layers, 164816216 parameters, 0 gradients\n",
            " Convert model to Traced-model... \n",
            " traced_script_module saved! \n",
            " model is traced! \n",
            "\n",
            "/usr/local/lib/python3.8/dist-packages/torch/functional.py:504: UserWarning: torch.meshgrid: in an upcoming release, it will be required to pass the indexing argument. (Triggered internally at ../aten/src/ATen/native/TensorShape.cpp:3190.)\n",
            "  return _VF.meshgrid(tensors, **kwargs)  # type: ignore[attr-defined]\n",
            "1 pothole, Done. (13417.2ms) Inference, (1.7ms) NMS\n",
            " The image with the result is saved in: runs/detect/pothole_detection_test_img2/1000.jpg\n",
            "3 potholes, Done. (5093.5ms) Inference, (0.8ms) NMS\n",
            " The image with the result is saved in: runs/detect/pothole_detection_test_img2/1001.jpg\n",
            "1 pothole, Done. (5877.2ms) Inference, (1.1ms) NMS\n",
            " The image with the result is saved in: runs/detect/pothole_detection_test_img2/1002.jpg\n",
            "4 potholes, Done. (4885.6ms) Inference, (0.9ms) NMS\n",
            " The image with the result is saved in: runs/detect/pothole_detection_test_img2/1003.jpg\n",
            "2 potholes, Done. (4085.9ms) Inference, (0.9ms) NMS\n",
            " The image with the result is saved in: runs/detect/pothole_detection_test_img2/1004.jpg\n",
            "5 potholes, Done. (17720.6ms) Inference, (1.0ms) NMS\n",
            " The image with the result is saved in: runs/detect/pothole_detection_test_img2/1005.jpg\n",
            "2 potholes, Done. (35864.5ms) Inference, (0.8ms) NMS\n",
            " The image with the result is saved in: runs/detect/pothole_detection_test_img2/1006.jpg\n",
            "2 potholes, Done. (6403.0ms) Inference, (0.8ms) NMS\n",
            " The image with the result is saved in: runs/detect/pothole_detection_test_img2/1007.jpg\n",
            "3 potholes, Done. (4575.5ms) Inference, (0.8ms) NMS\n",
            " The image with the result is saved in: runs/detect/pothole_detection_test_img2/1008.jpg\n",
            "3 potholes, Done. (3244.4ms) Inference, (0.8ms) NMS\n",
            " The image with the result is saved in: runs/detect/pothole_detection_test_img2/1009.jpg\n",
            "1 pothole, Done. (4548.5ms) Inference, (0.9ms) NMS\n",
            " The image with the result is saved in: runs/detect/pothole_detection_test_img2/1010.jpg\n",
            "1 pothole, Done. (2788.4ms) Inference, (0.8ms) NMS\n",
            " The image with the result is saved in: runs/detect/pothole_detection_test_img2/1011.jpg\n",
            "3 potholes, Done. (3754.4ms) Inference, (0.8ms) NMS\n",
            " The image with the result is saved in: runs/detect/pothole_detection_test_img2/1012.jpg\n",
            "1 pothole, Done. (4647.0ms) Inference, (0.9ms) NMS\n",
            " The image with the result is saved in: runs/detect/pothole_detection_test_img2/1013.jpg\n",
            "2 potholes, Done. (2429.7ms) Inference, (0.8ms) NMS\n",
            " The image with the result is saved in: runs/detect/pothole_detection_test_img2/1014.jpg\n",
            "1 pothole, Done. (4617.5ms) Inference, (0.8ms) NMS\n",
            " The image with the result is saved in: runs/detect/pothole_detection_test_img2/1015.jpg\n",
            "1 pothole, Done. (2769.7ms) Inference, (0.8ms) NMS\n",
            " The image with the result is saved in: runs/detect/pothole_detection_test_img2/1016.jpg\n",
            "2 potholes, Done. (4580.2ms) Inference, (0.8ms) NMS\n",
            " The image with the result is saved in: runs/detect/pothole_detection_test_img2/1017.jpg\n",
            "3 potholes, Done. (3208.1ms) Inference, (0.8ms) NMS\n",
            " The image with the result is saved in: runs/detect/pothole_detection_test_img2/1018.jpg\n",
            "9 potholes, Done. (3237.2ms) Inference, (0.8ms) NMS\n",
            " The image with the result is saved in: runs/detect/pothole_detection_test_img2/1019.jpg\n",
            "1 pothole, Done. (4458.5ms) Inference, (0.8ms) NMS\n",
            " The image with the result is saved in: runs/detect/pothole_detection_test_img2/1020.jpg\n",
            "7 potholes, Done. (4559.8ms) Inference, (0.9ms) NMS\n",
            " The image with the result is saved in: runs/detect/pothole_detection_test_img2/1021.jpg\n",
            "2 potholes, Done. (4719.5ms) Inference, (1.1ms) NMS\n",
            " The image with the result is saved in: runs/detect/pothole_detection_test_img2/1022.jpg\n",
            "2 potholes, Done. (4347.9ms) Inference, (0.8ms) NMS\n",
            " The image with the result is saved in: runs/detect/pothole_detection_test_img2/1023.jpg\n",
            "7 potholes, Done. (3610.8ms) Inference, (1.0ms) NMS\n",
            " The image with the result is saved in: runs/detect/pothole_detection_test_img2/1024.jpg\n",
            "1 pothole, Done. (3232.0ms) Inference, (0.9ms) NMS\n",
            " The image with the result is saved in: runs/detect/pothole_detection_test_img2/1025.jpg\n",
            "2 potholes, Done. (2805.2ms) Inference, (0.8ms) NMS\n",
            " The image with the result is saved in: runs/detect/pothole_detection_test_img2/1026.jpg\n",
            "1 pothole, Done. (4594.9ms) Inference, (0.9ms) NMS\n",
            " The image with the result is saved in: runs/detect/pothole_detection_test_img2/1027.jpg\n",
            "2 potholes, Done. (3250.5ms) Inference, (0.8ms) NMS\n",
            " The image with the result is saved in: runs/detect/pothole_detection_test_img2/1028.jpg\n",
            "1 pothole, Done. (3669.0ms) Inference, (0.7ms) NMS\n",
            " The image with the result is saved in: runs/detect/pothole_detection_test_img2/1029.jpg\n",
            "2 potholes, Done. (4592.8ms) Inference, (0.8ms) NMS\n",
            " The image with the result is saved in: runs/detect/pothole_detection_test_img2/1030.jpg\n",
            "1 pothole, Done. (2809.7ms) Inference, (1.0ms) NMS\n",
            " The image with the result is saved in: runs/detect/pothole_detection_test_img2/1031.jpg\n",
            "2 potholes, Done. (4613.4ms) Inference, (0.8ms) NMS\n",
            " The image with the result is saved in: runs/detect/pothole_detection_test_img2/1032.jpg\n",
            "1 pothole, Done. (4545.7ms) Inference, (0.8ms) NMS\n",
            " The image with the result is saved in: runs/detect/pothole_detection_test_img2/1033.jpg\n",
            "1 pothole, Done. (2991.5ms) Inference, (0.7ms) NMS\n",
            " The image with the result is saved in: runs/detect/pothole_detection_test_img2/1034.jpg\n",
            "2 potholes, Done. (3665.8ms) Inference, (0.9ms) NMS\n",
            " The image with the result is saved in: runs/detect/pothole_detection_test_img2/1035.jpg\n",
            "3 potholes, Done. (4606.5ms) Inference, (0.9ms) NMS\n",
            " The image with the result is saved in: runs/detect/pothole_detection_test_img2/1036.jpg\n",
            "1 pothole, Done. (3726.3ms) Inference, (0.8ms) NMS\n",
            " The image with the result is saved in: runs/detect/pothole_detection_test_img2/1037.jpg\n",
            "1 pothole, Done. (4077.6ms) Inference, (0.8ms) NMS\n",
            " The image with the result is saved in: runs/detect/pothole_detection_test_img2/1038.jpg\n",
            "8 potholes, Done. (3599.7ms) Inference, (1.0ms) NMS\n",
            " The image with the result is saved in: runs/detect/pothole_detection_test_img2/1039.jpg\n",
            "1 pothole, Done. (3610.5ms) Inference, (1.0ms) NMS\n",
            " The image with the result is saved in: runs/detect/pothole_detection_test_img2/1040.jpg\n",
            "4 potholes, Done. (4068.9ms) Inference, (0.9ms) NMS\n",
            " The image with the result is saved in: runs/detect/pothole_detection_test_img2/1041.jpg\n",
            "2 potholes, Done. (4511.4ms) Inference, (1.2ms) NMS\n",
            " The image with the result is saved in: runs/detect/pothole_detection_test_img2/1042.jpg\n",
            "8 potholes, Done. (2830.8ms) Inference, (0.8ms) NMS\n",
            " The image with the result is saved in: runs/detect/pothole_detection_test_img2/1043.jpg\n",
            "2 potholes, Done. (3216.9ms) Inference, (1.1ms) NMS\n",
            " The image with the result is saved in: runs/detect/pothole_detection_test_img2/1044.jpg\n",
            "1 pothole, Done. (4594.6ms) Inference, (0.9ms) NMS\n",
            " The image with the result is saved in: runs/detect/pothole_detection_test_img2/1045.jpg\n",
            "4 potholes, Done. (4541.7ms) Inference, (0.9ms) NMS\n",
            " The image with the result is saved in: runs/detect/pothole_detection_test_img2/1046.jpg\n",
            "3 potholes, Done. (2756.4ms) Inference, (0.7ms) NMS\n",
            " The image with the result is saved in: runs/detect/pothole_detection_test_img2/1047.jpg\n",
            "4 potholes, Done. (3188.4ms) Inference, (0.8ms) NMS\n",
            " The image with the result is saved in: runs/detect/pothole_detection_test_img2/1048.jpg\n",
            "2 potholes, Done. (2771.0ms) Inference, (0.7ms) NMS\n",
            " The image with the result is saved in: runs/detect/pothole_detection_test_img2/1049.jpg\n",
            "2 potholes, Done. (2771.0ms) Inference, (0.7ms) NMS\n",
            " The image with the result is saved in: runs/detect/pothole_detection_test_img2/1050.jpg\n",
            "1 pothole, Done. (3221.9ms) Inference, (0.9ms) NMS\n",
            " The image with the result is saved in: runs/detect/pothole_detection_test_img2/1051.jpg\n",
            "1 pothole, Done. (2809.9ms) Inference, (0.8ms) NMS\n",
            " The image with the result is saved in: runs/detect/pothole_detection_test_img2/1052.jpg\n",
            "2 potholes, Done. (4559.9ms) Inference, (0.9ms) NMS\n",
            " The image with the result is saved in: runs/detect/pothole_detection_test_img2/1053.jpg\n",
            "9 potholes, Done. (2838.9ms) Inference, (0.7ms) NMS\n",
            " The image with the result is saved in: runs/detect/pothole_detection_test_img2/1054.jpg\n",
            "1 pothole, Done. (3157.1ms) Inference, (0.8ms) NMS\n",
            " The image with the result is saved in: runs/detect/pothole_detection_test_img2/1055.jpg\n",
            "1 pothole, Done. (4127.2ms) Inference, (0.9ms) NMS\n",
            " The image with the result is saved in: runs/detect/pothole_detection_test_img2/1056.jpg\n",
            "3 potholes, Done. (4759.4ms) Inference, (1.0ms) NMS\n",
            " The image with the result is saved in: runs/detect/pothole_detection_test_img2/1057.jpg\n",
            "3 potholes, Done. (4848.0ms) Inference, (0.9ms) NMS\n",
            " The image with the result is saved in: runs/detect/pothole_detection_test_img2/1058.jpg\n",
            "2 potholes, Done. (4602.0ms) Inference, (0.9ms) NMS\n",
            " The image with the result is saved in: runs/detect/pothole_detection_test_img2/1059.jpg\n",
            "4 potholes, Done. (4699.7ms) Inference, (0.9ms) NMS\n",
            " The image with the result is saved in: runs/detect/pothole_detection_test_img2/1060.jpg\n",
            "4 potholes, Done. (3701.8ms) Inference, (0.8ms) NMS\n",
            " The image with the result is saved in: runs/detect/pothole_detection_test_img2/1061.jpg\n",
            "1 pothole, Done. (4199.9ms) Inference, (0.8ms) NMS\n",
            " The image with the result is saved in: runs/detect/pothole_detection_test_img2/1062.jpg\n",
            "2 potholes, Done. (4605.5ms) Inference, (0.8ms) NMS\n",
            " The image with the result is saved in: runs/detect/pothole_detection_test_img2/1063.jpg\n",
            "4 potholes, Done. (3264.2ms) Inference, (0.8ms) NMS\n",
            " The image with the result is saved in: runs/detect/pothole_detection_test_img2/1064.jpg\n",
            "5 potholes, Done. (4558.5ms) Inference, (1.2ms) NMS\n",
            " The image with the result is saved in: runs/detect/pothole_detection_test_img2/1065.jpg\n",
            "3 potholes, Done. (3703.4ms) Inference, (0.9ms) NMS\n",
            " The image with the result is saved in: runs/detect/pothole_detection_test_img2/1066.jpg\n",
            "1 pothole, Done. (2829.0ms) Inference, (0.9ms) NMS\n",
            " The image with the result is saved in: runs/detect/pothole_detection_test_img2/1067.jpg\n",
            "4 potholes, Done. (4137.9ms) Inference, (0.8ms) NMS\n",
            " The image with the result is saved in: runs/detect/pothole_detection_test_img2/1068.jpg\n",
            "2 potholes, Done. (4533.4ms) Inference, (0.8ms) NMS\n",
            " The image with the result is saved in: runs/detect/pothole_detection_test_img2/1069.jpg\n",
            "3 potholes, Done. (3178.9ms) Inference, (0.7ms) NMS\n",
            " The image with the result is saved in: runs/detect/pothole_detection_test_img2/1070.jpg\n",
            "8 potholes, Done. (4060.8ms) Inference, (0.8ms) NMS\n",
            " The image with the result is saved in: runs/detect/pothole_detection_test_img2/1071.jpg\n",
            "3 potholes, Done. (3656.8ms) Inference, (0.8ms) NMS\n",
            " The image with the result is saved in: runs/detect/pothole_detection_test_img2/1072.jpg\n",
            "1 pothole, Done. (4480.0ms) Inference, (0.8ms) NMS\n",
            " The image with the result is saved in: runs/detect/pothole_detection_test_img2/1073.jpg\n",
            "1 pothole, Done. (4504.2ms) Inference, (0.9ms) NMS\n",
            " The image with the result is saved in: runs/detect/pothole_detection_test_img2/1074.jpg\n",
            "2 potholes, Done. (4459.4ms) Inference, (0.9ms) NMS\n",
            " The image with the result is saved in: runs/detect/pothole_detection_test_img2/1075.jpg\n",
            "3 potholes, Done. (3715.7ms) Inference, (1.1ms) NMS\n",
            " The image with the result is saved in: runs/detect/pothole_detection_test_img2/1076.jpg\n",
            "1 pothole, Done. (4635.8ms) Inference, (0.9ms) NMS\n",
            " The image with the result is saved in: runs/detect/pothole_detection_test_img2/1077.jpg\n",
            "1 pothole, Done. (4598.3ms) Inference, (0.9ms) NMS\n",
            " The image with the result is saved in: runs/detect/pothole_detection_test_img2/1078.jpg\n",
            "2 potholes, Done. (3687.1ms) Inference, (0.8ms) NMS\n",
            " The image with the result is saved in: runs/detect/pothole_detection_test_img2/1079.jpg\n",
            "1 pothole, Done. (4600.3ms) Inference, (0.9ms) NMS\n",
            " The image with the result is saved in: runs/detect/pothole_detection_test_img2/1080.jpg\n",
            "3 potholes, Done. (3821.4ms) Inference, (0.9ms) NMS\n",
            " The image with the result is saved in: runs/detect/pothole_detection_test_img2/1081.jpg\n",
            "2 potholes, Done. (3737.0ms) Inference, (0.7ms) NMS\n",
            " The image with the result is saved in: runs/detect/pothole_detection_test_img2/1082.jpg\n",
            "4 potholes, Done. (4099.2ms) Inference, (0.8ms) NMS\n",
            " The image with the result is saved in: runs/detect/pothole_detection_test_img2/1083.jpg\n",
            "8 potholes, Done. (4161.6ms) Inference, (0.9ms) NMS\n",
            " The image with the result is saved in: runs/detect/pothole_detection_test_img2/1084.jpg\n",
            "3 potholes, Done. (3333.7ms) Inference, (0.9ms) NMS\n",
            " The image with the result is saved in: runs/detect/pothole_detection_test_img2/1085.jpg\n",
            "5 potholes, Done. (2804.4ms) Inference, (0.8ms) NMS\n",
            " The image with the result is saved in: runs/detect/pothole_detection_test_img2/1086.jpg\n",
            "1 pothole, Done. (4602.2ms) Inference, (0.8ms) NMS\n",
            " The image with the result is saved in: runs/detect/pothole_detection_test_img2/1087.jpg\n",
            "2 potholes, Done. (5733.8ms) Inference, (1.4ms) NMS\n",
            " The image with the result is saved in: runs/detect/pothole_detection_test_img2/1088.jpg\n",
            "1 pothole, Done. (5281.2ms) Inference, (0.9ms) NMS\n",
            " The image with the result is saved in: runs/detect/pothole_detection_test_img2/1089.jpg\n",
            "1 pothole, Done. (4591.4ms) Inference, (0.9ms) NMS\n",
            " The image with the result is saved in: runs/detect/pothole_detection_test_img2/1090.jpg\n",
            "4 potholes, Done. (5008.1ms) Inference, (1.8ms) NMS\n",
            " The image with the result is saved in: runs/detect/pothole_detection_test_img2/1091.jpg\n",
            "2 potholes, Done. (8447.2ms) Inference, (1.2ms) NMS\n",
            " The image with the result is saved in: runs/detect/pothole_detection_test_img2/1092.jpg\n",
            "1 pothole, Done. (4813.0ms) Inference, (0.8ms) NMS\n",
            " The image with the result is saved in: runs/detect/pothole_detection_test_img2/1093.jpg\n",
            "1 pothole, Done. (4496.7ms) Inference, (0.8ms) NMS\n",
            " The image with the result is saved in: runs/detect/pothole_detection_test_img2/1094.jpg\n",
            "3 potholes, Done. (3605.8ms) Inference, (0.7ms) NMS\n",
            " The image with the result is saved in: runs/detect/pothole_detection_test_img2/1095.jpg\n",
            "1 pothole, Done. (4446.0ms) Inference, (0.8ms) NMS\n",
            " The image with the result is saved in: runs/detect/pothole_detection_test_img2/1096.jpg\n",
            "1 pothole, Done. (3670.6ms) Inference, (0.8ms) NMS\n",
            " The image with the result is saved in: runs/detect/pothole_detection_test_img2/1097.jpg\n",
            "3 potholes, Done. (3601.6ms) Inference, (0.8ms) NMS\n",
            " The image with the result is saved in: runs/detect/pothole_detection_test_img2/1098.jpg\n",
            "7 potholes, Done. (2777.4ms) Inference, (0.8ms) NMS\n",
            " The image with the result is saved in: runs/detect/pothole_detection_test_img2/1099.jpg\n",
            "1 pothole, Done. (3726.1ms) Inference, (0.8ms) NMS\n",
            " The image with the result is saved in: runs/detect/pothole_detection_test_img2/1100.jpg\n",
            "5 potholes, Done. (4493.1ms) Inference, (0.9ms) NMS\n",
            " The image with the result is saved in: runs/detect/pothole_detection_test_img2/1101.jpg\n",
            "2 potholes, Done. (4554.5ms) Inference, (1.4ms) NMS\n",
            " The image with the result is saved in: runs/detect/pothole_detection_test_img2/1102.jpg\n",
            "1 pothole, Done. (3297.4ms) Inference, (0.8ms) NMS\n",
            " The image with the result is saved in: runs/detect/pothole_detection_test_img2/1103.jpg\n",
            "1 pothole, Done. (4514.1ms) Inference, (0.9ms) NMS\n",
            " The image with the result is saved in: runs/detect/pothole_detection_test_img2/1104.jpg\n",
            "1 pothole, Done. (3281.4ms) Inference, (0.8ms) NMS\n",
            " The image with the result is saved in: runs/detect/pothole_detection_test_img2/1105.jpg\n",
            "5 potholes, Done. (2792.1ms) Inference, (0.8ms) NMS\n",
            " The image with the result is saved in: runs/detect/pothole_detection_test_img2/1106.jpg\n",
            "4 potholes, Done. (3259.8ms) Inference, (0.8ms) NMS\n",
            " The image with the result is saved in: runs/detect/pothole_detection_test_img2/1107.jpg\n",
            "2 potholes, Done. (3700.8ms) Inference, (0.8ms) NMS\n",
            " The image with the result is saved in: runs/detect/pothole_detection_test_img2/1108.jpg\n",
            "1 pothole, Done. (4507.1ms) Inference, (0.8ms) NMS\n",
            " The image with the result is saved in: runs/detect/pothole_detection_test_img2/1109.jpg\n",
            "4 potholes, Done. (3190.9ms) Inference, (0.7ms) NMS\n",
            " The image with the result is saved in: runs/detect/pothole_detection_test_img2/1110.jpg\n",
            "1 pothole, Done. (3169.8ms) Inference, (0.8ms) NMS\n",
            " The image with the result is saved in: runs/detect/pothole_detection_test_img2/1111.jpg\n",
            "2 potholes, Done. (3646.2ms) Inference, (0.8ms) NMS\n",
            " The image with the result is saved in: runs/detect/pothole_detection_test_img2/1112.jpg\n",
            "3 potholes, Done. (4512.0ms) Inference, (0.8ms) NMS\n",
            " The image with the result is saved in: runs/detect/pothole_detection_test_img2/1113.jpg\n",
            "2 potholes, Done. (3182.5ms) Inference, (0.7ms) NMS\n",
            " The image with the result is saved in: runs/detect/pothole_detection_test_img2/1114.jpg\n",
            "1 pothole, Done. (2767.0ms) Inference, (1.2ms) NMS\n",
            " The image with the result is saved in: runs/detect/pothole_detection_test_img2/1115.jpg\n",
            "1 pothole, Done. (3723.4ms) Inference, (0.9ms) NMS\n",
            " The image with the result is saved in: runs/detect/pothole_detection_test_img2/1116.jpg\n",
            "3 potholes, Done. (4076.7ms) Inference, (1.1ms) NMS\n",
            " The image with the result is saved in: runs/detect/pothole_detection_test_img2/1117.jpg\n",
            "1 pothole, Done. (3302.9ms) Inference, (0.8ms) NMS\n",
            " The image with the result is saved in: runs/detect/pothole_detection_test_img2/1118.jpg\n",
            "2 potholes, Done. (2362.4ms) Inference, (0.8ms) NMS\n",
            " The image with the result is saved in: runs/detect/pothole_detection_test_img2/1119.jpg\n",
            "3 potholes, Done. (3223.5ms) Inference, (0.9ms) NMS\n",
            " The image with the result is saved in: runs/detect/pothole_detection_test_img2/1120.jpg\n",
            "8 potholes, Done. (5649.5ms) Inference, (0.9ms) NMS\n",
            " The image with the result is saved in: runs/detect/pothole_detection_test_img2/1121.jpg\n",
            "2 potholes, Done. (4483.9ms) Inference, (0.8ms) NMS\n",
            " The image with the result is saved in: runs/detect/pothole_detection_test_img2/1122.jpg\n",
            "4 potholes, Done. (4505.9ms) Inference, (0.9ms) NMS\n",
            " The image with the result is saved in: runs/detect/pothole_detection_test_img2/1123.jpg\n",
            "2 potholes, Done. (4058.8ms) Inference, (0.8ms) NMS\n",
            " The image with the result is saved in: runs/detect/pothole_detection_test_img2/1124.jpg\n",
            "1 pothole, Done. (3583.4ms) Inference, (0.8ms) NMS\n",
            " The image with the result is saved in: runs/detect/pothole_detection_test_img2/1125.jpg\n",
            "5 potholes, Done. (3634.9ms) Inference, (0.8ms) NMS\n",
            " The image with the result is saved in: runs/detect/pothole_detection_test_img2/1126.jpg\n",
            "5 potholes, Done. (3999.9ms) Inference, (0.8ms) NMS\n",
            " The image with the result is saved in: runs/detect/pothole_detection_test_img2/1127.jpg\n",
            "1 pothole, Done. (4423.5ms) Inference, (0.9ms) NMS\n",
            " The image with the result is saved in: runs/detect/pothole_detection_test_img2/1128.jpg\n",
            "1 pothole, Done. (4410.9ms) Inference, (0.8ms) NMS\n",
            " The image with the result is saved in: runs/detect/pothole_detection_test_img2/1129.jpg\n",
            "1 pothole, Done. (4401.0ms) Inference, (0.8ms) NMS\n",
            " The image with the result is saved in: runs/detect/pothole_detection_test_img2/1130.jpg\n",
            "6 potholes, Done. (2698.6ms) Inference, (0.7ms) NMS\n",
            " The image with the result is saved in: runs/detect/pothole_detection_test_img2/1131.jpg\n",
            "1 pothole, Done. (2309.8ms) Inference, (0.7ms) NMS\n",
            " The image with the result is saved in: runs/detect/pothole_detection_test_img2/1132.jpg\n",
            "2 potholes, Done. (3544.3ms) Inference, (0.7ms) NMS\n",
            " The image with the result is saved in: runs/detect/pothole_detection_test_img2/1133.jpg\n",
            "4 potholes, Done. (3981.7ms) Inference, (0.8ms) NMS\n",
            " The image with the result is saved in: runs/detect/pothole_detection_test_img2/1134.jpg\n",
            "1 pothole, Done. (2704.6ms) Inference, (0.7ms) NMS\n",
            " The image with the result is saved in: runs/detect/pothole_detection_test_img2/1135.jpg\n",
            "1 pothole, Done. (4429.7ms) Inference, (0.8ms) NMS\n",
            " The image with the result is saved in: runs/detect/pothole_detection_test_img2/1136.jpg\n",
            "1 pothole, Done. (3222.1ms) Inference, (0.7ms) NMS\n",
            " The image with the result is saved in: runs/detect/pothole_detection_test_img2/1137.jpg\n",
            "2 potholes, Done. (2721.7ms) Inference, (0.7ms) NMS\n",
            " The image with the result is saved in: runs/detect/pothole_detection_test_img2/1138.jpg\n",
            "4 potholes, Done. (4401.5ms) Inference, (1.0ms) NMS\n",
            " The image with the result is saved in: runs/detect/pothole_detection_test_img2/1139.jpg\n",
            "2 potholes, Done. (2296.3ms) Inference, (0.7ms) NMS\n",
            " The image with the result is saved in: runs/detect/pothole_detection_test_img2/1140.jpg\n",
            "4 potholes, Done. (3639.0ms) Inference, (0.8ms) NMS\n",
            " The image with the result is saved in: runs/detect/pothole_detection_test_img2/1141.jpg\n",
            "1 pothole, Done. (2292.4ms) Inference, (0.7ms) NMS\n",
            " The image with the result is saved in: runs/detect/pothole_detection_test_img2/1142.jpg\n",
            "1 pothole, Done. (1836.8ms) Inference, (0.7ms) NMS\n",
            " The image with the result is saved in: runs/detect/pothole_detection_test_img2/1143.jpg\n",
            "1 pothole, Done. (3131.7ms) Inference, (0.8ms) NMS\n",
            " The image with the result is saved in: runs/detect/pothole_detection_test_img2/1144.jpg\n",
            "1 pothole, Done. (4465.8ms) Inference, (0.7ms) NMS\n",
            " The image with the result is saved in: runs/detect/pothole_detection_test_img2/1145.jpg\n",
            "12 potholes, Done. (3577.7ms) Inference, (1.1ms) NMS\n",
            " The image with the result is saved in: runs/detect/pothole_detection_test_img2/1146.jpg\n",
            "2 potholes, Done. (3184.1ms) Inference, (0.8ms) NMS\n",
            " The image with the result is saved in: runs/detect/pothole_detection_test_img2/1147.jpg\n",
            "1 pothole, Done. (4422.0ms) Inference, (0.8ms) NMS\n",
            " The image with the result is saved in: runs/detect/pothole_detection_test_img2/1148.jpg\n",
            "2 potholes, Done. (3124.1ms) Inference, (0.8ms) NMS\n",
            " The image with the result is saved in: runs/detect/pothole_detection_test_img2/1149.jpg\n",
            "4 potholes, Done. (3108.0ms) Inference, (0.8ms) NMS\n",
            " The image with the result is saved in: runs/detect/pothole_detection_test_img2/1150.jpg\n",
            "9 potholes, Done. (3650.6ms) Inference, (0.8ms) NMS\n",
            " The image with the result is saved in: runs/detect/pothole_detection_test_img2/1151.jpg\n",
            "4 potholes, Done. (4384.8ms) Inference, (1.0ms) NMS\n",
            " The image with the result is saved in: runs/detect/pothole_detection_test_img2/1152.jpg\n",
            "2 potholes, Done. (3112.9ms) Inference, (0.7ms) NMS\n",
            " The image with the result is saved in: runs/detect/pothole_detection_test_img2/1153.jpg\n",
            "2 potholes, Done. (3141.4ms) Inference, (0.7ms) NMS\n",
            " The image with the result is saved in: runs/detect/pothole_detection_test_img2/1154.jpg\n",
            "1 pothole, Done. (4448.3ms) Inference, (0.7ms) NMS\n",
            " The image with the result is saved in: runs/detect/pothole_detection_test_img2/1155.jpg\n",
            "3 potholes, Done. (4966.4ms) Inference, (1.9ms) NMS\n",
            " The image with the result is saved in: runs/detect/pothole_detection_test_img2/1156.jpg\n",
            "2 potholes, Done. (4856.1ms) Inference, (0.7ms) NMS\n",
            " The image with the result is saved in: runs/detect/pothole_detection_test_img2/1157.jpg\n",
            "2 potholes, Done. (3129.5ms) Inference, (0.7ms) NMS\n",
            " The image with the result is saved in: runs/detect/pothole_detection_test_img2/1158.jpg\n",
            "4 potholes, Done. (2725.3ms) Inference, (0.7ms) NMS\n",
            " The image with the result is saved in: runs/detect/pothole_detection_test_img2/1159.jpg\n",
            "1 pothole, Done. (4384.7ms) Inference, (0.8ms) NMS\n",
            " The image with the result is saved in: runs/detect/pothole_detection_test_img2/1160.jpg\n",
            "3 potholes, Done. (3635.8ms) Inference, (0.7ms) NMS\n",
            " The image with the result is saved in: runs/detect/pothole_detection_test_img2/1161.jpg\n",
            "2 potholes, Done. (4428.6ms) Inference, (0.8ms) NMS\n",
            " The image with the result is saved in: runs/detect/pothole_detection_test_img2/1162.jpg\n",
            "2 potholes, Done. (4429.4ms) Inference, (0.8ms) NMS\n",
            " The image with the result is saved in: runs/detect/pothole_detection_test_img2/1163.jpg\n",
            "2 potholes, Done. (4400.0ms) Inference, (0.8ms) NMS\n",
            " The image with the result is saved in: runs/detect/pothole_detection_test_img2/1164.jpg\n",
            "3 potholes, Done. (2715.6ms) Inference, (0.7ms) NMS\n",
            " The image with the result is saved in: runs/detect/pothole_detection_test_img2/1165.jpg\n",
            "2 potholes, Done. (4436.4ms) Inference, (0.8ms) NMS\n",
            " The image with the result is saved in: runs/detect/pothole_detection_test_img2/1166.jpg\n",
            "5 potholes, Done. (2717.9ms) Inference, (0.7ms) NMS\n",
            " The image with the result is saved in: runs/detect/pothole_detection_test_img2/1167.jpg\n",
            "1 pothole, Done. (2752.2ms) Inference, (0.7ms) NMS\n",
            " The image with the result is saved in: runs/detect/pothole_detection_test_img2/1168.jpg\n",
            "2 potholes, Done. (3209.8ms) Inference, (0.7ms) NMS\n",
            " The image with the result is saved in: runs/detect/pothole_detection_test_img2/1169.jpg\n",
            "4 potholes, Done. (4446.1ms) Inference, (0.8ms) NMS\n",
            " The image with the result is saved in: runs/detect/pothole_detection_test_img2/1170.jpg\n",
            "3 potholes, Done. (2710.5ms) Inference, (0.8ms) NMS\n",
            " The image with the result is saved in: runs/detect/pothole_detection_test_img2/1171.jpg\n",
            "2 potholes, Done. (3611.3ms) Inference, (0.8ms) NMS\n",
            " The image with the result is saved in: runs/detect/pothole_detection_test_img2/1172.jpg\n",
            "4 potholes, Done. (2727.8ms) Inference, (0.7ms) NMS\n",
            " The image with the result is saved in: runs/detect/pothole_detection_test_img2/1173.jpg\n",
            "6 potholes, Done. (2713.8ms) Inference, (0.8ms) NMS\n",
            " The image with the result is saved in: runs/detect/pothole_detection_test_img2/1174.jpg\n",
            "6 potholes, Done. (4000.5ms) Inference, (0.9ms) NMS\n",
            " The image with the result is saved in: runs/detect/pothole_detection_test_img2/1175.jpg\n",
            "1 pothole, Done. (3116.3ms) Inference, (0.7ms) NMS\n",
            " The image with the result is saved in: runs/detect/pothole_detection_test_img2/1176.jpg\n",
            "2 potholes, Done. (2720.3ms) Inference, (0.7ms) NMS\n",
            " The image with the result is saved in: runs/detect/pothole_detection_test_img2/1177.jpg\n",
            "5 potholes, Done. (3121.4ms) Inference, (0.7ms) NMS\n",
            " The image with the result is saved in: runs/detect/pothole_detection_test_img2/1178.jpg\n",
            "4 potholes, Done. (4416.7ms) Inference, (0.8ms) NMS\n",
            " The image with the result is saved in: runs/detect/pothole_detection_test_img2/1179.jpg\n",
            "1 pothole, Done. (4427.3ms) Inference, (0.8ms) NMS\n",
            " The image with the result is saved in: runs/detect/pothole_detection_test_img2/1180.jpg\n",
            "2 potholes, Done. (3600.5ms) Inference, (0.8ms) NMS\n",
            " The image with the result is saved in: runs/detect/pothole_detection_test_img2/1181.jpg\n",
            "4 potholes, Done. (3629.1ms) Inference, (0.7ms) NMS\n",
            " The image with the result is saved in: runs/detect/pothole_detection_test_img2/1182.jpg\n",
            "2 potholes, Done. (3122.8ms) Inference, (0.9ms) NMS\n",
            " The image with the result is saved in: runs/detect/pothole_detection_test_img2/1183.jpg\n",
            "2 potholes, Done. (4433.7ms) Inference, (0.8ms) NMS\n",
            " The image with the result is saved in: runs/detect/pothole_detection_test_img2/1184.jpg\n",
            "2 potholes, Done. (4401.7ms) Inference, (0.8ms) NMS\n",
            " The image with the result is saved in: runs/detect/pothole_detection_test_img2/1185.jpg\n",
            "8 potholes, Done. (3644.5ms) Inference, (0.8ms) NMS\n",
            " The image with the result is saved in: runs/detect/pothole_detection_test_img2/1186.jpg\n",
            "8 potholes, Done. (2771.7ms) Inference, (0.7ms) NMS\n",
            " The image with the result is saved in: runs/detect/pothole_detection_test_img2/1187.jpg\n",
            "2 potholes, Done. (4393.7ms) Inference, (0.9ms) NMS\n",
            " The image with the result is saved in: runs/detect/pothole_detection_test_img2/1188.jpg\n",
            "2 potholes, Done. (4439.1ms) Inference, (0.8ms) NMS\n",
            " The image with the result is saved in: runs/detect/pothole_detection_test_img2/1189.jpg\n",
            "4 potholes, Done. (4403.4ms) Inference, (1.0ms) NMS\n",
            " The image with the result is saved in: runs/detect/pothole_detection_test_img2/1190.jpg\n",
            "3 potholes, Done. (3965.7ms) Inference, (0.8ms) NMS\n",
            " The image with the result is saved in: runs/detect/pothole_detection_test_img2/1191.jpg\n",
            "2 potholes, Done. (6302.0ms) Inference, (0.8ms) NMS\n",
            " The image with the result is saved in: runs/detect/pothole_detection_test_img2/1192.jpg\n",
            "2 potholes, Done. (4400.0ms) Inference, (0.8ms) NMS\n",
            " The image with the result is saved in: runs/detect/pothole_detection_test_img2/1193.jpg\n",
            "1 pothole, Done. (4419.1ms) Inference, (0.8ms) NMS\n",
            " The image with the result is saved in: runs/detect/pothole_detection_test_img2/1194.jpg\n",
            "5 potholes, Done. (3613.9ms) Inference, (0.8ms) NMS\n",
            " The image with the result is saved in: runs/detect/pothole_detection_test_img2/1195.jpg\n",
            "2 potholes, Done. (3559.5ms) Inference, (0.7ms) NMS\n",
            " The image with the result is saved in: runs/detect/pothole_detection_test_img2/1196.jpg\n",
            "2 potholes, Done. (3116.1ms) Inference, (0.8ms) NMS\n",
            " The image with the result is saved in: runs/detect/pothole_detection_test_img2/1197.jpg\n",
            "2 potholes, Done. (4427.2ms) Inference, (0.8ms) NMS\n",
            " The image with the result is saved in: runs/detect/pothole_detection_test_img2/1198.jpg\n",
            "3 potholes, Done. (4453.6ms) Inference, (0.8ms) NMS\n",
            " The image with the result is saved in: runs/detect/pothole_detection_test_img2/1199.jpg\n",
            "1 pothole, Done. (3117.7ms) Inference, (0.7ms) NMS\n",
            " The image with the result is saved in: runs/detect/pothole_detection_test_img2/1200.jpg\n",
            "11 potholes, Done. (3604.0ms) Inference, (0.7ms) NMS\n",
            " The image with the result is saved in: runs/detect/pothole_detection_test_img2/1201.jpg\n",
            "2 potholes, Done. (3627.9ms) Inference, (0.7ms) NMS\n",
            " The image with the result is saved in: runs/detect/pothole_detection_test_img2/1202.jpg\n",
            "1 pothole, Done. (4401.8ms) Inference, (0.8ms) NMS\n",
            " The image with the result is saved in: runs/detect/pothole_detection_test_img2/1203.jpg\n",
            "2 potholes, Done. (2724.8ms) Inference, (0.7ms) NMS\n",
            " The image with the result is saved in: runs/detect/pothole_detection_test_img2/1204.jpg\n",
            "2 potholes, Done. (4584.2ms) Inference, (0.8ms) NMS\n",
            " The image with the result is saved in: runs/detect/pothole_detection_test_img2/1205.jpg\n",
            "2 potholes, Done. (4491.8ms) Inference, (0.8ms) NMS\n",
            " The image with the result is saved in: runs/detect/pothole_detection_test_img2/1206.jpg\n",
            "3 potholes, Done. (3962.9ms) Inference, (0.8ms) NMS\n",
            " The image with the result is saved in: runs/detect/pothole_detection_test_img2/1207.jpg\n",
            "2 potholes, Done. (2726.4ms) Inference, (0.7ms) NMS\n",
            " The image with the result is saved in: runs/detect/pothole_detection_test_img2/1208.jpg\n",
            "3 potholes, Done. (2699.3ms) Inference, (0.8ms) NMS\n",
            " The image with the result is saved in: runs/detect/pothole_detection_test_img2/1209.jpg\n",
            "5 potholes, Done. (3881.7ms) Inference, (0.8ms) NMS\n",
            " The image with the result is saved in: runs/detect/pothole_detection_test_img2/1210.jpg\n",
            "2 potholes, Done. (3753.8ms) Inference, (0.8ms) NMS\n",
            " The image with the result is saved in: runs/detect/pothole_detection_test_img2/1211.jpg\n",
            "1 pothole, Done. (3248.2ms) Inference, (0.7ms) NMS\n",
            " The image with the result is saved in: runs/detect/pothole_detection_test_img2/1212.jpg\n",
            "2 potholes, Done. (4545.3ms) Inference, (0.8ms) NMS\n",
            " The image with the result is saved in: runs/detect/pothole_detection_test_img2/1213.jpg\n",
            "4 potholes, Done. (4151.0ms) Inference, (0.9ms) NMS\n",
            " The image with the result is saved in: runs/detect/pothole_detection_test_img2/1214.jpg\n",
            "1 pothole, Done. (3239.3ms) Inference, (0.7ms) NMS\n",
            " The image with the result is saved in: runs/detect/pothole_detection_test_img2/1215.jpg\n",
            "1 pothole, Done. (3275.0ms) Inference, (0.7ms) NMS\n",
            " The image with the result is saved in: runs/detect/pothole_detection_test_img2/1216.jpg\n",
            "13 potholes, Done. (3218.6ms) Inference, (0.8ms) NMS\n",
            " The image with the result is saved in: runs/detect/pothole_detection_test_img2/1217.jpg\n",
            "1 pothole, Done. (4409.2ms) Inference, (0.8ms) NMS\n",
            " The image with the result is saved in: runs/detect/pothole_detection_test_img2/1218.jpg\n",
            "1 pothole, Done. (3662.1ms) Inference, (0.7ms) NMS\n",
            " The image with the result is saved in: runs/detect/pothole_detection_test_img2/1219.jpg\n",
            "3 potholes, Done. (5566.0ms) Inference, (0.8ms) NMS\n",
            " The image with the result is saved in: runs/detect/pothole_detection_test_img2/1220.jpg\n",
            "1 pothole, Done. (4662.3ms) Inference, (0.9ms) NMS\n",
            " The image with the result is saved in: runs/detect/pothole_detection_test_img2/1221.jpg\n",
            "2 potholes, Done. (5662.2ms) Inference, (1.1ms) NMS\n",
            " The image with the result is saved in: runs/detect/pothole_detection_test_img2/1222.jpg\n",
            "4 potholes, Done. (3775.7ms) Inference, (0.7ms) NMS\n",
            " The image with the result is saved in: runs/detect/pothole_detection_test_img2/1223.jpg\n",
            "1 pothole, Done. (3797.4ms) Inference, (1.0ms) NMS\n",
            " The image with the result is saved in: runs/detect/pothole_detection_test_img2/1224.jpg\n",
            "1 pothole, Done. (5272.6ms) Inference, (0.7ms) NMS\n",
            " The image with the result is saved in: runs/detect/pothole_detection_test_img2/1225.jpg\n",
            "5 potholes, Done. (3212.4ms) Inference, (1.0ms) NMS\n",
            " The image with the result is saved in: runs/detect/pothole_detection_test_img2/1226.jpg\n",
            "4 potholes, Done. (5921.2ms) Inference, (0.8ms) NMS\n",
            " The image with the result is saved in: runs/detect/pothole_detection_test_img2/1227.jpg\n",
            "1 pothole, Done. (4488.3ms) Inference, (0.8ms) NMS\n",
            " The image with the result is saved in: runs/detect/pothole_detection_test_img2/1228.jpg\n",
            "1 pothole, Done. (3142.6ms) Inference, (0.7ms) NMS\n",
            " The image with the result is saved in: runs/detect/pothole_detection_test_img2/1229.jpg\n",
            "5 potholes, Done. (3159.8ms) Inference, (0.8ms) NMS\n",
            " The image with the result is saved in: runs/detect/pothole_detection_test_img2/1230.jpg\n",
            "2 potholes, Done. (4623.3ms) Inference, (0.8ms) NMS\n",
            " The image with the result is saved in: runs/detect/pothole_detection_test_img2/675.jpg\n",
            "4 potholes, Done. (3203.5ms) Inference, (0.8ms) NMS\n",
            " The image with the result is saved in: runs/detect/pothole_detection_test_img2/676.jpg\n",
            "2 potholes, Done. (3113.5ms) Inference, (0.8ms) NMS\n",
            " The image with the result is saved in: runs/detect/pothole_detection_test_img2/677.jpg\n",
            "4 potholes, Done. (4439.2ms) Inference, (0.8ms) NMS\n",
            " The image with the result is saved in: runs/detect/pothole_detection_test_img2/678.jpg\n",
            "2 potholes, Done. (3968.9ms) Inference, (0.8ms) NMS\n",
            " The image with the result is saved in: runs/detect/pothole_detection_test_img2/679.jpg\n",
            "1 pothole, Done. (3600.9ms) Inference, (0.8ms) NMS\n",
            " The image with the result is saved in: runs/detect/pothole_detection_test_img2/680.jpg\n",
            "4 potholes, Done. (2765.5ms) Inference, (0.7ms) NMS\n",
            " The image with the result is saved in: runs/detect/pothole_detection_test_img2/681.jpg\n",
            "5 potholes, Done. (2724.5ms) Inference, (0.8ms) NMS\n",
            " The image with the result is saved in: runs/detect/pothole_detection_test_img2/682.jpg\n",
            "1 pothole, Done. (4561.6ms) Inference, (0.8ms) NMS\n",
            " The image with the result is saved in: runs/detect/pothole_detection_test_img2/683.jpg\n",
            "1 pothole, Done. (3289.3ms) Inference, (0.7ms) NMS\n",
            " The image with the result is saved in: runs/detect/pothole_detection_test_img2/684.jpg\n",
            "3 potholes, Done. (3298.5ms) Inference, (0.8ms) NMS\n",
            " The image with the result is saved in: runs/detect/pothole_detection_test_img2/685.jpg\n",
            "1 pothole, Done. (4143.0ms) Inference, (0.8ms) NMS\n",
            " The image with the result is saved in: runs/detect/pothole_detection_test_img2/686.jpg\n",
            "13 potholes, Done. (3691.2ms) Inference, (0.8ms) NMS\n",
            " The image with the result is saved in: runs/detect/pothole_detection_test_img2/687.jpg\n",
            "1 pothole, Done. (4644.7ms) Inference, (1.5ms) NMS\n",
            " The image with the result is saved in: runs/detect/pothole_detection_test_img2/688.jpg\n",
            "5 potholes, Done. (3881.9ms) Inference, (0.8ms) NMS\n",
            " The image with the result is saved in: runs/detect/pothole_detection_test_img2/689.jpg\n",
            "2 potholes, Done. (3414.1ms) Inference, (0.7ms) NMS\n",
            " The image with the result is saved in: runs/detect/pothole_detection_test_img2/690.jpg\n",
            "1 pothole, Done. (5217.6ms) Inference, (0.8ms) NMS\n",
            " The image with the result is saved in: runs/detect/pothole_detection_test_img2/691.jpg\n",
            "9 potholes, Done. (5428.4ms) Inference, (0.8ms) NMS\n",
            " The image with the result is saved in: runs/detect/pothole_detection_test_img2/692.jpg\n",
            "2 potholes, Done. (2718.7ms) Inference, (0.7ms) NMS\n",
            " The image with the result is saved in: runs/detect/pothole_detection_test_img2/693.jpg\n",
            "2 potholes, Done. (5250.2ms) Inference, (4.7ms) NMS\n",
            " The image with the result is saved in: runs/detect/pothole_detection_test_img2/694.jpg\n",
            "1 pothole, Done. (7269.8ms) Inference, (0.8ms) NMS\n",
            " The image with the result is saved in: runs/detect/pothole_detection_test_img2/695.jpg\n",
            "1 pothole, Done. (4805.4ms) Inference, (0.8ms) NMS\n",
            " The image with the result is saved in: runs/detect/pothole_detection_test_img2/696.jpg\n",
            "4 potholes, Done. (4470.8ms) Inference, (0.9ms) NMS\n",
            " The image with the result is saved in: runs/detect/pothole_detection_test_img2/697.jpg\n",
            "1 pothole, Done. (3621.5ms) Inference, (0.7ms) NMS\n",
            " The image with the result is saved in: runs/detect/pothole_detection_test_img2/698.jpg\n",
            "1 pothole, Done. (4428.3ms) Inference, (0.8ms) NMS\n",
            " The image with the result is saved in: runs/detect/pothole_detection_test_img2/699.jpg\n",
            "3 potholes, Done. (3959.3ms) Inference, (0.8ms) NMS\n",
            " The image with the result is saved in: runs/detect/pothole_detection_test_img2/700.jpg\n",
            "10 potholes, Done. (5023.7ms) Inference, (0.8ms) NMS\n",
            " The image with the result is saved in: runs/detect/pothole_detection_test_img2/701.jpg\n",
            "2 potholes, Done. (3138.7ms) Inference, (2.1ms) NMS\n",
            " The image with the result is saved in: runs/detect/pothole_detection_test_img2/702.jpg\n",
            "2 potholes, Done. (4405.4ms) Inference, (0.8ms) NMS\n",
            " The image with the result is saved in: runs/detect/pothole_detection_test_img2/703.jpg\n",
            "3 potholes, Done. (4006.1ms) Inference, (1.0ms) NMS\n",
            " The image with the result is saved in: runs/detect/pothole_detection_test_img2/704.jpg\n",
            "3 potholes, Done. (3220.1ms) Inference, (0.7ms) NMS\n",
            " The image with the result is saved in: runs/detect/pothole_detection_test_img2/705.jpg\n",
            "6 potholes, Done. (3586.1ms) Inference, (0.8ms) NMS\n",
            " The image with the result is saved in: runs/detect/pothole_detection_test_img2/706.jpg\n",
            "1 pothole, Done. (4412.1ms) Inference, (0.8ms) NMS\n",
            " The image with the result is saved in: runs/detect/pothole_detection_test_img2/707.jpg\n",
            "2 potholes, Done. (4390.1ms) Inference, (0.8ms) NMS\n",
            " The image with the result is saved in: runs/detect/pothole_detection_test_img2/708.jpg\n",
            "3 potholes, Done. (3128.0ms) Inference, (0.7ms) NMS\n",
            " The image with the result is saved in: runs/detect/pothole_detection_test_img2/709.jpg\n",
            "3 potholes, Done. (3580.8ms) Inference, (0.8ms) NMS\n",
            " The image with the result is saved in: runs/detect/pothole_detection_test_img2/710.jpg\n",
            "4 potholes, Done. (2687.9ms) Inference, (0.7ms) NMS\n",
            " The image with the result is saved in: runs/detect/pothole_detection_test_img2/711.jpg\n",
            "5 potholes, Done. (3117.3ms) Inference, (0.8ms) NMS\n",
            " The image with the result is saved in: runs/detect/pothole_detection_test_img2/712.jpg\n",
            "2 potholes, Done. (3607.6ms) Inference, (0.8ms) NMS\n",
            " The image with the result is saved in: runs/detect/pothole_detection_test_img2/713.jpg\n",
            "1 pothole, Done. (4802.1ms) Inference, (0.8ms) NMS\n",
            " The image with the result is saved in: runs/detect/pothole_detection_test_img2/714.jpg\n",
            "1 pothole, Done. (4452.8ms) Inference, (0.8ms) NMS\n",
            " The image with the result is saved in: runs/detect/pothole_detection_test_img2/715.jpg\n",
            "3 potholes, Done. (3137.0ms) Inference, (0.7ms) NMS\n",
            " The image with the result is saved in: runs/detect/pothole_detection_test_img2/716.jpg\n",
            "1 pothole, Done. (4011.1ms) Inference, (0.8ms) NMS\n",
            " The image with the result is saved in: runs/detect/pothole_detection_test_img2/717.jpg\n",
            "1 pothole, Done. (3121.7ms) Inference, (0.7ms) NMS\n",
            " The image with the result is saved in: runs/detect/pothole_detection_test_img2/718.jpg\n",
            "1 pothole, Done. (4440.1ms) Inference, (1.0ms) NMS\n",
            " The image with the result is saved in: runs/detect/pothole_detection_test_img2/719.jpg\n",
            "2 potholes, Done. (4544.1ms) Inference, (0.8ms) NMS\n",
            " The image with the result is saved in: runs/detect/pothole_detection_test_img2/720.jpg\n",
            "2 potholes, Done. (4384.8ms) Inference, (0.8ms) NMS\n",
            " The image with the result is saved in: runs/detect/pothole_detection_test_img2/721.jpg\n",
            "1 pothole, Done. (4399.0ms) Inference, (1.0ms) NMS\n",
            " The image with the result is saved in: runs/detect/pothole_detection_test_img2/722.jpg\n",
            "1 pothole, Done. (4393.6ms) Inference, (0.8ms) NMS\n",
            " The image with the result is saved in: runs/detect/pothole_detection_test_img2/723.jpg\n",
            "2 potholes, Done. (2719.0ms) Inference, (0.7ms) NMS\n",
            " The image with the result is saved in: runs/detect/pothole_detection_test_img2/724.jpg\n",
            "2 potholes, Done. (4388.8ms) Inference, (0.8ms) NMS\n",
            " The image with the result is saved in: runs/detect/pothole_detection_test_img2/725.jpg\n",
            "1 pothole, Done. (2744.3ms) Inference, (0.9ms) NMS\n",
            " The image with the result is saved in: runs/detect/pothole_detection_test_img2/726.jpg\n",
            "2 potholes, Done. (2722.5ms) Inference, (0.8ms) NMS\n",
            " The image with the result is saved in: runs/detect/pothole_detection_test_img2/727.jpg\n",
            "4 potholes, Done. (2717.1ms) Inference, (0.8ms) NMS\n",
            " The image with the result is saved in: runs/detect/pothole_detection_test_img2/728.jpg\n",
            "2 potholes, Done. (2743.2ms) Inference, (0.7ms) NMS\n",
            " The image with the result is saved in: runs/detect/pothole_detection_test_img2/729.jpg\n",
            "3 potholes, Done. (4465.6ms) Inference, (1.1ms) NMS\n",
            " The image with the result is saved in: runs/detect/pothole_detection_test_img2/730.jpg\n",
            "4 potholes, Done. (3198.4ms) Inference, (0.7ms) NMS\n",
            " The image with the result is saved in: runs/detect/pothole_detection_test_img2/731.jpg\n",
            "5 potholes, Done. (3599.6ms) Inference, (0.8ms) NMS\n",
            " The image with the result is saved in: runs/detect/pothole_detection_test_img2/732.jpg\n",
            "3 potholes, Done. (4021.0ms) Inference, (0.8ms) NMS\n",
            " The image with the result is saved in: runs/detect/pothole_detection_test_img2/733.jpg\n",
            "2 potholes, Done. (4417.0ms) Inference, (0.7ms) NMS\n",
            " The image with the result is saved in: runs/detect/pothole_detection_test_img2/734.jpg\n",
            "1 pothole, Done. (4422.6ms) Inference, (1.0ms) NMS\n",
            " The image with the result is saved in: runs/detect/pothole_detection_test_img2/735.jpg\n",
            "3 potholes, Done. (6339.0ms) Inference, (0.8ms) NMS\n",
            " The image with the result is saved in: runs/detect/pothole_detection_test_img2/736.jpg\n",
            "12 potholes, Done. (2326.5ms) Inference, (0.8ms) NMS\n",
            " The image with the result is saved in: runs/detect/pothole_detection_test_img2/737.jpg\n",
            "4 potholes, Done. (3972.6ms) Inference, (0.8ms) NMS\n",
            " The image with the result is saved in: runs/detect/pothole_detection_test_img2/738.jpg\n",
            "2 potholes, Done. (4458.0ms) Inference, (1.1ms) NMS\n",
            " The image with the result is saved in: runs/detect/pothole_detection_test_img2/739.jpg\n",
            "2 potholes, Done. (4381.4ms) Inference, (0.8ms) NMS\n",
            " The image with the result is saved in: runs/detect/pothole_detection_test_img2/740.jpg\n",
            "1 pothole, Done. (4433.4ms) Inference, (0.8ms) NMS\n",
            " The image with the result is saved in: runs/detect/pothole_detection_test_img2/741.jpg\n",
            "19 potholes, Done. (3143.9ms) Inference, (0.8ms) NMS\n",
            " The image with the result is saved in: runs/detect/pothole_detection_test_img2/742.jpg\n",
            "5 potholes, Done. (3154.2ms) Inference, (1.0ms) NMS\n",
            " The image with the result is saved in: runs/detect/pothole_detection_test_img2/743.jpg\n",
            "1 pothole, Done. (4480.1ms) Inference, (0.8ms) NMS\n",
            " The image with the result is saved in: runs/detect/pothole_detection_test_img2/744.jpg\n",
            "4 potholes, Done. (3985.2ms) Inference, (0.8ms) NMS\n",
            " The image with the result is saved in: runs/detect/pothole_detection_test_img2/745.jpg\n",
            "3 potholes, Done. (4474.9ms) Inference, (0.8ms) NMS\n",
            " The image with the result is saved in: runs/detect/pothole_detection_test_img2/746.jpg\n",
            "1 pothole, Done. (4500.8ms) Inference, (0.8ms) NMS\n",
            " The image with the result is saved in: runs/detect/pothole_detection_test_img2/747.jpg\n",
            "2 potholes, Done. (3581.8ms) Inference, (0.8ms) NMS\n",
            " The image with the result is saved in: runs/detect/pothole_detection_test_img2/748.jpg\n",
            "4 potholes, Done. (2734.2ms) Inference, (0.8ms) NMS\n",
            " The image with the result is saved in: runs/detect/pothole_detection_test_img2/749.jpg\n",
            "2 potholes, Done. (4487.2ms) Inference, (1.1ms) NMS\n",
            " The image with the result is saved in: runs/detect/pothole_detection_test_img2/750.jpg\n",
            "1 pothole, Done. (4478.8ms) Inference, (1.0ms) NMS\n",
            " The image with the result is saved in: runs/detect/pothole_detection_test_img2/751.jpg\n",
            "5 potholes, Done. (2757.5ms) Inference, (0.8ms) NMS\n",
            " The image with the result is saved in: runs/detect/pothole_detection_test_img2/752.jpg\n",
            "1 pothole, Done. (3974.4ms) Inference, (0.8ms) NMS\n",
            " The image with the result is saved in: runs/detect/pothole_detection_test_img2/753.jpg\n",
            "4 potholes, Done. (2698.6ms) Inference, (0.7ms) NMS\n",
            " The image with the result is saved in: runs/detect/pothole_detection_test_img2/754.jpg\n",
            "8 potholes, Done. (4481.5ms) Inference, (0.8ms) NMS\n",
            " The image with the result is saved in: runs/detect/pothole_detection_test_img2/755.jpg\n",
            "3 potholes, Done. (2726.9ms) Inference, (0.7ms) NMS\n",
            " The image with the result is saved in: runs/detect/pothole_detection_test_img2/756.jpg\n",
            "1 pothole, Done. (4555.7ms) Inference, (0.8ms) NMS\n",
            " The image with the result is saved in: runs/detect/pothole_detection_test_img2/757.jpg\n",
            "4 potholes, Done. (4433.6ms) Inference, (1.0ms) NMS\n",
            " The image with the result is saved in: runs/detect/pothole_detection_test_img2/758.jpg\n",
            "2 potholes, Done. (4434.6ms) Inference, (0.9ms) NMS\n",
            " The image with the result is saved in: runs/detect/pothole_detection_test_img2/759.jpg\n",
            "3 potholes, Done. (3173.3ms) Inference, (0.7ms) NMS\n",
            " The image with the result is saved in: runs/detect/pothole_detection_test_img2/760.jpg\n",
            "2 potholes, Done. (4370.1ms) Inference, (0.7ms) NMS\n",
            " The image with the result is saved in: runs/detect/pothole_detection_test_img2/761.jpg\n",
            "5 potholes, Done. (3564.1ms) Inference, (0.8ms) NMS\n",
            " The image with the result is saved in: runs/detect/pothole_detection_test_img2/762.jpg\n",
            "16 potholes, Done. (3162.9ms) Inference, (0.8ms) NMS\n",
            " The image with the result is saved in: runs/detect/pothole_detection_test_img2/763.jpg\n",
            "1 pothole, Done. (4395.1ms) Inference, (0.8ms) NMS\n",
            " The image with the result is saved in: runs/detect/pothole_detection_test_img2/764.jpg\n",
            "8 potholes, Done. (2286.8ms) Inference, (0.8ms) NMS\n",
            " The image with the result is saved in: runs/detect/pothole_detection_test_img2/765.jpg\n",
            "2 potholes, Done. (4484.2ms) Inference, (0.8ms) NMS\n",
            " The image with the result is saved in: runs/detect/pothole_detection_test_img2/766.jpg\n",
            "3 potholes, Done. (4425.0ms) Inference, (0.8ms) NMS\n",
            " The image with the result is saved in: runs/detect/pothole_detection_test_img2/767.jpg\n",
            "8 potholes, Done. (3126.6ms) Inference, (0.7ms) NMS\n",
            " The image with the result is saved in: runs/detect/pothole_detection_test_img2/768.jpg\n",
            "2 potholes, Done. (3975.6ms) Inference, (0.8ms) NMS\n",
            " The image with the result is saved in: runs/detect/pothole_detection_test_img2/769.jpg\n",
            "3 potholes, Done. (3578.2ms) Inference, (0.8ms) NMS\n",
            " The image with the result is saved in: runs/detect/pothole_detection_test_img2/770.jpg\n",
            "1 pothole, Done. (4181.4ms) Inference, (1.0ms) NMS\n",
            " The image with the result is saved in: runs/detect/pothole_detection_test_img2/771.jpg\n",
            "3 potholes, Done. (4790.3ms) Inference, (0.8ms) NMS\n",
            " The image with the result is saved in: runs/detect/pothole_detection_test_img2/772.jpg\n",
            "5 potholes, Done. (3567.8ms) Inference, (0.8ms) NMS\n",
            " The image with the result is saved in: runs/detect/pothole_detection_test_img2/773.jpg\n",
            "2 potholes, Done. (3636.3ms) Inference, (0.8ms) NMS\n",
            " The image with the result is saved in: runs/detect/pothole_detection_test_img2/774.jpg\n",
            "4 potholes, Done. (4419.9ms) Inference, (0.8ms) NMS\n",
            " The image with the result is saved in: runs/detect/pothole_detection_test_img2/775.jpg\n",
            "1 pothole, Done. (3647.7ms) Inference, (0.7ms) NMS\n",
            " The image with the result is saved in: runs/detect/pothole_detection_test_img2/776.jpg\n",
            "6 potholes, Done. (3209.4ms) Inference, (0.8ms) NMS\n",
            " The image with the result is saved in: runs/detect/pothole_detection_test_img2/777.jpg\n",
            "3 potholes, Done. (4410.2ms) Inference, (0.8ms) NMS\n",
            " The image with the result is saved in: runs/detect/pothole_detection_test_img2/778.jpg\n",
            "1 pothole, Done. (4408.9ms) Inference, (0.8ms) NMS\n",
            " The image with the result is saved in: runs/detect/pothole_detection_test_img2/779.jpg\n",
            "2 potholes, Done. (4374.6ms) Inference, (0.8ms) NMS\n",
            " The image with the result is saved in: runs/detect/pothole_detection_test_img2/780.jpg\n",
            "3 potholes, Done. (3240.5ms) Inference, (0.8ms) NMS\n",
            " The image with the result is saved in: runs/detect/pothole_detection_test_img2/781.jpg\n",
            "2 potholes, Done. (3652.0ms) Inference, (1.2ms) NMS\n",
            " The image with the result is saved in: runs/detect/pothole_detection_test_img2/782.jpg\n",
            "8 potholes, Done. (2719.6ms) Inference, (0.8ms) NMS\n",
            " The image with the result is saved in: runs/detect/pothole_detection_test_img2/783.jpg\n",
            "3 potholes, Done. (3972.3ms) Inference, (0.8ms) NMS\n",
            " The image with the result is saved in: runs/detect/pothole_detection_test_img2/784.jpg\n",
            "3 potholes, Done. (4448.4ms) Inference, (0.8ms) NMS\n",
            " The image with the result is saved in: runs/detect/pothole_detection_test_img2/785.jpg\n",
            "1 pothole, Done. (4390.1ms) Inference, (0.8ms) NMS\n",
            " The image with the result is saved in: runs/detect/pothole_detection_test_img2/786.jpg\n",
            "5 potholes, Done. (3143.1ms) Inference, (0.7ms) NMS\n",
            " The image with the result is saved in: runs/detect/pothole_detection_test_img2/787.jpg\n",
            "1 pothole, Done. (3134.3ms) Inference, (0.8ms) NMS\n",
            " The image with the result is saved in: runs/detect/pothole_detection_test_img2/788.jpg\n",
            "9 potholes, Done. (2729.9ms) Inference, (0.7ms) NMS\n",
            " The image with the result is saved in: runs/detect/pothole_detection_test_img2/789.jpg\n",
            "1 pothole, Done. (4444.3ms) Inference, (1.2ms) NMS\n",
            " The image with the result is saved in: runs/detect/pothole_detection_test_img2/790.jpg\n",
            "6 potholes, Done. (3124.1ms) Inference, (0.7ms) NMS\n",
            " The image with the result is saved in: runs/detect/pothole_detection_test_img2/791.jpg\n",
            "5 potholes, Done. (2704.1ms) Inference, (0.7ms) NMS\n",
            " The image with the result is saved in: runs/detect/pothole_detection_test_img2/792.jpg\n",
            "5 potholes, Done. (3918.6ms) Inference, (0.7ms) NMS\n",
            " The image with the result is saved in: runs/detect/pothole_detection_test_img2/793.jpg\n",
            "2 potholes, Done. (4442.8ms) Inference, (0.8ms) NMS\n",
            " The image with the result is saved in: runs/detect/pothole_detection_test_img2/794.jpg\n",
            "7 potholes, Done. (2708.9ms) Inference, (0.9ms) NMS\n",
            " The image with the result is saved in: runs/detect/pothole_detection_test_img2/795.jpg\n",
            "2 potholes, Done. (4418.9ms) Inference, (0.7ms) NMS\n",
            " The image with the result is saved in: runs/detect/pothole_detection_test_img2/796.jpg\n",
            "2 potholes, Done. (3143.2ms) Inference, (0.7ms) NMS\n",
            " The image with the result is saved in: runs/detect/pothole_detection_test_img2/797.jpg\n",
            "1 pothole, Done. (3687.5ms) Inference, (0.8ms) NMS\n",
            " The image with the result is saved in: runs/detect/pothole_detection_test_img2/798.jpg\n",
            "1 pothole, Done. (2737.8ms) Inference, (0.7ms) NMS\n",
            " The image with the result is saved in: runs/detect/pothole_detection_test_img2/799.jpg\n",
            "12 potholes, Done. (3653.2ms) Inference, (0.8ms) NMS\n",
            " The image with the result is saved in: runs/detect/pothole_detection_test_img2/800.jpg\n",
            "2 potholes, Done. (3559.8ms) Inference, (1.0ms) NMS\n",
            " The image with the result is saved in: runs/detect/pothole_detection_test_img2/801.jpg\n",
            "1 pothole, Done. (4464.2ms) Inference, (0.8ms) NMS\n",
            " The image with the result is saved in: runs/detect/pothole_detection_test_img2/802.jpg\n",
            "5 potholes, Done. (4378.8ms) Inference, (0.9ms) NMS\n",
            " The image with the result is saved in: runs/detect/pothole_detection_test_img2/803.jpg\n",
            "1 pothole, Done. (3124.6ms) Inference, (0.7ms) NMS\n",
            " The image with the result is saved in: runs/detect/pothole_detection_test_img2/804.jpg\n",
            "7 potholes, Done. (3587.2ms) Inference, (0.8ms) NMS\n",
            " The image with the result is saved in: runs/detect/pothole_detection_test_img2/805.jpg\n",
            "3 potholes, Done. (4017.0ms) Inference, (0.8ms) NMS\n",
            " The image with the result is saved in: runs/detect/pothole_detection_test_img2/806.jpg\n",
            "3 potholes, Done. (4799.0ms) Inference, (1.1ms) NMS\n",
            " The image with the result is saved in: runs/detect/pothole_detection_test_img2/807.jpg\n",
            "1 pothole, Done. (2725.9ms) Inference, (1.0ms) NMS\n",
            " The image with the result is saved in: runs/detect/pothole_detection_test_img2/808.jpg\n",
            "1 pothole, Done. (5714.4ms) Inference, (1.1ms) NMS\n",
            " The image with the result is saved in: runs/detect/pothole_detection_test_img2/809.jpg\n",
            "1 pothole, Done. (3683.5ms) Inference, (0.7ms) NMS\n",
            " The image with the result is saved in: runs/detect/pothole_detection_test_img2/810.jpg\n",
            "1 pothole, Done. (3585.9ms) Inference, (0.8ms) NMS\n",
            " The image with the result is saved in: runs/detect/pothole_detection_test_img2/811.jpg\n",
            "3 potholes, Done. (3175.8ms) Inference, (0.7ms) NMS\n",
            " The image with the result is saved in: runs/detect/pothole_detection_test_img2/812.jpg\n",
            "6 potholes, Done. (4470.4ms) Inference, (0.8ms) NMS\n",
            " The image with the result is saved in: runs/detect/pothole_detection_test_img2/813.jpg\n",
            "4 potholes, Done. (2336.5ms) Inference, (1.1ms) NMS\n",
            " The image with the result is saved in: runs/detect/pothole_detection_test_img2/814.jpg\n",
            "1 pothole, Done. (4430.5ms) Inference, (0.8ms) NMS\n",
            " The image with the result is saved in: runs/detect/pothole_detection_test_img2/815.jpg\n",
            "1 pothole, Done. (4393.8ms) Inference, (0.8ms) NMS\n",
            " The image with the result is saved in: runs/detect/pothole_detection_test_img2/816.jpg\n",
            "1 pothole, Done. (3126.4ms) Inference, (1.0ms) NMS\n",
            " The image with the result is saved in: runs/detect/pothole_detection_test_img2/817.jpg\n",
            "1 pothole, Done. (3150.4ms) Inference, (0.8ms) NMS\n",
            " The image with the result is saved in: runs/detect/pothole_detection_test_img2/818.jpg\n",
            "3 potholes, Done. (4393.8ms) Inference, (0.9ms) NMS\n",
            " The image with the result is saved in: runs/detect/pothole_detection_test_img2/819.jpg\n",
            "1 pothole, Done. (4374.9ms) Inference, (0.8ms) NMS\n",
            " The image with the result is saved in: runs/detect/pothole_detection_test_img2/820.jpg\n",
            "1 pothole, Done. (4421.5ms) Inference, (0.8ms) NMS\n",
            " The image with the result is saved in: runs/detect/pothole_detection_test_img2/821.jpg\n",
            "1 pothole, Done. (3139.3ms) Inference, (0.7ms) NMS\n",
            " The image with the result is saved in: runs/detect/pothole_detection_test_img2/822.jpg\n",
            "1 pothole, Done. (2701.0ms) Inference, (0.7ms) NMS\n",
            " The image with the result is saved in: runs/detect/pothole_detection_test_img2/823.jpg\n",
            "8 potholes, Done. (3612.4ms) Inference, (0.8ms) NMS\n",
            " The image with the result is saved in: runs/detect/pothole_detection_test_img2/824.jpg\n",
            "1 pothole, Done. (3131.8ms) Inference, (0.7ms) NMS\n",
            " The image with the result is saved in: runs/detect/pothole_detection_test_img2/825.jpg\n",
            "1 pothole, Done. (4448.8ms) Inference, (0.8ms) NMS\n",
            " The image with the result is saved in: runs/detect/pothole_detection_test_img2/826.jpg\n",
            "3 potholes, Done. (3149.3ms) Inference, (0.7ms) NMS\n",
            " The image with the result is saved in: runs/detect/pothole_detection_test_img2/827.jpg\n",
            "1 pothole, Done. (4417.0ms) Inference, (0.8ms) NMS\n",
            " The image with the result is saved in: runs/detect/pothole_detection_test_img2/828.jpg\n",
            "4 potholes, Done. (4434.1ms) Inference, (0.9ms) NMS\n",
            " The image with the result is saved in: runs/detect/pothole_detection_test_img2/829.jpg\n",
            "1 pothole, Done. (3211.5ms) Inference, (0.8ms) NMS\n",
            " The image with the result is saved in: runs/detect/pothole_detection_test_img2/830.jpg\n",
            "1 pothole, Done. (4403.6ms) Inference, (0.8ms) NMS\n",
            " The image with the result is saved in: runs/detect/pothole_detection_test_img2/831.jpg\n",
            "1 pothole, Done. (3124.9ms) Inference, (0.7ms) NMS\n",
            " The image with the result is saved in: runs/detect/pothole_detection_test_img2/832.jpg\n",
            "1 pothole, Done. (4393.5ms) Inference, (0.8ms) NMS\n",
            " The image with the result is saved in: runs/detect/pothole_detection_test_img2/833.jpg\n",
            "10 potholes, Done. (2713.4ms) Inference, (0.7ms) NMS\n",
            " The image with the result is saved in: runs/detect/pothole_detection_test_img2/834.jpg\n",
            "1 pothole, Done. (3138.6ms) Inference, (0.7ms) NMS\n",
            " The image with the result is saved in: runs/detect/pothole_detection_test_img2/835.jpg\n",
            "1 pothole, Done. (4428.5ms) Inference, (0.7ms) NMS\n",
            " The image with the result is saved in: runs/detect/pothole_detection_test_img2/836.jpg\n",
            "3 potholes, Done. (4411.1ms) Inference, (0.7ms) NMS\n",
            " The image with the result is saved in: runs/detect/pothole_detection_test_img2/837.jpg\n",
            "1 pothole, Done. (3603.7ms) Inference, (0.7ms) NMS\n",
            " The image with the result is saved in: runs/detect/pothole_detection_test_img2/838.jpg\n",
            "1 pothole, Done. (4404.7ms) Inference, (0.8ms) NMS\n",
            " The image with the result is saved in: runs/detect/pothole_detection_test_img2/839.jpg\n",
            "5 potholes, Done. (3992.5ms) Inference, (0.7ms) NMS\n",
            " The image with the result is saved in: runs/detect/pothole_detection_test_img2/840.jpg\n",
            "1 pothole, Done. (4375.5ms) Inference, (0.8ms) NMS\n",
            " The image with the result is saved in: runs/detect/pothole_detection_test_img2/841.jpg\n",
            "2 potholes, Done. (3970.6ms) Inference, (0.7ms) NMS\n",
            " The image with the result is saved in: runs/detect/pothole_detection_test_img2/842.jpg\n",
            "4 potholes, Done. (4456.6ms) Inference, (0.8ms) NMS\n",
            " The image with the result is saved in: runs/detect/pothole_detection_test_img2/843.jpg\n",
            "2 potholes, Done. (3170.3ms) Inference, (0.7ms) NMS\n",
            " The image with the result is saved in: runs/detect/pothole_detection_test_img2/844.jpg\n",
            "1 pothole, Done. (4016.4ms) Inference, (0.8ms) NMS\n",
            " The image with the result is saved in: runs/detect/pothole_detection_test_img2/845.jpg\n",
            "1 pothole, Done. (4419.4ms) Inference, (0.7ms) NMS\n",
            " The image with the result is saved in: runs/detect/pothole_detection_test_img2/846.jpg\n",
            "3 potholes, Done. (5404.6ms) Inference, (0.7ms) NMS\n",
            " The image with the result is saved in: runs/detect/pothole_detection_test_img2/847.jpg\n",
            "3 potholes, Done. (3123.7ms) Inference, (0.7ms) NMS\n",
            " The image with the result is saved in: runs/detect/pothole_detection_test_img2/848.jpg\n",
            "1 pothole, Done. (3160.9ms) Inference, (0.8ms) NMS\n",
            " The image with the result is saved in: runs/detect/pothole_detection_test_img2/849.jpg\n",
            "3 potholes, Done. (4774.3ms) Inference, (0.8ms) NMS\n",
            " The image with the result is saved in: runs/detect/pothole_detection_test_img2/850.jpg\n",
            "8 potholes, Done. (6190.2ms) Inference, (1.1ms) NMS\n",
            " The image with the result is saved in: runs/detect/pothole_detection_test_img2/851.jpg\n",
            "5 potholes, Done. (2814.4ms) Inference, (1.0ms) NMS\n",
            " The image with the result is saved in: runs/detect/pothole_detection_test_img2/852.jpg\n",
            "4 potholes, Done. (4132.1ms) Inference, (0.9ms) NMS\n",
            " The image with the result is saved in: runs/detect/pothole_detection_test_img2/853.jpg\n",
            "1 pothole, Done. (3993.6ms) Inference, (1.0ms) NMS\n",
            " The image with the result is saved in: runs/detect/pothole_detection_test_img2/854.jpg\n",
            "1 pothole, Done. (4473.5ms) Inference, (0.8ms) NMS\n",
            " The image with the result is saved in: runs/detect/pothole_detection_test_img2/855.jpg\n",
            "4 potholes, Done. (2716.1ms) Inference, (0.8ms) NMS\n",
            " The image with the result is saved in: runs/detect/pothole_detection_test_img2/856.jpg\n",
            "5 potholes, Done. (3143.6ms) Inference, (0.7ms) NMS\n",
            " The image with the result is saved in: runs/detect/pothole_detection_test_img2/857.jpg\n",
            "1 pothole, Done. (4494.9ms) Inference, (0.8ms) NMS\n",
            " The image with the result is saved in: runs/detect/pothole_detection_test_img2/858.jpg\n",
            "3 potholes, Done. (3198.6ms) Inference, (0.7ms) NMS\n",
            " The image with the result is saved in: runs/detect/pothole_detection_test_img2/859.jpg\n",
            "1 pothole, Done. (4046.7ms) Inference, (0.8ms) NMS\n",
            " The image with the result is saved in: runs/detect/pothole_detection_test_img2/860.jpg\n",
            "1 pothole, Done. (3662.8ms) Inference, (0.8ms) NMS\n",
            " The image with the result is saved in: runs/detect/pothole_detection_test_img2/861.jpg\n",
            "1 pothole, Done. (2732.3ms) Inference, (0.7ms) NMS\n",
            " The image with the result is saved in: runs/detect/pothole_detection_test_img2/862.jpg\n",
            "1 pothole, Done. (4443.2ms) Inference, (0.7ms) NMS\n",
            " The image with the result is saved in: runs/detect/pothole_detection_test_img2/863.jpg\n",
            "1 pothole, Done. (4494.1ms) Inference, (0.8ms) NMS\n",
            " The image with the result is saved in: runs/detect/pothole_detection_test_img2/864.jpg\n",
            "2 potholes, Done. (3144.2ms) Inference, (0.8ms) NMS\n",
            " The image with the result is saved in: runs/detect/pothole_detection_test_img2/865.jpg\n",
            "1 pothole, Done. (2726.2ms) Inference, (0.7ms) NMS\n",
            " The image with the result is saved in: runs/detect/pothole_detection_test_img2/866.jpg\n",
            "10 potholes, Done. (3624.4ms) Inference, (0.7ms) NMS\n",
            " The image with the result is saved in: runs/detect/pothole_detection_test_img2/867.jpg\n",
            "1 pothole, Done. (4498.2ms) Inference, (0.8ms) NMS\n",
            " The image with the result is saved in: runs/detect/pothole_detection_test_img2/868.jpg\n",
            "2 potholes, Done. (4468.9ms) Inference, (0.8ms) NMS\n",
            " The image with the result is saved in: runs/detect/pothole_detection_test_img2/869.jpg\n",
            "2 potholes, Done. (3997.2ms) Inference, (0.7ms) NMS\n",
            " The image with the result is saved in: runs/detect/pothole_detection_test_img2/870.jpg\n",
            "1 pothole, Done. (4000.4ms) Inference, (0.8ms) NMS\n",
            " The image with the result is saved in: runs/detect/pothole_detection_test_img2/871.jpg\n",
            "1 pothole, Done. (5248.4ms) Inference, (0.8ms) NMS\n",
            " The image with the result is saved in: runs/detect/pothole_detection_test_img2/872.jpg\n",
            "1 pothole, Done. (4427.1ms) Inference, (0.9ms) NMS\n",
            " The image with the result is saved in: runs/detect/pothole_detection_test_img2/873.jpg\n",
            "2 potholes, Done. (3177.1ms) Inference, (0.7ms) NMS\n",
            " The image with the result is saved in: runs/detect/pothole_detection_test_img2/874.jpg\n",
            "1 pothole, Done. (4529.4ms) Inference, (0.8ms) NMS\n",
            " The image with the result is saved in: runs/detect/pothole_detection_test_img2/875.jpg\n",
            "1 pothole, Done. (4507.2ms) Inference, (0.8ms) NMS\n",
            " The image with the result is saved in: runs/detect/pothole_detection_test_img2/876.jpg\n",
            "1 pothole, Done. (2306.6ms) Inference, (0.7ms) NMS\n",
            " The image with the result is saved in: runs/detect/pothole_detection_test_img2/877.jpg\n",
            "1 pothole, Done. (3593.9ms) Inference, (0.7ms) NMS\n",
            " The image with the result is saved in: runs/detect/pothole_detection_test_img2/878.jpg\n",
            "2 potholes, Done. (3159.6ms) Inference, (0.7ms) NMS\n",
            " The image with the result is saved in: runs/detect/pothole_detection_test_img2/879.jpg\n",
            "4 potholes, Done. (2902.3ms) Inference, (0.7ms) NMS\n",
            " The image with the result is saved in: runs/detect/pothole_detection_test_img2/880.jpg\n",
            "1 pothole, Done. (4747.6ms) Inference, (0.8ms) NMS\n",
            " The image with the result is saved in: runs/detect/pothole_detection_test_img2/881.jpg\n",
            "2 potholes, Done. (2299.9ms) Inference, (0.7ms) NMS\n",
            " The image with the result is saved in: runs/detect/pothole_detection_test_img2/882.jpg\n",
            "4 potholes, Done. (3173.0ms) Inference, (0.7ms) NMS\n",
            " The image with the result is saved in: runs/detect/pothole_detection_test_img2/883.jpg\n",
            "3 potholes, Done. (4040.8ms) Inference, (1.0ms) NMS\n",
            " The image with the result is saved in: runs/detect/pothole_detection_test_img2/884.jpg\n",
            "3 potholes, Done. (5830.8ms) Inference, (0.8ms) NMS\n",
            " The image with the result is saved in: runs/detect/pothole_detection_test_img2/885.jpg\n",
            "1 pothole, Done. (4418.5ms) Inference, (0.8ms) NMS\n",
            " The image with the result is saved in: runs/detect/pothole_detection_test_img2/886.jpg\n",
            "2 potholes, Done. (4448.8ms) Inference, (0.8ms) NMS\n",
            " The image with the result is saved in: runs/detect/pothole_detection_test_img2/887.jpg\n",
            "1 pothole, Done. (3134.7ms) Inference, (0.7ms) NMS\n",
            " The image with the result is saved in: runs/detect/pothole_detection_test_img2/888.jpg\n",
            "13 potholes, Done. (3163.8ms) Inference, (0.8ms) NMS\n",
            " The image with the result is saved in: runs/detect/pothole_detection_test_img2/889.jpg\n",
            "1 pothole, Done. (3649.7ms) Inference, (0.7ms) NMS\n",
            " The image with the result is saved in: runs/detect/pothole_detection_test_img2/890.jpg\n",
            "4 potholes, Done. (4006.2ms) Inference, (0.8ms) NMS\n",
            " The image with the result is saved in: runs/detect/pothole_detection_test_img2/891.jpg\n",
            "2 potholes, Done. (3677.5ms) Inference, (0.9ms) NMS\n",
            " The image with the result is saved in: runs/detect/pothole_detection_test_img2/892.jpg\n",
            "5 potholes, Done. (3972.9ms) Inference, (0.8ms) NMS\n",
            " The image with the result is saved in: runs/detect/pothole_detection_test_img2/893.jpg\n",
            "2 potholes, Done. (3984.3ms) Inference, (0.8ms) NMS\n",
            " The image with the result is saved in: runs/detect/pothole_detection_test_img2/894.jpg\n",
            "1 pothole, Done. (3995.8ms) Inference, (0.8ms) NMS\n",
            " The image with the result is saved in: runs/detect/pothole_detection_test_img2/895.jpg\n",
            "2 potholes, Done. (4435.0ms) Inference, (0.7ms) NMS\n",
            " The image with the result is saved in: runs/detect/pothole_detection_test_img2/896.jpg\n",
            "1 pothole, Done. (3159.0ms) Inference, (0.7ms) NMS\n",
            " The image with the result is saved in: runs/detect/pothole_detection_test_img2/897.jpg\n",
            "1 pothole, Done. (4003.5ms) Inference, (0.8ms) NMS\n",
            " The image with the result is saved in: runs/detect/pothole_detection_test_img2/898.jpg\n",
            "2 potholes, Done. (3187.1ms) Inference, (0.7ms) NMS\n",
            " The image with the result is saved in: runs/detect/pothole_detection_test_img2/899.jpg\n",
            "3 potholes, Done. (3168.9ms) Inference, (0.8ms) NMS\n",
            " The image with the result is saved in: runs/detect/pothole_detection_test_img2/900.jpg\n",
            "1 pothole, Done. (3980.2ms) Inference, (0.8ms) NMS\n",
            " The image with the result is saved in: runs/detect/pothole_detection_test_img2/901.jpg\n",
            "2 potholes, Done. (4421.2ms) Inference, (0.8ms) NMS\n",
            " The image with the result is saved in: runs/detect/pothole_detection_test_img2/902.jpg\n",
            "2 potholes, Done. (3631.5ms) Inference, (0.8ms) NMS\n",
            " The image with the result is saved in: runs/detect/pothole_detection_test_img2/903.jpg\n",
            "2 potholes, Done. (2711.9ms) Inference, (0.8ms) NMS\n",
            " The image with the result is saved in: runs/detect/pothole_detection_test_img2/904.jpg\n",
            "1 pothole, Done. (4429.0ms) Inference, (0.9ms) NMS\n",
            " The image with the result is saved in: runs/detect/pothole_detection_test_img2/905.jpg\n",
            "2 potholes, Done. (4504.8ms) Inference, (0.9ms) NMS\n",
            " The image with the result is saved in: runs/detect/pothole_detection_test_img2/906.jpg\n",
            "1 pothole, Done. (4045.3ms) Inference, (0.7ms) NMS\n",
            " The image with the result is saved in: runs/detect/pothole_detection_test_img2/907.jpg\n",
            "4 potholes, Done. (2748.1ms) Inference, (0.7ms) NMS\n",
            " The image with the result is saved in: runs/detect/pothole_detection_test_img2/908.jpg\n",
            "2 potholes, Done. (2745.8ms) Inference, (0.8ms) NMS\n",
            " The image with the result is saved in: runs/detect/pothole_detection_test_img2/909.jpg\n",
            "3 potholes, Done. (4462.2ms) Inference, (0.9ms) NMS\n",
            " The image with the result is saved in: runs/detect/pothole_detection_test_img2/910.jpg\n",
            "7 potholes, Done. (3174.5ms) Inference, (0.8ms) NMS\n",
            " The image with the result is saved in: runs/detect/pothole_detection_test_img2/911.jpg\n",
            "2 potholes, Done. (3698.7ms) Inference, (0.7ms) NMS\n",
            " The image with the result is saved in: runs/detect/pothole_detection_test_img2/912.jpg\n",
            "8 potholes, Done. (3581.7ms) Inference, (0.8ms) NMS\n",
            " The image with the result is saved in: runs/detect/pothole_detection_test_img2/913.jpg\n",
            "7 potholes, Done. (3148.6ms) Inference, (0.7ms) NMS\n",
            " The image with the result is saved in: runs/detect/pothole_detection_test_img2/914.jpg\n",
            "3 potholes, Done. (4036.2ms) Inference, (0.8ms) NMS\n",
            " The image with the result is saved in: runs/detect/pothole_detection_test_img2/915.jpg\n",
            "1 pothole, Done. (4418.0ms) Inference, (0.8ms) NMS\n",
            " The image with the result is saved in: runs/detect/pothole_detection_test_img2/916.jpg\n",
            "17 potholes, Done. (3575.6ms) Inference, (0.8ms) NMS\n",
            " The image with the result is saved in: runs/detect/pothole_detection_test_img2/917.jpg\n",
            "2 potholes, Done. (3615.1ms) Inference, (1.2ms) NMS\n",
            " The image with the result is saved in: runs/detect/pothole_detection_test_img2/918.jpg\n",
            "2 potholes, Done. (4475.8ms) Inference, (1.1ms) NMS\n",
            " The image with the result is saved in: runs/detect/pothole_detection_test_img2/919.jpg\n",
            "3 potholes, Done. (3185.6ms) Inference, (0.7ms) NMS\n",
            " The image with the result is saved in: runs/detect/pothole_detection_test_img2/920.jpg\n",
            "2 potholes, Done. (4454.7ms) Inference, (0.8ms) NMS\n",
            " The image with the result is saved in: runs/detect/pothole_detection_test_img2/921.jpg\n",
            "1 pothole, Done. (3167.7ms) Inference, (0.7ms) NMS\n",
            " The image with the result is saved in: runs/detect/pothole_detection_test_img2/922.jpg\n",
            "1 pothole, Done. (4491.9ms) Inference, (0.8ms) NMS\n",
            " The image with the result is saved in: runs/detect/pothole_detection_test_img2/923.jpg\n",
            "3 potholes, Done. (4926.8ms) Inference, (1.0ms) NMS\n",
            " The image with the result is saved in: runs/detect/pothole_detection_test_img2/924.jpg\n",
            "1 pothole, Done. (4560.0ms) Inference, (0.8ms) NMS\n",
            " The image with the result is saved in: runs/detect/pothole_detection_test_img2/925.jpg\n",
            "2 potholes, Done. (3610.8ms) Inference, (0.8ms) NMS\n",
            " The image with the result is saved in: runs/detect/pothole_detection_test_img2/926.jpg\n",
            "3 potholes, Done. (3973.5ms) Inference, (0.8ms) NMS\n",
            " The image with the result is saved in: runs/detect/pothole_detection_test_img2/927.jpg\n",
            "2 potholes, Done. (4390.4ms) Inference, (0.8ms) NMS\n",
            " The image with the result is saved in: runs/detect/pothole_detection_test_img2/928.jpg\n",
            "1 pothole, Done. (4432.7ms) Inference, (0.8ms) NMS\n",
            " The image with the result is saved in: runs/detect/pothole_detection_test_img2/929.jpg\n",
            "10 potholes, Done. (2757.5ms) Inference, (0.8ms) NMS\n",
            " The image with the result is saved in: runs/detect/pothole_detection_test_img2/930.jpg\n",
            "10 potholes, Done. (3658.8ms) Inference, (1.2ms) NMS\n",
            " The image with the result is saved in: runs/detect/pothole_detection_test_img2/931.jpg\n",
            "1 pothole, Done. (4468.5ms) Inference, (0.8ms) NMS\n",
            " The image with the result is saved in: runs/detect/pothole_detection_test_img2/932.jpg\n",
            "10 potholes, Done. (3151.8ms) Inference, (0.8ms) NMS\n",
            " The image with the result is saved in: runs/detect/pothole_detection_test_img2/933.jpg\n",
            "2 potholes, Done. (4414.3ms) Inference, (0.8ms) NMS\n",
            " The image with the result is saved in: runs/detect/pothole_detection_test_img2/934.jpg\n",
            "1 pothole, Done. (4422.0ms) Inference, (0.8ms) NMS\n",
            " The image with the result is saved in: runs/detect/pothole_detection_test_img2/935.jpg\n",
            "4 potholes, Done. (2724.9ms) Inference, (0.7ms) NMS\n",
            " The image with the result is saved in: runs/detect/pothole_detection_test_img2/936.jpg\n",
            "3 potholes, Done. (4442.9ms) Inference, (0.8ms) NMS\n",
            " The image with the result is saved in: runs/detect/pothole_detection_test_img2/937.jpg\n",
            "2 potholes, Done. (3196.9ms) Inference, (0.7ms) NMS\n",
            " The image with the result is saved in: runs/detect/pothole_detection_test_img2/938.jpg\n",
            "3 potholes, Done. (4465.9ms) Inference, (0.8ms) NMS\n",
            " The image with the result is saved in: runs/detect/pothole_detection_test_img2/939.jpg\n",
            "2 potholes, Done. (3193.3ms) Inference, (0.7ms) NMS\n",
            " The image with the result is saved in: runs/detect/pothole_detection_test_img2/940.jpg\n",
            "1 pothole, Done. (3653.8ms) Inference, (0.9ms) NMS\n",
            " The image with the result is saved in: runs/detect/pothole_detection_test_img2/941.jpg\n",
            "1 pothole, Done. (3591.3ms) Inference, (0.8ms) NMS\n",
            " The image with the result is saved in: runs/detect/pothole_detection_test_img2/942.jpg\n",
            "2 potholes, Done. (2758.6ms) Inference, (0.7ms) NMS\n",
            " The image with the result is saved in: runs/detect/pothole_detection_test_img2/943.jpg\n",
            "1 pothole, Done. (4411.8ms) Inference, (0.8ms) NMS\n",
            " The image with the result is saved in: runs/detect/pothole_detection_test_img2/944.jpg\n",
            "1 pothole, Done. (3149.3ms) Inference, (0.8ms) NMS\n",
            " The image with the result is saved in: runs/detect/pothole_detection_test_img2/945.jpg\n",
            "4 potholes, Done. (3622.0ms) Inference, (0.7ms) NMS\n",
            " The image with the result is saved in: runs/detect/pothole_detection_test_img2/946.jpg\n",
            "1 pothole, Done. (4418.2ms) Inference, (0.7ms) NMS\n",
            " The image with the result is saved in: runs/detect/pothole_detection_test_img2/947.jpg\n",
            "1 pothole, Done. (3141.6ms) Inference, (0.7ms) NMS\n",
            " The image with the result is saved in: runs/detect/pothole_detection_test_img2/948.jpg\n",
            "5 potholes, Done. (3190.8ms) Inference, (0.8ms) NMS\n",
            " The image with the result is saved in: runs/detect/pothole_detection_test_img2/949.jpg\n",
            "3 potholes, Done. (4456.6ms) Inference, (0.8ms) NMS\n",
            " The image with the result is saved in: runs/detect/pothole_detection_test_img2/950.jpg\n",
            "4 potholes, Done. (4417.6ms) Inference, (0.8ms) NMS\n",
            " The image with the result is saved in: runs/detect/pothole_detection_test_img2/951.jpg\n",
            "5 potholes, Done. (4444.0ms) Inference, (0.8ms) NMS\n",
            " The image with the result is saved in: runs/detect/pothole_detection_test_img2/952.jpg\n",
            "2 potholes, Done. (3163.1ms) Inference, (0.7ms) NMS\n",
            " The image with the result is saved in: runs/detect/pothole_detection_test_img2/953.jpg\n",
            "9 potholes, Done. (2720.8ms) Inference, (0.7ms) NMS\n",
            " The image with the result is saved in: runs/detect/pothole_detection_test_img2/954.jpg\n",
            "2 potholes, Done. (4029.2ms) Inference, (0.8ms) NMS\n",
            " The image with the result is saved in: runs/detect/pothole_detection_test_img2/955.jpg\n",
            "1 pothole, Done. (3600.5ms) Inference, (0.7ms) NMS\n",
            " The image with the result is saved in: runs/detect/pothole_detection_test_img2/956.jpg\n",
            "1 pothole, Done. (3665.5ms) Inference, (0.8ms) NMS\n",
            " The image with the result is saved in: runs/detect/pothole_detection_test_img2/957.jpg\n",
            "Done. (4431.1ms) Inference, (0.3ms) NMS\n",
            " The image with the result is saved in: runs/detect/pothole_detection_test_img2/958.jpg\n",
            "2 potholes, Done. (3619.7ms) Inference, (0.8ms) NMS\n",
            " The image with the result is saved in: runs/detect/pothole_detection_test_img2/959.jpg\n",
            "6 potholes, Done. (4442.9ms) Inference, (0.8ms) NMS\n",
            " The image with the result is saved in: runs/detect/pothole_detection_test_img2/960.jpg\n",
            "5 potholes, Done. (2356.5ms) Inference, (0.7ms) NMS\n",
            " The image with the result is saved in: runs/detect/pothole_detection_test_img2/961.jpg\n",
            "11 potholes, Done. (3249.7ms) Inference, (1.4ms) NMS\n",
            " The image with the result is saved in: runs/detect/pothole_detection_test_img2/962.jpg\n",
            "2 potholes, Done. (6416.4ms) Inference, (0.8ms) NMS\n",
            " The image with the result is saved in: runs/detect/pothole_detection_test_img2/963.jpg\n",
            "6 potholes, Done. (4469.2ms) Inference, (0.8ms) NMS\n",
            " The image with the result is saved in: runs/detect/pothole_detection_test_img2/964.jpg\n",
            "5 potholes, Done. (3662.1ms) Inference, (0.8ms) NMS\n",
            " The image with the result is saved in: runs/detect/pothole_detection_test_img2/965.jpg\n",
            "1 pothole, Done. (4460.3ms) Inference, (0.8ms) NMS\n",
            " The image with the result is saved in: runs/detect/pothole_detection_test_img2/966.jpg\n",
            "1 pothole, Done. (4460.2ms) Inference, (1.4ms) NMS\n",
            " The image with the result is saved in: runs/detect/pothole_detection_test_img2/967.jpg\n",
            "1 pothole, Done. (4450.8ms) Inference, (0.8ms) NMS\n",
            " The image with the result is saved in: runs/detect/pothole_detection_test_img2/968.jpg\n",
            "1 pothole, Done. (2744.2ms) Inference, (0.7ms) NMS\n",
            " The image with the result is saved in: runs/detect/pothole_detection_test_img2/969.jpg\n",
            "2 potholes, Done. (3683.5ms) Inference, (0.8ms) NMS\n",
            " The image with the result is saved in: runs/detect/pothole_detection_test_img2/970.jpg\n",
            "3 potholes, Done. (2715.6ms) Inference, (0.8ms) NMS\n",
            " The image with the result is saved in: runs/detect/pothole_detection_test_img2/971.jpg\n",
            "4 potholes, Done. (4481.4ms) Inference, (0.7ms) NMS\n",
            " The image with the result is saved in: runs/detect/pothole_detection_test_img2/972.jpg\n",
            "2 potholes, Done. (3158.3ms) Inference, (0.8ms) NMS\n",
            " The image with the result is saved in: runs/detect/pothole_detection_test_img2/973.jpg\n",
            "2 potholes, Done. (4433.5ms) Inference, (1.1ms) NMS\n",
            " The image with the result is saved in: runs/detect/pothole_detection_test_img2/974.jpg\n",
            "1 pothole, Done. (4445.7ms) Inference, (0.8ms) NMS\n",
            " The image with the result is saved in: runs/detect/pothole_detection_test_img2/975.jpg\n",
            "14 potholes, Done. (3160.4ms) Inference, (0.8ms) NMS\n",
            " The image with the result is saved in: runs/detect/pothole_detection_test_img2/976.jpg\n",
            "2 potholes, Done. (3159.1ms) Inference, (0.9ms) NMS\n",
            " The image with the result is saved in: runs/detect/pothole_detection_test_img2/977.jpg\n",
            "2 potholes, Done. (3600.3ms) Inference, (0.7ms) NMS\n",
            " The image with the result is saved in: runs/detect/pothole_detection_test_img2/978.jpg\n",
            "1 pothole, Done. (4432.0ms) Inference, (0.8ms) NMS\n",
            " The image with the result is saved in: runs/detect/pothole_detection_test_img2/979.jpg\n",
            "1 pothole, Done. (4059.2ms) Inference, (0.7ms) NMS\n",
            " The image with the result is saved in: runs/detect/pothole_detection_test_img2/980.jpg\n",
            "3 potholes, Done. (3154.1ms) Inference, (1.1ms) NMS\n",
            " The image with the result is saved in: runs/detect/pothole_detection_test_img2/981.jpg\n",
            "1 pothole, Done. (4445.2ms) Inference, (0.9ms) NMS\n",
            " The image with the result is saved in: runs/detect/pothole_detection_test_img2/982.jpg\n",
            "1 pothole, Done. (4491.4ms) Inference, (0.8ms) NMS\n",
            " The image with the result is saved in: runs/detect/pothole_detection_test_img2/983.jpg\n",
            "2 potholes, Done. (3617.1ms) Inference, (0.7ms) NMS\n",
            " The image with the result is saved in: runs/detect/pothole_detection_test_img2/984.jpg\n",
            "1 pothole, Done. (3616.8ms) Inference, (0.7ms) NMS\n",
            " The image with the result is saved in: runs/detect/pothole_detection_test_img2/985.jpg\n",
            "1 pothole, Done. (3160.6ms) Inference, (0.7ms) NMS\n",
            " The image with the result is saved in: runs/detect/pothole_detection_test_img2/986.jpg\n",
            "1 pothole, Done. (3586.6ms) Inference, (0.8ms) NMS\n",
            " The image with the result is saved in: runs/detect/pothole_detection_test_img2/987.jpg\n",
            "2 potholes, Done. (4447.7ms) Inference, (0.8ms) NMS\n",
            " The image with the result is saved in: runs/detect/pothole_detection_test_img2/988.jpg\n",
            "1 pothole, Done. (4394.7ms) Inference, (0.8ms) NMS\n",
            " The image with the result is saved in: runs/detect/pothole_detection_test_img2/989.jpg\n",
            "2 potholes, Done. (4427.2ms) Inference, (1.0ms) NMS\n",
            " The image with the result is saved in: runs/detect/pothole_detection_test_img2/990.jpg\n",
            "7 potholes, Done. (3631.4ms) Inference, (1.0ms) NMS\n",
            " The image with the result is saved in: runs/detect/pothole_detection_test_img2/991.jpg\n",
            "1 pothole, Done. (3154.2ms) Inference, (0.7ms) NMS\n",
            " The image with the result is saved in: runs/detect/pothole_detection_test_img2/992.jpg\n",
            "1 pothole, Done. (4436.5ms) Inference, (0.8ms) NMS\n",
            " The image with the result is saved in: runs/detect/pothole_detection_test_img2/993.jpg\n",
            "1 pothole, Done. (2738.6ms) Inference, (0.7ms) NMS\n",
            " The image with the result is saved in: runs/detect/pothole_detection_test_img2/994.jpg\n",
            "2 potholes, Done. (3168.4ms) Inference, (0.7ms) NMS\n",
            " The image with the result is saved in: runs/detect/pothole_detection_test_img2/995.jpg\n",
            "1 pothole, Done. (3609.6ms) Inference, (0.8ms) NMS\n",
            " The image with the result is saved in: runs/detect/pothole_detection_test_img2/996.jpg\n",
            "5 potholes, Done. (3175.3ms) Inference, (1.0ms) NMS\n",
            " The image with the result is saved in: runs/detect/pothole_detection_test_img2/997.jpg\n",
            "2 potholes, Done. (4484.9ms) Inference, (0.8ms) NMS\n",
            " The image with the result is saved in: runs/detect/pothole_detection_test_img2/998.jpg\n",
            "2 potholes, Done. (3176.3ms) Inference, (1.0ms) NMS\n",
            " The image with the result is saved in: runs/detect/pothole_detection_test_img2/999.jpg\n",
            "Done. (2226.103s)\n"
          ]
        }
      ],
      "source": [
        "!python detect.py --weights runs/train/yolov7-e6e-pothole-fold_4/weights/best.pt \\\n",
        "                  --conf 0.05 \\\n",
        "                  --source test/images \\\n",
        "                  --name pothole_detection_test_img \\\n",
        "                  --save-conf \\\n",
        "                  --save-txt"
      ]
    },
    {
      "cell_type": "code",
      "execution_count": null,
      "metadata": {
        "id": "MNuGV-3rqrMA"
      },
      "outputs": [],
      "source": [
        "# #display inference on ALL test images\n",
        "\n",
        "# import glob\n",
        "# from IPython.display import Image, display\n",
        "\n",
        "# i = 0\n",
        "# limit = 5 # max images to print\n",
        "# for imageName in glob.glob('runs/detect/exp2/*.jpg'): #assuming JPG\n",
        "#     if i < limit:\n",
        "#       display(Image(filename=imageName))\n",
        "#       print(\"\\n\")\n",
        "#     i = i + 1"
      ]
    },
    {
      "cell_type": "markdown",
      "metadata": {
        "id": "7t9c7U_MrIbH"
      },
      "source": [
        "## GETTING PREDICTIONS"
      ]
    },
    {
      "cell_type": "code",
      "execution_count": 20,
      "metadata": {
        "colab": {
          "base_uri": "https://localhost:8080/"
        },
        "id": "OVxh0tbhgFZG",
        "outputId": "52c0c48b-14b9-4b9c-e92e-a1e9d3ec9341"
      },
      "outputs": [
        {
          "name": "stderr",
          "output_type": "stream",
          "text": [
            "Using cache found in /root/.cache/torch/hub/WongKinYiu_yolov7_main\n"
          ]
        },
        {
          "name": "stdout",
          "output_type": "stream",
          "text": [
            "Adding autoShape... \n"
          ]
        }
      ],
      "source": [
        "import torch\n",
        "import os, tqdm\n",
        "from PIL import Image\n",
        "import pandas as pd\n",
        "\n",
        "def loadModel(path:str):\n",
        "  model = torch.hub.load(\"WongKinYiu/yolov7\",\"custom\",path,trust_repo=True)\n",
        "  return model\n",
        "\n",
        "model = loadModel('runs/train/yolov7-e6e-pothole-fold_4/weights/best.pt')"
      ]
    },
    {
      "cell_type": "code",
      "execution_count": 38,
      "metadata": {
        "id": "ZoXSuVjNljfs"
      },
      "outputs": [],
      "source": [
        "predicted_frame = pd.DataFrame()"
      ]
    },
    {
      "cell_type": "code",
      "execution_count": 39,
      "metadata": {
        "colab": {
          "base_uri": "https://localhost:8080/"
        },
        "id": "Pb-hrkewHnvp",
        "outputId": "06c1530a-b41d-4e42-c909-d1083d5f5b86"
      },
      "outputs": [
        {
          "name": "stderr",
          "output_type": "stream",
          "text": [
            "\r  0%|          | 0/556 [00:00<?, ?it/s]"
          ]
        },
        {
          "name": "stdout",
          "output_type": "stream",
          "text": [
            "900.jpg\n"
          ]
        },
        {
          "name": "stderr",
          "output_type": "stream",
          "text": [
            "\r  0%|          | 1/556 [00:11<1:45:39, 11.42s/it]"
          ]
        },
        {
          "name": "stdout",
          "output_type": "stream",
          "text": [
            "1014.jpg\n"
          ]
        },
        {
          "name": "stderr",
          "output_type": "stream",
          "text": [
            "\r  0%|          | 2/556 [00:19<1:28:00,  9.53s/it]"
          ]
        },
        {
          "name": "stdout",
          "output_type": "stream",
          "text": [
            "1067.jpg\n"
          ]
        },
        {
          "name": "stderr",
          "output_type": "stream",
          "text": [
            "\r  1%|          | 3/556 [00:28<1:25:56,  9.32s/it]"
          ]
        },
        {
          "name": "stdout",
          "output_type": "stream",
          "text": [
            "1000.jpg\n"
          ]
        },
        {
          "name": "stderr",
          "output_type": "stream",
          "text": [
            "\r  1%|          | 4/556 [00:43<1:47:27, 11.68s/it]"
          ]
        },
        {
          "name": "stdout",
          "output_type": "stream",
          "text": [
            "798.jpg\n"
          ]
        },
        {
          "name": "stderr",
          "output_type": "stream",
          "text": [
            "\r  1%|          | 5/556 [00:55<1:48:18, 11.79s/it]"
          ]
        },
        {
          "name": "stdout",
          "output_type": "stream",
          "text": [
            "816.jpg\n"
          ]
        },
        {
          "name": "stderr",
          "output_type": "stream",
          "text": [
            "\r  1%|          | 6/556 [01:11<1:59:16, 13.01s/it]"
          ]
        },
        {
          "name": "stdout",
          "output_type": "stream",
          "text": [
            "1054.jpg\n"
          ]
        },
        {
          "name": "stderr",
          "output_type": "stream",
          "text": [
            "\r  1%|▏         | 7/556 [01:20<1:47:07, 11.71s/it]"
          ]
        },
        {
          "name": "stdout",
          "output_type": "stream",
          "text": [
            "1129.jpg\n"
          ]
        },
        {
          "name": "stderr",
          "output_type": "stream",
          "text": [
            "\r  1%|▏         | 8/556 [01:36<1:58:57, 13.02s/it]"
          ]
        },
        {
          "name": "stdout",
          "output_type": "stream",
          "text": [
            "1032.jpg\n"
          ]
        },
        {
          "name": "stderr",
          "output_type": "stream",
          "text": [
            "\r  2%|▏         | 9/556 [01:51<2:04:55, 13.70s/it]"
          ]
        },
        {
          "name": "stdout",
          "output_type": "stream",
          "text": [
            "860.jpg\n"
          ]
        },
        {
          "name": "stderr",
          "output_type": "stream",
          "text": [
            "\r  2%|▏         | 10/556 [02:04<2:02:02, 13.41s/it]"
          ]
        },
        {
          "name": "stdout",
          "output_type": "stream",
          "text": [
            "1097.jpg\n"
          ]
        },
        {
          "name": "stderr",
          "output_type": "stream",
          "text": [
            "\r  2%|▏         | 11/556 [02:18<2:04:40, 13.73s/it]"
          ]
        },
        {
          "name": "stdout",
          "output_type": "stream",
          "text": [
            "1114.jpg\n"
          ]
        },
        {
          "name": "stderr",
          "output_type": "stream",
          "text": [
            "\r  2%|▏         | 12/556 [02:29<1:56:24, 12.84s/it]"
          ]
        },
        {
          "name": "stdout",
          "output_type": "stream",
          "text": [
            "1047.jpg\n"
          ]
        },
        {
          "name": "stderr",
          "output_type": "stream",
          "text": [
            "\r  2%|▏         | 13/556 [02:38<1:46:23, 11.76s/it]"
          ]
        },
        {
          "name": "stdout",
          "output_type": "stream",
          "text": [
            "1011.jpg\n"
          ]
        },
        {
          "name": "stderr",
          "output_type": "stream",
          "text": [
            "\r  3%|▎         | 14/556 [02:47<1:39:20, 11.00s/it]"
          ]
        },
        {
          "name": "stdout",
          "output_type": "stream",
          "text": [
            "995.jpg\n"
          ]
        },
        {
          "name": "stderr",
          "output_type": "stream",
          "text": [
            "\r  3%|▎         | 15/556 [02:59<1:39:54, 11.08s/it]"
          ]
        },
        {
          "name": "stdout",
          "output_type": "stream",
          "text": [
            "873.jpg\n"
          ]
        },
        {
          "name": "stderr",
          "output_type": "stream",
          "text": [
            "\r  3%|▎         | 16/556 [03:14<1:52:23, 12.49s/it]"
          ]
        },
        {
          "name": "stdout",
          "output_type": "stream",
          "text": [
            "838.jpg\n"
          ]
        },
        {
          "name": "stderr",
          "output_type": "stream",
          "text": [
            "\r  3%|▎         | 17/556 [03:27<1:51:25, 12.40s/it]"
          ]
        },
        {
          "name": "stdout",
          "output_type": "stream",
          "text": [
            "867.jpg\n"
          ]
        },
        {
          "name": "stderr",
          "output_type": "stream",
          "text": [
            "\r  3%|▎         | 18/556 [03:39<1:51:48, 12.47s/it]"
          ]
        },
        {
          "name": "stdout",
          "output_type": "stream",
          "text": [
            "716.jpg\n"
          ]
        },
        {
          "name": "stderr",
          "output_type": "stream",
          "text": [
            "\r  3%|▎         | 19/556 [03:50<1:46:50, 11.94s/it]"
          ]
        },
        {
          "name": "stdout",
          "output_type": "stream",
          "text": [
            "956.jpg\n"
          ]
        },
        {
          "name": "stderr",
          "output_type": "stream",
          "text": [
            "\r  4%|▎         | 20/556 [04:02<1:48:05, 12.10s/it]"
          ]
        },
        {
          "name": "stdout",
          "output_type": "stream",
          "text": [
            "1151.jpg\n"
          ]
        },
        {
          "name": "stderr",
          "output_type": "stream",
          "text": [
            "\r  4%|▍         | 21/556 [04:15<1:47:53, 12.10s/it]"
          ]
        },
        {
          "name": "stdout",
          "output_type": "stream",
          "text": [
            "700.jpg\n"
          ]
        },
        {
          "name": "stderr",
          "output_type": "stream",
          "text": [
            "\r  4%|▍         | 22/556 [04:28<1:51:35, 12.54s/it]"
          ]
        },
        {
          "name": "stdout",
          "output_type": "stream",
          "text": [
            "1216.jpg\n"
          ]
        },
        {
          "name": "stderr",
          "output_type": "stream",
          "text": [
            "\r  4%|▍         | 23/556 [04:39<1:45:50, 11.91s/it]"
          ]
        },
        {
          "name": "stdout",
          "output_type": "stream",
          "text": [
            "1070.jpg\n"
          ]
        },
        {
          "name": "stderr",
          "output_type": "stream",
          "text": [
            "\r  4%|▍         | 24/556 [04:49<1:42:14, 11.53s/it]"
          ]
        },
        {
          "name": "stdout",
          "output_type": "stream",
          "text": [
            "747.jpg\n"
          ]
        },
        {
          "name": "stderr",
          "output_type": "stream",
          "text": [
            "\r  4%|▍         | 25/556 [05:08<2:01:05, 13.68s/it]"
          ]
        },
        {
          "name": "stdout",
          "output_type": "stream",
          "text": [
            "1027.jpg\n"
          ]
        },
        {
          "name": "stderr",
          "output_type": "stream",
          "text": [
            "\r  5%|▍         | 26/556 [05:25<2:08:59, 14.60s/it]"
          ]
        },
        {
          "name": "stdout",
          "output_type": "stream",
          "text": [
            "1160.jpg\n"
          ]
        },
        {
          "name": "stderr",
          "output_type": "stream",
          "text": [
            "\r  5%|▍         | 27/556 [05:40<2:10:02, 14.75s/it]"
          ]
        },
        {
          "name": "stdout",
          "output_type": "stream",
          "text": [
            "749.jpg\n"
          ]
        },
        {
          "name": "stderr",
          "output_type": "stream",
          "text": [
            "\r  5%|▌         | 28/556 [05:49<1:54:54, 13.06s/it]"
          ]
        },
        {
          "name": "stdout",
          "output_type": "stream",
          "text": [
            "907.jpg\n"
          ]
        },
        {
          "name": "stderr",
          "output_type": "stream",
          "text": [
            "\r  5%|▌         | 29/556 [06:05<2:03:08, 14.02s/it]"
          ]
        },
        {
          "name": "stdout",
          "output_type": "stream",
          "text": [
            "833.jpg\n"
          ]
        },
        {
          "name": "stderr",
          "output_type": "stream",
          "text": [
            "\r  5%|▌         | 30/556 [06:22<2:09:17, 14.75s/it]"
          ]
        },
        {
          "name": "stdout",
          "output_type": "stream",
          "text": [
            "1118.jpg\n"
          ]
        },
        {
          "name": "stderr",
          "output_type": "stream",
          "text": [
            "\r  6%|▌         | 31/556 [06:32<1:57:57, 13.48s/it]"
          ]
        },
        {
          "name": "stdout",
          "output_type": "stream",
          "text": [
            "797.jpg\n"
          ]
        },
        {
          "name": "stderr",
          "output_type": "stream",
          "text": [
            "\r  6%|▌         | 32/556 [06:43<1:49:49, 12.57s/it]"
          ]
        },
        {
          "name": "stdout",
          "output_type": "stream",
          "text": [
            "856.jpg\n"
          ]
        },
        {
          "name": "stderr",
          "output_type": "stream",
          "text": [
            "\r  6%|▌         | 33/556 [06:52<1:40:31, 11.53s/it]"
          ]
        },
        {
          "name": "stdout",
          "output_type": "stream",
          "text": [
            "931.jpg\n"
          ]
        },
        {
          "name": "stderr",
          "output_type": "stream",
          "text": [
            "\r  6%|▌         | 34/556 [07:04<1:41:40, 11.69s/it]"
          ]
        },
        {
          "name": "stdout",
          "output_type": "stream",
          "text": [
            "903.jpg\n"
          ]
        },
        {
          "name": "stderr",
          "output_type": "stream",
          "text": [
            "\r  6%|▋         | 35/556 [07:16<1:41:58, 11.74s/it]"
          ]
        },
        {
          "name": "stdout",
          "output_type": "stream",
          "text": [
            "894.jpg\n"
          ]
        },
        {
          "name": "stderr",
          "output_type": "stream",
          "text": [
            "\r  6%|▋         | 36/556 [07:29<1:44:49, 12.10s/it]"
          ]
        },
        {
          "name": "stdout",
          "output_type": "stream",
          "text": [
            "813.jpg\n"
          ]
        },
        {
          "name": "stderr",
          "output_type": "stream",
          "text": [
            "\r  7%|▋         | 37/556 [07:44<1:52:46, 13.04s/it]"
          ]
        },
        {
          "name": "stdout",
          "output_type": "stream",
          "text": [
            "1085.jpg\n"
          ]
        },
        {
          "name": "stderr",
          "output_type": "stream",
          "text": [
            "\r  7%|▋         | 38/556 [07:54<1:46:08, 12.29s/it]"
          ]
        },
        {
          "name": "stdout",
          "output_type": "stream",
          "text": [
            "1225.jpg\n"
          ]
        },
        {
          "name": "stderr",
          "output_type": "stream",
          "text": [
            "\r  7%|▋         | 39/556 [08:06<1:44:56, 12.18s/it]"
          ]
        },
        {
          "name": "stdout",
          "output_type": "stream",
          "text": [
            "753.jpg\n"
          ]
        },
        {
          "name": "stderr",
          "output_type": "stream",
          "text": [
            "\r  7%|▋         | 40/556 [08:21<1:51:56, 13.02s/it]"
          ]
        },
        {
          "name": "stdout",
          "output_type": "stream",
          "text": [
            "837.jpg\n"
          ]
        },
        {
          "name": "stderr",
          "output_type": "stream",
          "text": [
            "\r  7%|▋         | 41/556 [08:36<1:57:32, 13.69s/it]"
          ]
        },
        {
          "name": "stdout",
          "output_type": "stream",
          "text": [
            "794.jpg\n"
          ]
        },
        {
          "name": "stderr",
          "output_type": "stream",
          "text": [
            "\r  8%|▊         | 42/556 [08:51<1:59:19, 13.93s/it]"
          ]
        },
        {
          "name": "stdout",
          "output_type": "stream",
          "text": [
            "944.jpg\n"
          ]
        },
        {
          "name": "stderr",
          "output_type": "stream",
          "text": [
            "\r  8%|▊         | 43/556 [09:06<2:02:02, 14.27s/it]"
          ]
        },
        {
          "name": "stdout",
          "output_type": "stream",
          "text": [
            "1201.jpg\n"
          ]
        },
        {
          "name": "stderr",
          "output_type": "stream",
          "text": [
            "\r  8%|▊         | 44/556 [09:18<1:55:28, 13.53s/it]"
          ]
        },
        {
          "name": "stdout",
          "output_type": "stream",
          "text": [
            "732.jpg\n"
          ]
        },
        {
          "name": "stderr",
          "output_type": "stream",
          "text": [
            "\r  8%|▊         | 45/556 [09:30<1:50:43, 13.00s/it]"
          ]
        },
        {
          "name": "stdout",
          "output_type": "stream",
          "text": [
            "728.jpg\n"
          ]
        },
        {
          "name": "stderr",
          "output_type": "stream",
          "text": [
            "\r  8%|▊         | 46/556 [09:38<1:38:05, 11.54s/it]"
          ]
        },
        {
          "name": "stdout",
          "output_type": "stream",
          "text": [
            "1140.jpg\n"
          ]
        },
        {
          "name": "stderr",
          "output_type": "stream",
          "text": [
            "\r  8%|▊         | 47/556 [09:46<1:29:18, 10.53s/it]"
          ]
        },
        {
          "name": "stdout",
          "output_type": "stream",
          "text": [
            "850.jpg\n"
          ]
        },
        {
          "name": "stderr",
          "output_type": "stream",
          "text": [
            "\r  9%|▊         | 48/556 [09:59<1:35:06, 11.23s/it]"
          ]
        },
        {
          "name": "stdout",
          "output_type": "stream",
          "text": [
            "909.jpg\n"
          ]
        },
        {
          "name": "stderr",
          "output_type": "stream",
          "text": [
            "\r  9%|▉         | 49/556 [10:08<1:29:26, 10.59s/it]"
          ]
        },
        {
          "name": "stdout",
          "output_type": "stream",
          "text": [
            "854.jpg\n"
          ]
        },
        {
          "name": "stderr",
          "output_type": "stream",
          "text": [
            "\r  9%|▉         | 50/556 [10:21<1:35:09, 11.28s/it]"
          ]
        },
        {
          "name": "stdout",
          "output_type": "stream",
          "text": [
            "1144.jpg\n"
          ]
        },
        {
          "name": "stderr",
          "output_type": "stream",
          "text": [
            "\r  9%|▉         | 51/556 [10:31<1:33:03, 11.06s/it]"
          ]
        },
        {
          "name": "stdout",
          "output_type": "stream",
          "text": [
            "1006.jpg\n"
          ]
        },
        {
          "name": "stderr",
          "output_type": "stream",
          "text": [
            "\r  9%|▉         | 52/556 [10:40<1:27:48, 10.45s/it]"
          ]
        },
        {
          "name": "stdout",
          "output_type": "stream",
          "text": [
            "831.jpg\n"
          ]
        },
        {
          "name": "stderr",
          "output_type": "stream",
          "text": [
            "\r 10%|▉         | 53/556 [10:56<1:39:58, 11.92s/it]"
          ]
        },
        {
          "name": "stdout",
          "output_type": "stream",
          "text": [
            "701.jpg\n"
          ]
        },
        {
          "name": "stderr",
          "output_type": "stream",
          "text": [
            "\r 10%|▉         | 54/556 [11:07<1:39:21, 11.87s/it]"
          ]
        },
        {
          "name": "stdout",
          "output_type": "stream",
          "text": [
            "1169.jpg\n"
          ]
        },
        {
          "name": "stderr",
          "output_type": "stream",
          "text": [
            "\r 10%|▉         | 55/556 [11:18<1:36:36, 11.57s/it]"
          ]
        },
        {
          "name": "stdout",
          "output_type": "stream",
          "text": [
            "788.jpg\n"
          ]
        },
        {
          "name": "stderr",
          "output_type": "stream",
          "text": [
            "\r 10%|█         | 56/556 [11:29<1:33:36, 11.23s/it]"
          ]
        },
        {
          "name": "stdout",
          "output_type": "stream",
          "text": [
            "689.jpg\n"
          ]
        },
        {
          "name": "stderr",
          "output_type": "stream",
          "text": [
            "\r 10%|█         | 57/556 [11:41<1:34:52, 11.41s/it]"
          ]
        },
        {
          "name": "stdout",
          "output_type": "stream",
          "text": [
            "905.jpg\n"
          ]
        },
        {
          "name": "stderr",
          "output_type": "stream",
          "text": [
            "\r 10%|█         | 58/556 [11:56<1:44:11, 12.55s/it]"
          ]
        },
        {
          "name": "stdout",
          "output_type": "stream",
          "text": [
            "746.jpg\n"
          ]
        },
        {
          "name": "stderr",
          "output_type": "stream",
          "text": [
            "\r 11%|█         | 59/556 [12:11<1:50:30, 13.34s/it]"
          ]
        },
        {
          "name": "stdout",
          "output_type": "stream",
          "text": [
            "870.jpg\n"
          ]
        },
        {
          "name": "stderr",
          "output_type": "stream",
          "text": [
            "\r 11%|█         | 60/556 [12:24<1:49:21, 13.23s/it]"
          ]
        },
        {
          "name": "stdout",
          "output_type": "stream",
          "text": [
            "725.jpg\n"
          ]
        },
        {
          "name": "stderr",
          "output_type": "stream",
          "text": [
            "\r 11%|█         | 61/556 [12:39<1:54:15, 13.85s/it]"
          ]
        },
        {
          "name": "stdout",
          "output_type": "stream",
          "text": [
            "891.jpg\n"
          ]
        },
        {
          "name": "stderr",
          "output_type": "stream",
          "text": [
            "\r 11%|█         | 62/556 [12:52<1:51:53, 13.59s/it]"
          ]
        },
        {
          "name": "stdout",
          "output_type": "stream",
          "text": [
            "721.jpg\n"
          ]
        },
        {
          "name": "stderr",
          "output_type": "stream",
          "text": [
            "\r 11%|█▏        | 63/556 [13:07<1:55:38, 14.07s/it]"
          ]
        },
        {
          "name": "stdout",
          "output_type": "stream",
          "text": [
            "762.jpg\n"
          ]
        },
        {
          "name": "stderr",
          "output_type": "stream",
          "text": [
            "\r 12%|█▏        | 64/556 [13:19<1:50:02, 13.42s/it]"
          ]
        },
        {
          "name": "stdout",
          "output_type": "stream",
          "text": [
            "1211.jpg\n"
          ]
        },
        {
          "name": "stderr",
          "output_type": "stream",
          "text": [
            "\r 12%|█▏        | 65/556 [13:31<1:46:28, 13.01s/it]"
          ]
        },
        {
          "name": "stdout",
          "output_type": "stream",
          "text": [
            "773.jpg\n"
          ]
        },
        {
          "name": "stderr",
          "output_type": "stream",
          "text": [
            "\r 12%|█▏        | 66/556 [13:43<1:43:20, 12.65s/it]"
          ]
        },
        {
          "name": "stdout",
          "output_type": "stream",
          "text": [
            "990.jpg\n"
          ]
        },
        {
          "name": "stderr",
          "output_type": "stream",
          "text": [
            "\r 12%|█▏        | 67/556 [13:58<1:49:26, 13.43s/it]"
          ]
        },
        {
          "name": "stdout",
          "output_type": "stream",
          "text": [
            "1180.jpg\n"
          ]
        },
        {
          "name": "stderr",
          "output_type": "stream",
          "text": [
            "\r 12%|█▏        | 68/556 [14:15<1:57:28, 14.44s/it]"
          ]
        },
        {
          "name": "stdout",
          "output_type": "stream",
          "text": [
            "1074.jpg\n"
          ]
        },
        {
          "name": "stderr",
          "output_type": "stream",
          "text": [
            "\r 12%|█▏        | 69/556 [14:31<1:59:18, 14.70s/it]"
          ]
        },
        {
          "name": "stdout",
          "output_type": "stream",
          "text": [
            "1084.jpg\n"
          ]
        },
        {
          "name": "stderr",
          "output_type": "stream",
          "text": [
            "\r 13%|█▎        | 70/556 [14:43<1:54:36, 14.15s/it]"
          ]
        },
        {
          "name": "stdout",
          "output_type": "stream",
          "text": [
            "1023.jpg\n"
          ]
        },
        {
          "name": "stderr",
          "output_type": "stream",
          "text": [
            "\r 13%|█▎        | 71/556 [14:54<1:45:49, 13.09s/it]"
          ]
        },
        {
          "name": "stdout",
          "output_type": "stream",
          "text": [
            "863.jpg\n"
          ]
        },
        {
          "name": "stderr",
          "output_type": "stream",
          "text": [
            "\r 13%|█▎        | 72/556 [15:09<1:50:45, 13.73s/it]"
          ]
        },
        {
          "name": "stdout",
          "output_type": "stream",
          "text": [
            "676.jpg\n"
          ]
        },
        {
          "name": "stderr",
          "output_type": "stream",
          "text": [
            "\r 13%|█▎        | 73/556 [15:20<1:42:37, 12.75s/it]"
          ]
        },
        {
          "name": "stdout",
          "output_type": "stream",
          "text": [
            "997.jpg\n"
          ]
        },
        {
          "name": "stderr",
          "output_type": "stream",
          "text": [
            "\r 13%|█▎        | 74/556 [15:30<1:37:08, 12.09s/it]"
          ]
        },
        {
          "name": "stdout",
          "output_type": "stream",
          "text": [
            "791.jpg\n"
          ]
        },
        {
          "name": "stderr",
          "output_type": "stream",
          "text": [
            "\r 13%|█▎        | 75/556 [15:41<1:33:05, 11.61s/it]"
          ]
        },
        {
          "name": "stdout",
          "output_type": "stream",
          "text": [
            "1055.jpg\n"
          ]
        },
        {
          "name": "stderr",
          "output_type": "stream",
          "text": [
            "\r 14%|█▎        | 76/556 [15:51<1:30:27, 11.31s/it]"
          ]
        },
        {
          "name": "stdout",
          "output_type": "stream",
          "text": [
            "780.jpg\n"
          ]
        },
        {
          "name": "stderr",
          "output_type": "stream",
          "text": [
            "\r 14%|█▍        | 77/556 [16:07<1:39:38, 12.48s/it]"
          ]
        },
        {
          "name": "stdout",
          "output_type": "stream",
          "text": [
            "768.jpg\n"
          ]
        },
        {
          "name": "stderr",
          "output_type": "stream",
          "text": [
            "\r 14%|█▍        | 78/556 [16:17<1:34:36, 11.88s/it]"
          ]
        },
        {
          "name": "stdout",
          "output_type": "stream",
          "text": [
            "1185.jpg\n"
          ]
        },
        {
          "name": "stderr",
          "output_type": "stream",
          "text": [
            "\r 14%|█▍        | 79/556 [16:32<1:40:32, 12.65s/it]"
          ]
        },
        {
          "name": "stdout",
          "output_type": "stream",
          "text": [
            "1030.jpg\n"
          ]
        },
        {
          "name": "stderr",
          "output_type": "stream",
          "text": [
            "\r 14%|█▍        | 80/556 [16:47<1:46:41, 13.45s/it]"
          ]
        },
        {
          "name": "stdout",
          "output_type": "stream",
          "text": [
            "970.jpg\n"
          ]
        },
        {
          "name": "stderr",
          "output_type": "stream",
          "text": [
            "\r 15%|█▍        | 81/556 [16:59<1:43:01, 13.01s/it]"
          ]
        },
        {
          "name": "stdout",
          "output_type": "stream",
          "text": [
            "771.jpg\n"
          ]
        },
        {
          "name": "stderr",
          "output_type": "stream",
          "text": [
            "\r 15%|█▍        | 82/556 [17:10<1:37:47, 12.38s/it]"
          ]
        },
        {
          "name": "stdout",
          "output_type": "stream",
          "text": [
            "1109.jpg\n"
          ]
        },
        {
          "name": "stderr",
          "output_type": "stream",
          "text": [
            "\r 15%|█▍        | 83/556 [17:25<1:44:30, 13.26s/it]"
          ]
        },
        {
          "name": "stdout",
          "output_type": "stream",
          "text": [
            "807.jpg\n"
          ]
        },
        {
          "name": "stderr",
          "output_type": "stream",
          "text": [
            "\r 15%|█▌        | 84/556 [17:40<1:48:48, 13.83s/it]"
          ]
        },
        {
          "name": "stdout",
          "output_type": "stream",
          "text": [
            "1077.jpg\n"
          ]
        },
        {
          "name": "stderr",
          "output_type": "stream",
          "text": [
            "\r 15%|█▌        | 85/556 [17:55<1:51:57, 14.26s/it]"
          ]
        },
        {
          "name": "stdout",
          "output_type": "stream",
          "text": [
            "896.jpg\n"
          ]
        },
        {
          "name": "stderr",
          "output_type": "stream",
          "text": [
            "\r 15%|█▌        | 86/556 [18:11<1:53:45, 14.52s/it]"
          ]
        },
        {
          "name": "stdout",
          "output_type": "stream",
          "text": [
            "1207.jpg\n"
          ]
        },
        {
          "name": "stderr",
          "output_type": "stream",
          "text": [
            "\r 16%|█▌        | 87/556 [18:22<1:47:14, 13.72s/it]"
          ]
        },
        {
          "name": "stdout",
          "output_type": "stream",
          "text": [
            "1103.jpg\n"
          ]
        },
        {
          "name": "stderr",
          "output_type": "stream",
          "text": [
            "\r 16%|█▌        | 88/556 [18:32<1:36:09, 12.33s/it]"
          ]
        },
        {
          "name": "stdout",
          "output_type": "stream",
          "text": [
            "1106.jpg\n"
          ]
        },
        {
          "name": "stderr",
          "output_type": "stream",
          "text": [
            "\r 16%|█▌        | 89/556 [18:40<1:26:06, 11.06s/it]"
          ]
        },
        {
          "name": "stdout",
          "output_type": "stream",
          "text": [
            "1174.jpg\n"
          ]
        },
        {
          "name": "stderr",
          "output_type": "stream",
          "text": [
            "\r 16%|█▌        | 90/556 [18:49<1:21:24, 10.48s/it]"
          ]
        },
        {
          "name": "stdout",
          "output_type": "stream",
          "text": [
            "1137.jpg\n"
          ]
        },
        {
          "name": "stderr",
          "output_type": "stream",
          "text": [
            "\r 16%|█▋        | 91/556 [18:59<1:21:38, 10.54s/it]"
          ]
        },
        {
          "name": "stdout",
          "output_type": "stream",
          "text": [
            "1086.jpg\n"
          ]
        },
        {
          "name": "stderr",
          "output_type": "stream",
          "text": [
            "\r 17%|█▋        | 92/556 [19:08<1:17:59, 10.09s/it]"
          ]
        },
        {
          "name": "stdout",
          "output_type": "stream",
          "text": [
            "1116.jpg\n"
          ]
        },
        {
          "name": "stderr",
          "output_type": "stream",
          "text": [
            "\r 17%|█▋        | 93/556 [19:20<1:21:49, 10.60s/it]"
          ]
        },
        {
          "name": "stdout",
          "output_type": "stream",
          "text": [
            "1069.jpg\n"
          ]
        },
        {
          "name": "stderr",
          "output_type": "stream",
          "text": [
            "\r 17%|█▋        | 94/556 [19:35<1:32:08, 11.97s/it]"
          ]
        },
        {
          "name": "stdout",
          "output_type": "stream",
          "text": [
            "1117.jpg\n"
          ]
        },
        {
          "name": "stderr",
          "output_type": "stream",
          "text": [
            "\r 17%|█▋        | 95/556 [19:49<1:35:16, 12.40s/it]"
          ]
        },
        {
          "name": "stdout",
          "output_type": "stream",
          "text": [
            "769.jpg\n"
          ]
        },
        {
          "name": "stderr",
          "output_type": "stream",
          "text": [
            "\r 17%|█▋        | 96/556 [20:02<1:36:19, 12.56s/it]"
          ]
        },
        {
          "name": "stdout",
          "output_type": "stream",
          "text": [
            "1094.jpg\n"
          ]
        },
        {
          "name": "stderr",
          "output_type": "stream",
          "text": [
            "\r 17%|█▋        | 97/556 [20:19<1:46:28, 13.92s/it]"
          ]
        },
        {
          "name": "stdout",
          "output_type": "stream",
          "text": [
            "828.jpg\n"
          ]
        },
        {
          "name": "stderr",
          "output_type": "stream",
          "text": [
            "\r 18%|█▊        | 98/556 [20:34<1:49:32, 14.35s/it]"
          ]
        },
        {
          "name": "stdout",
          "output_type": "stream",
          "text": [
            "1064.jpg\n"
          ]
        },
        {
          "name": "stderr",
          "output_type": "stream",
          "text": [
            "\r 18%|█▊        | 99/556 [20:45<1:40:40, 13.22s/it]"
          ]
        },
        {
          "name": "stdout",
          "output_type": "stream",
          "text": [
            "1104.jpg\n"
          ]
        },
        {
          "name": "stderr",
          "output_type": "stream",
          "text": [
            "\r 18%|█▊        | 100/556 [21:00<1:45:08, 13.83s/it]"
          ]
        },
        {
          "name": "stdout",
          "output_type": "stream",
          "text": [
            "1098.jpg\n"
          ]
        },
        {
          "name": "stderr",
          "output_type": "stream",
          "text": [
            "\r 18%|█▊        | 101/556 [21:12<1:40:21, 13.23s/it]"
          ]
        },
        {
          "name": "stdout",
          "output_type": "stream",
          "text": [
            "733.jpg\n"
          ]
        },
        {
          "name": "stderr",
          "output_type": "stream",
          "text": [
            "\r 18%|█▊        | 102/556 [21:25<1:39:13, 13.11s/it]"
          ]
        },
        {
          "name": "stdout",
          "output_type": "stream",
          "text": [
            "704.jpg\n"
          ]
        },
        {
          "name": "stderr",
          "output_type": "stream",
          "text": [
            "\r 19%|█▊        | 103/556 [21:37<1:38:09, 13.00s/it]"
          ]
        },
        {
          "name": "stdout",
          "output_type": "stream",
          "text": [
            "709.jpg\n"
          ]
        },
        {
          "name": "stderr",
          "output_type": "stream",
          "text": [
            "\r 19%|█▊        | 104/556 [21:48<1:32:07, 12.23s/it]"
          ]
        },
        {
          "name": "stdout",
          "output_type": "stream",
          "text": [
            "1192.jpg\n"
          ]
        },
        {
          "name": "stderr",
          "output_type": "stream",
          "text": [
            "\r 19%|█▉        | 105/556 [22:03<1:38:34, 13.11s/it]"
          ]
        },
        {
          "name": "stdout",
          "output_type": "stream",
          "text": [
            "1126.jpg\n"
          ]
        },
        {
          "name": "stderr",
          "output_type": "stream",
          "text": [
            "\r 19%|█▉        | 106/556 [22:15<1:35:58, 12.80s/it]"
          ]
        },
        {
          "name": "stdout",
          "output_type": "stream",
          "text": [
            "975.jpg\n"
          ]
        },
        {
          "name": "stderr",
          "output_type": "stream",
          "text": [
            "\r 19%|█▉        | 107/556 [22:30<1:41:09, 13.52s/it]"
          ]
        },
        {
          "name": "stdout",
          "output_type": "stream",
          "text": [
            "1154.jpg\n"
          ]
        },
        {
          "name": "stderr",
          "output_type": "stream",
          "text": [
            "\r 19%|█▉        | 108/556 [22:41<1:34:15, 12.62s/it]"
          ]
        },
        {
          "name": "stdout",
          "output_type": "stream",
          "text": [
            "935.jpg\n"
          ]
        },
        {
          "name": "stderr",
          "output_type": "stream",
          "text": [
            "\r 20%|█▉        | 109/556 [22:55<1:37:58, 13.15s/it]"
          ]
        },
        {
          "name": "stdout",
          "output_type": "stream",
          "text": [
            "948.jpg\n"
          ]
        },
        {
          "name": "stderr",
          "output_type": "stream",
          "text": [
            "\r 20%|█▉        | 110/556 [23:06<1:31:42, 12.34s/it]"
          ]
        },
        {
          "name": "stdout",
          "output_type": "stream",
          "text": [
            "750.jpg\n"
          ]
        },
        {
          "name": "stderr",
          "output_type": "stream",
          "text": [
            "\r 20%|█▉        | 111/556 [23:23<1:41:33, 13.69s/it]"
          ]
        },
        {
          "name": "stdout",
          "output_type": "stream",
          "text": [
            "1026.jpg\n"
          ]
        },
        {
          "name": "stderr",
          "output_type": "stream",
          "text": [
            "\r 20%|██        | 112/556 [23:32<1:31:08, 12.32s/it]"
          ]
        },
        {
          "name": "stdout",
          "output_type": "stream",
          "text": [
            "920.jpg\n"
          ]
        },
        {
          "name": "stderr",
          "output_type": "stream",
          "text": [
            "\r 20%|██        | 113/556 [23:42<1:26:43, 11.75s/it]"
          ]
        },
        {
          "name": "stdout",
          "output_type": "stream",
          "text": [
            "830.jpg\n"
          ]
        },
        {
          "name": "stderr",
          "output_type": "stream",
          "text": [
            "\r 21%|██        | 114/556 [23:53<1:24:16, 11.44s/it]"
          ]
        },
        {
          "name": "stdout",
          "output_type": "stream",
          "text": [
            "735.jpg\n"
          ]
        },
        {
          "name": "stderr",
          "output_type": "stream",
          "text": [
            "\r 21%|██        | 115/556 [24:08<1:32:21, 12.57s/it]"
          ]
        },
        {
          "name": "stdout",
          "output_type": "stream",
          "text": [
            "793.jpg\n"
          ]
        },
        {
          "name": "stderr",
          "output_type": "stream",
          "text": [
            "\r 21%|██        | 116/556 [24:21<1:32:56, 12.67s/it]"
          ]
        },
        {
          "name": "stdout",
          "output_type": "stream",
          "text": [
            "1035.jpg\n"
          ]
        },
        {
          "name": "stderr",
          "output_type": "stream",
          "text": [
            "\r 21%|██        | 117/556 [24:33<1:31:51, 12.55s/it]"
          ]
        },
        {
          "name": "stdout",
          "output_type": "stream",
          "text": [
            "1147.jpg\n"
          ]
        },
        {
          "name": "stderr",
          "output_type": "stream",
          "text": [
            "\r 21%|██        | 118/556 [24:44<1:27:29, 11.99s/it]"
          ]
        },
        {
          "name": "stdout",
          "output_type": "stream",
          "text": [
            "714.jpg\n"
          ]
        },
        {
          "name": "stderr",
          "output_type": "stream",
          "text": [
            "\r 21%|██▏       | 119/556 [24:59<1:35:14, 13.08s/it]"
          ]
        },
        {
          "name": "stdout",
          "output_type": "stream",
          "text": [
            "785.jpg\n"
          ]
        },
        {
          "name": "stderr",
          "output_type": "stream",
          "text": [
            "\r 22%|██▏       | 120/556 [25:15<1:40:25, 13.82s/it]"
          ]
        },
        {
          "name": "stdout",
          "output_type": "stream",
          "text": [
            "1212.jpg\n"
          ]
        },
        {
          "name": "stderr",
          "output_type": "stream",
          "text": [
            "\r 22%|██▏       | 121/556 [25:26<1:33:08, 12.85s/it]"
          ]
        },
        {
          "name": "stdout",
          "output_type": "stream",
          "text": [
            "1081.jpg\n"
          ]
        },
        {
          "name": "stderr",
          "output_type": "stream",
          "text": [
            "\r 22%|██▏       | 122/556 [25:38<1:31:41, 12.68s/it]"
          ]
        },
        {
          "name": "stdout",
          "output_type": "stream",
          "text": [
            "883.jpg\n"
          ]
        },
        {
          "name": "stderr",
          "output_type": "stream",
          "text": [
            "\r 22%|██▏       | 123/556 [25:49<1:27:07, 12.07s/it]"
          ]
        },
        {
          "name": "stdout",
          "output_type": "stream",
          "text": [
            "1166.jpg\n"
          ]
        },
        {
          "name": "stderr",
          "output_type": "stream",
          "text": [
            "\r 22%|██▏       | 124/556 [26:04<1:34:24, 13.11s/it]"
          ]
        },
        {
          "name": "stdout",
          "output_type": "stream",
          "text": [
            "1045.jpg\n"
          ]
        },
        {
          "name": "stderr",
          "output_type": "stream",
          "text": [
            "\r 22%|██▏       | 125/556 [26:21<1:42:41, 14.30s/it]"
          ]
        },
        {
          "name": "stdout",
          "output_type": "stream",
          "text": [
            "1195.jpg\n"
          ]
        },
        {
          "name": "stderr",
          "output_type": "stream",
          "text": [
            "\r 23%|██▎       | 126/556 [26:33<1:38:17, 13.71s/it]"
          ]
        },
        {
          "name": "stdout",
          "output_type": "stream",
          "text": [
            "880.jpg\n"
          ]
        },
        {
          "name": "stderr",
          "output_type": "stream",
          "text": [
            "\r 23%|██▎       | 127/556 [26:43<1:28:48, 12.42s/it]"
          ]
        },
        {
          "name": "stdout",
          "output_type": "stream",
          "text": [
            "998.jpg\n"
          ]
        },
        {
          "name": "stderr",
          "output_type": "stream",
          "text": [
            "\r 23%|██▎       | 128/556 [26:58<1:33:25, 13.10s/it]"
          ]
        },
        {
          "name": "stdout",
          "output_type": "stream",
          "text": [
            "1152.jpg\n"
          ]
        },
        {
          "name": "stderr",
          "output_type": "stream",
          "text": [
            "\r 23%|██▎       | 129/556 [27:13<1:38:12, 13.80s/it]"
          ]
        },
        {
          "name": "stdout",
          "output_type": "stream",
          "text": [
            "787.jpg\n"
          ]
        },
        {
          "name": "stderr",
          "output_type": "stream",
          "text": [
            "\r 23%|██▎       | 130/556 [27:24<1:31:26, 12.88s/it]"
          ]
        },
        {
          "name": "stdout",
          "output_type": "stream",
          "text": [
            "718.jpg\n"
          ]
        },
        {
          "name": "stderr",
          "output_type": "stream",
          "text": [
            "\r 24%|██▎       | 131/556 [27:34<1:26:20, 12.19s/it]"
          ]
        },
        {
          "name": "stdout",
          "output_type": "stream",
          "text": [
            "851.jpg\n"
          ]
        },
        {
          "name": "stderr",
          "output_type": "stream",
          "text": [
            "\r 24%|██▎       | 132/556 [27:46<1:26:03, 12.18s/it]"
          ]
        },
        {
          "name": "stdout",
          "output_type": "stream",
          "text": [
            "973.jpg\n"
          ]
        },
        {
          "name": "stderr",
          "output_type": "stream",
          "text": [
            "\r 24%|██▍       | 133/556 [27:57<1:22:51, 11.75s/it]"
          ]
        },
        {
          "name": "stdout",
          "output_type": "stream",
          "text": [
            "868.jpg\n"
          ]
        },
        {
          "name": "stderr",
          "output_type": "stream",
          "text": [
            "\r 24%|██▍       | 134/556 [28:12<1:28:37, 12.60s/it]"
          ]
        },
        {
          "name": "stdout",
          "output_type": "stream",
          "text": [
            "1170.jpg\n"
          ]
        },
        {
          "name": "stderr",
          "output_type": "stream",
          "text": [
            "\r 24%|██▍       | 135/556 [28:27<1:34:44, 13.50s/it]"
          ]
        },
        {
          "name": "stdout",
          "output_type": "stream",
          "text": [
            "1188.jpg\n"
          ]
        },
        {
          "name": "stderr",
          "output_type": "stream",
          "text": [
            "\r 24%|██▍       | 136/556 [28:43<1:39:04, 14.15s/it]"
          ]
        },
        {
          "name": "stdout",
          "output_type": "stream",
          "text": [
            "755.jpg\n"
          ]
        },
        {
          "name": "stderr",
          "output_type": "stream",
          "text": [
            "\r 25%|██▍       | 137/556 [28:59<1:41:30, 14.53s/it]"
          ]
        },
        {
          "name": "stdout",
          "output_type": "stream",
          "text": [
            "1071.jpg\n"
          ]
        },
        {
          "name": "stderr",
          "output_type": "stream",
          "text": [
            "\r 25%|██▍       | 138/556 [29:12<1:38:14, 14.10s/it]"
          ]
        },
        {
          "name": "stdout",
          "output_type": "stream",
          "text": [
            "955.jpg\n"
          ]
        },
        {
          "name": "stderr",
          "output_type": "stream",
          "text": [
            "\r 25%|██▌       | 139/556 [29:26<1:39:24, 14.30s/it]"
          ]
        },
        {
          "name": "stdout",
          "output_type": "stream",
          "text": [
            "899.jpg\n"
          ]
        },
        {
          "name": "stderr",
          "output_type": "stream",
          "text": [
            "\r 25%|██▌       | 140/556 [29:37<1:31:24, 13.18s/it]"
          ]
        },
        {
          "name": "stdout",
          "output_type": "stream",
          "text": [
            "696.jpg\n"
          ]
        },
        {
          "name": "stderr",
          "output_type": "stream",
          "text": [
            "\r 25%|██▌       | 141/556 [29:52<1:35:52, 13.86s/it]"
          ]
        },
        {
          "name": "stdout",
          "output_type": "stream",
          "text": [
            "766.jpg\n"
          ]
        },
        {
          "name": "stderr",
          "output_type": "stream",
          "text": [
            "\r 26%|██▌       | 142/556 [30:08<1:38:57, 14.34s/it]"
          ]
        },
        {
          "name": "stdout",
          "output_type": "stream",
          "text": [
            "1197.jpg\n"
          ]
        },
        {
          "name": "stderr",
          "output_type": "stream",
          "text": [
            "\r 26%|██▌       | 143/556 [30:18<1:30:46, 13.19s/it]"
          ]
        },
        {
          "name": "stdout",
          "output_type": "stream",
          "text": [
            "871.jpg\n"
          ]
        },
        {
          "name": "stderr",
          "output_type": "stream",
          "text": [
            "\r 26%|██▌       | 144/556 [30:32<1:30:32, 13.19s/it]"
          ]
        },
        {
          "name": "stdout",
          "output_type": "stream",
          "text": [
            "1057.jpg\n"
          ]
        },
        {
          "name": "stderr",
          "output_type": "stream",
          "text": [
            "\r 26%|██▌       | 145/556 [30:42<1:25:00, 12.41s/it]"
          ]
        },
        {
          "name": "stdout",
          "output_type": "stream",
          "text": [
            "921.jpg\n"
          ]
        },
        {
          "name": "stderr",
          "output_type": "stream",
          "text": [
            "\r 26%|██▋       | 146/556 [30:58<1:30:58, 13.31s/it]"
          ]
        },
        {
          "name": "stdout",
          "output_type": "stream",
          "text": [
            "993.jpg\n"
          ]
        },
        {
          "name": "stderr",
          "output_type": "stream",
          "text": [
            "\r 26%|██▋       | 147/556 [31:12<1:33:03, 13.65s/it]"
          ]
        },
        {
          "name": "stdout",
          "output_type": "stream",
          "text": [
            "826.jpg\n"
          ]
        },
        {
          "name": "stderr",
          "output_type": "stream",
          "text": [
            "\r 27%|██▋       | 148/556 [31:27<1:36:01, 14.12s/it]"
          ]
        },
        {
          "name": "stdout",
          "output_type": "stream",
          "text": [
            "879.jpg\n"
          ]
        },
        {
          "name": "stderr",
          "output_type": "stream",
          "text": [
            "\r 27%|██▋       | 149/556 [31:38<1:28:51, 13.10s/it]"
          ]
        },
        {
          "name": "stdout",
          "output_type": "stream",
          "text": [
            "1163.jpg\n"
          ]
        },
        {
          "name": "stderr",
          "output_type": "stream",
          "text": [
            "\r 27%|██▋       | 150/556 [31:53<1:33:31, 13.82s/it]"
          ]
        },
        {
          "name": "stdout",
          "output_type": "stream",
          "text": [
            "764.jpg\n"
          ]
        },
        {
          "name": "stderr",
          "output_type": "stream",
          "text": [
            "\r 27%|██▋       | 151/556 [32:09<1:36:26, 14.29s/it]"
          ]
        },
        {
          "name": "stdout",
          "output_type": "stream",
          "text": [
            "1138.jpg\n"
          ]
        },
        {
          "name": "stderr",
          "output_type": "stream",
          "text": [
            "\r 27%|██▋       | 152/556 [32:17<1:24:09, 12.50s/it]"
          ]
        },
        {
          "name": "stdout",
          "output_type": "stream",
          "text": [
            "1099.jpg\n"
          ]
        },
        {
          "name": "stderr",
          "output_type": "stream",
          "text": [
            "\r 28%|██▊       | 153/556 [32:28<1:20:40, 12.01s/it]"
          ]
        },
        {
          "name": "stdout",
          "output_type": "stream",
          "text": [
            "946.jpg\n"
          ]
        },
        {
          "name": "stderr",
          "output_type": "stream",
          "text": [
            "\r 28%|██▊       | 154/556 [32:40<1:20:47, 12.06s/it]"
          ]
        },
        {
          "name": "stdout",
          "output_type": "stream",
          "text": [
            "1073.jpg\n"
          ]
        },
        {
          "name": "stderr",
          "output_type": "stream",
          "text": [
            "\r 28%|██▊       | 155/556 [32:56<1:27:51, 13.15s/it]"
          ]
        },
        {
          "name": "stdout",
          "output_type": "stream",
          "text": [
            "908.jpg\n"
          ]
        },
        {
          "name": "stderr",
          "output_type": "stream",
          "text": [
            "\r 28%|██▊       | 156/556 [33:05<1:19:47, 11.97s/it]"
          ]
        },
        {
          "name": "stdout",
          "output_type": "stream",
          "text": [
            "968.jpg\n"
          ]
        },
        {
          "name": "stderr",
          "output_type": "stream",
          "text": [
            "\r 28%|██▊       | 157/556 [33:20<1:26:18, 12.98s/it]"
          ]
        },
        {
          "name": "stdout",
          "output_type": "stream",
          "text": [
            "1157.jpg\n"
          ]
        },
        {
          "name": "stderr",
          "output_type": "stream",
          "text": [
            "\r 28%|██▊       | 158/556 [33:32<1:24:13, 12.70s/it]"
          ]
        },
        {
          "name": "stdout",
          "output_type": "stream",
          "text": [
            "976.jpg\n"
          ]
        },
        {
          "name": "stderr",
          "output_type": "stream",
          "text": [
            "\r 29%|██▊       | 159/556 [33:43<1:20:00, 12.09s/it]"
          ]
        },
        {
          "name": "stdout",
          "output_type": "stream",
          "text": [
            "862.jpg\n"
          ]
        },
        {
          "name": "stderr",
          "output_type": "stream",
          "text": [
            "\r 29%|██▉       | 160/556 [33:52<1:12:29, 10.98s/it]"
          ]
        },
        {
          "name": "stdout",
          "output_type": "stream",
          "text": [
            "981.jpg\n"
          ]
        },
        {
          "name": "stderr",
          "output_type": "stream",
          "text": [
            "\r 29%|██▉       | 161/556 [34:02<1:11:41, 10.89s/it]"
          ]
        },
        {
          "name": "stdout",
          "output_type": "stream",
          "text": [
            "688.jpg\n"
          ]
        },
        {
          "name": "stderr",
          "output_type": "stream",
          "text": [
            "\r 29%|██▉       | 162/556 [34:18<1:20:31, 12.26s/it]"
          ]
        },
        {
          "name": "stdout",
          "output_type": "stream",
          "text": [
            "1227.jpg\n"
          ]
        },
        {
          "name": "stderr",
          "output_type": "stream",
          "text": [
            "\r 29%|██▉       | 163/556 [34:33<1:26:37, 13.23s/it]"
          ]
        },
        {
          "name": "stdout",
          "output_type": "stream",
          "text": [
            "744.jpg\n"
          ]
        },
        {
          "name": "stderr",
          "output_type": "stream",
          "text": [
            "\r 29%|██▉       | 164/556 [34:49<1:31:05, 13.94s/it]"
          ]
        },
        {
          "name": "stdout",
          "output_type": "stream",
          "text": [
            "1189.jpg\n"
          ]
        },
        {
          "name": "stderr",
          "output_type": "stream",
          "text": [
            "\r 30%|██▉       | 165/556 [35:04<1:33:33, 14.36s/it]"
          ]
        },
        {
          "name": "stdout",
          "output_type": "stream",
          "text": [
            "713.jpg\n"
          ]
        },
        {
          "name": "stderr",
          "output_type": "stream",
          "text": [
            "\r 30%|██▉       | 166/556 [35:16<1:28:58, 13.69s/it]"
          ]
        },
        {
          "name": "stdout",
          "output_type": "stream",
          "text": [
            "1053.jpg\n"
          ]
        },
        {
          "name": "stderr",
          "output_type": "stream",
          "text": [
            "\r 30%|███       | 167/556 [35:33<1:35:13, 14.69s/it]"
          ]
        },
        {
          "name": "stdout",
          "output_type": "stream",
          "text": [
            "844.jpg\n"
          ]
        },
        {
          "name": "stderr",
          "output_type": "stream",
          "text": [
            "\r 30%|███       | 168/556 [35:44<1:27:05, 13.47s/it]"
          ]
        },
        {
          "name": "stdout",
          "output_type": "stream",
          "text": [
            "1159.jpg\n"
          ]
        },
        {
          "name": "stderr",
          "output_type": "stream",
          "text": [
            "\r 30%|███       | 169/556 [35:53<1:18:31, 12.17s/it]"
          ]
        },
        {
          "name": "stdout",
          "output_type": "stream",
          "text": [
            "857.jpg\n"
          ]
        },
        {
          "name": "stderr",
          "output_type": "stream",
          "text": [
            "\r 31%|███       | 170/556 [36:02<1:12:37, 11.29s/it]"
          ]
        },
        {
          "name": "stdout",
          "output_type": "stream",
          "text": [
            "1215.jpg\n"
          ]
        },
        {
          "name": "stderr",
          "output_type": "stream",
          "text": [
            "\r 31%|███       | 171/556 [36:13<1:11:00, 11.07s/it]"
          ]
        },
        {
          "name": "stdout",
          "output_type": "stream",
          "text": [
            "675.jpg\n"
          ]
        },
        {
          "name": "stderr",
          "output_type": "stream",
          "text": [
            "\r 31%|███       | 172/556 [36:28<1:19:12, 12.38s/it]"
          ]
        },
        {
          "name": "stdout",
          "output_type": "stream",
          "text": [
            "1161.jpg\n"
          ]
        },
        {
          "name": "stderr",
          "output_type": "stream",
          "text": [
            "\r 31%|███       | 173/556 [36:40<1:18:49, 12.35s/it]"
          ]
        },
        {
          "name": "stdout",
          "output_type": "stream",
          "text": [
            "1155.jpg\n"
          ]
        },
        {
          "name": "stderr",
          "output_type": "stream",
          "text": [
            "\r 31%|███▏      | 174/556 [36:56<1:24:50, 13.33s/it]"
          ]
        },
        {
          "name": "stdout",
          "output_type": "stream",
          "text": [
            "687.jpg\n"
          ]
        },
        {
          "name": "stderr",
          "output_type": "stream",
          "text": [
            "\r 31%|███▏      | 175/556 [37:07<1:19:40, 12.55s/it]"
          ]
        },
        {
          "name": "stdout",
          "output_type": "stream",
          "text": [
            "989.jpg\n"
          ]
        },
        {
          "name": "stderr",
          "output_type": "stream",
          "text": [
            "\r 32%|███▏      | 176/556 [37:22<1:24:47, 13.39s/it]"
          ]
        },
        {
          "name": "stdout",
          "output_type": "stream",
          "text": [
            "814.jpg\n"
          ]
        },
        {
          "name": "stderr",
          "output_type": "stream",
          "text": [
            "\r 32%|███▏      | 177/556 [37:29<1:13:04, 11.57s/it]"
          ]
        },
        {
          "name": "stdout",
          "output_type": "stream",
          "text": [
            "809.jpg\n"
          ]
        },
        {
          "name": "stderr",
          "output_type": "stream",
          "text": [
            "\r 32%|███▏      | 178/556 [37:45<1:20:22, 12.76s/it]"
          ]
        },
        {
          "name": "stdout",
          "output_type": "stream",
          "text": [
            "799.jpg\n"
          ]
        },
        {
          "name": "stderr",
          "output_type": "stream",
          "text": [
            "\r 32%|███▏      | 179/556 [37:54<1:13:39, 11.72s/it]"
          ]
        },
        {
          "name": "stdout",
          "output_type": "stream",
          "text": [
            "1206.jpg\n"
          ]
        },
        {
          "name": "stderr",
          "output_type": "stream",
          "text": [
            "\r 32%|███▏      | 180/556 [38:10<1:20:45, 12.89s/it]"
          ]
        },
        {
          "name": "stdout",
          "output_type": "stream",
          "text": [
            "1044.jpg\n"
          ]
        },
        {
          "name": "stderr",
          "output_type": "stream",
          "text": [
            "\r 33%|███▎      | 181/556 [38:21<1:16:40, 12.27s/it]"
          ]
        },
        {
          "name": "stdout",
          "output_type": "stream",
          "text": [
            "1128.jpg\n"
          ]
        },
        {
          "name": "stderr",
          "output_type": "stream",
          "text": [
            "\r 33%|███▎      | 182/556 [38:38<1:25:21, 13.69s/it]"
          ]
        },
        {
          "name": "stdout",
          "output_type": "stream",
          "text": [
            "929.jpg\n"
          ]
        },
        {
          "name": "stderr",
          "output_type": "stream",
          "text": [
            "\r 33%|███▎      | 183/556 [38:54<1:29:02, 14.32s/it]"
          ]
        },
        {
          "name": "stdout",
          "output_type": "stream",
          "text": [
            "1121.jpg\n"
          ]
        },
        {
          "name": "stderr",
          "output_type": "stream",
          "text": [
            "\r 33%|███▎      | 184/556 [39:06<1:25:06, 13.73s/it]"
          ]
        },
        {
          "name": "stdout",
          "output_type": "stream",
          "text": [
            "875.jpg\n"
          ]
        },
        {
          "name": "stderr",
          "output_type": "stream",
          "text": [
            "\r 33%|███▎      | 185/556 [39:21<1:27:09, 14.09s/it]"
          ]
        },
        {
          "name": "stdout",
          "output_type": "stream",
          "text": [
            "818.jpg\n"
          ]
        },
        {
          "name": "stderr",
          "output_type": "stream",
          "text": [
            "\r 33%|███▎      | 186/556 [39:32<1:20:36, 13.07s/it]"
          ]
        },
        {
          "name": "stdout",
          "output_type": "stream",
          "text": [
            "963.jpg\n"
          ]
        },
        {
          "name": "stderr",
          "output_type": "stream",
          "text": [
            "\r 34%|███▎      | 187/556 [39:47<1:25:07, 13.84s/it]"
          ]
        },
        {
          "name": "stdout",
          "output_type": "stream",
          "text": [
            "937.jpg\n"
          ]
        },
        {
          "name": "stderr",
          "output_type": "stream",
          "text": [
            "\r 34%|███▍      | 188/556 [40:03<1:28:33, 14.44s/it]"
          ]
        },
        {
          "name": "stdout",
          "output_type": "stream",
          "text": [
            "742.jpg\n"
          ]
        },
        {
          "name": "stderr",
          "output_type": "stream",
          "text": [
            "\r 34%|███▍      | 189/556 [40:14<1:22:01, 13.41s/it]"
          ]
        },
        {
          "name": "stdout",
          "output_type": "stream",
          "text": [
            "717.jpg\n"
          ]
        },
        {
          "name": "stderr",
          "output_type": "stream",
          "text": [
            "\r 34%|███▍      | 190/556 [40:27<1:21:29, 13.36s/it]"
          ]
        },
        {
          "name": "stdout",
          "output_type": "stream",
          "text": [
            "1196.jpg\n"
          ]
        },
        {
          "name": "stderr",
          "output_type": "stream",
          "text": [
            "\r 34%|███▍      | 191/556 [40:40<1:19:19, 13.04s/it]"
          ]
        },
        {
          "name": "stdout",
          "output_type": "stream",
          "text": [
            "691.jpg\n"
          ]
        },
        {
          "name": "stderr",
          "output_type": "stream",
          "text": [
            "\r 35%|███▍      | 192/556 [40:55<1:24:09, 13.87s/it]"
          ]
        },
        {
          "name": "stdout",
          "output_type": "stream",
          "text": [
            "1095.jpg\n"
          ]
        },
        {
          "name": "stderr",
          "output_type": "stream",
          "text": [
            "\r 35%|███▍      | 193/556 [41:06<1:17:57, 12.88s/it]"
          ]
        },
        {
          "name": "stdout",
          "output_type": "stream",
          "text": [
            "1222.jpg\n"
          ]
        },
        {
          "name": "stderr",
          "output_type": "stream",
          "text": [
            "\r 35%|███▍      | 194/556 [41:22<1:22:51, 13.73s/it]"
          ]
        },
        {
          "name": "stdout",
          "output_type": "stream",
          "text": [
            "994.jpg\n"
          ]
        },
        {
          "name": "stderr",
          "output_type": "stream",
          "text": [
            "\r 35%|███▌      | 195/556 [41:32<1:15:40, 12.58s/it]"
          ]
        },
        {
          "name": "stdout",
          "output_type": "stream",
          "text": [
            "811.jpg\n"
          ]
        },
        {
          "name": "stderr",
          "output_type": "stream",
          "text": [
            "\r 35%|███▌      | 196/556 [41:45<1:16:35, 12.76s/it]"
          ]
        },
        {
          "name": "stdout",
          "output_type": "stream",
          "text": [
            "1148.jpg\n"
          ]
        },
        {
          "name": "stderr",
          "output_type": "stream",
          "text": [
            "\r 35%|███▌      | 197/556 [42:00<1:21:36, 13.64s/it]"
          ]
        },
        {
          "name": "stdout",
          "output_type": "stream",
          "text": [
            "1017.jpg\n"
          ]
        },
        {
          "name": "stderr",
          "output_type": "stream",
          "text": [
            "\r 36%|███▌      | 198/556 [42:16<1:24:44, 14.20s/it]"
          ]
        },
        {
          "name": "stdout",
          "output_type": "stream",
          "text": [
            "966.jpg\n"
          ]
        },
        {
          "name": "stderr",
          "output_type": "stream",
          "text": [
            "\r 36%|███▌      | 199/556 [42:31<1:26:53, 14.61s/it]"
          ]
        },
        {
          "name": "stdout",
          "output_type": "stream",
          "text": [
            "1229.jpg\n"
          ]
        },
        {
          "name": "stderr",
          "output_type": "stream",
          "text": [
            "\r 36%|███▌      | 200/556 [42:42<1:19:53, 13.47s/it]"
          ]
        },
        {
          "name": "stdout",
          "output_type": "stream",
          "text": [
            "910.jpg\n"
          ]
        },
        {
          "name": "stderr",
          "output_type": "stream",
          "text": [
            "\r 36%|███▌      | 201/556 [42:58<1:23:17, 14.08s/it]"
          ]
        },
        {
          "name": "stdout",
          "output_type": "stream",
          "text": [
            "982.jpg\n"
          ]
        },
        {
          "name": "stderr",
          "output_type": "stream",
          "text": [
            "\r 36%|███▋      | 202/556 [43:14<1:25:54, 14.56s/it]"
          ]
        },
        {
          "name": "stdout",
          "output_type": "stream",
          "text": [
            "681.jpg\n"
          ]
        },
        {
          "name": "stderr",
          "output_type": "stream",
          "text": [
            "\r 37%|███▋      | 203/556 [43:23<1:16:33, 13.01s/it]"
          ]
        },
        {
          "name": "stdout",
          "output_type": "stream",
          "text": [
            "1007.jpg\n"
          ]
        },
        {
          "name": "stderr",
          "output_type": "stream",
          "text": [
            "\r 37%|███▋      | 204/556 [43:32<1:09:46, 11.89s/it]"
          ]
        },
        {
          "name": "stdout",
          "output_type": "stream",
          "text": [
            "1162.jpg\n"
          ]
        },
        {
          "name": "stderr",
          "output_type": "stream",
          "text": [
            "\r 37%|███▋      | 205/556 [43:47<1:14:39, 12.76s/it]"
          ]
        },
        {
          "name": "stdout",
          "output_type": "stream",
          "text": [
            "692.jpg\n"
          ]
        },
        {
          "name": "stderr",
          "output_type": "stream",
          "text": [
            "\r 37%|███▋      | 206/556 [43:59<1:13:20, 12.57s/it]"
          ]
        },
        {
          "name": "stdout",
          "output_type": "stream",
          "text": [
            "1080.jpg\n"
          ]
        },
        {
          "name": "stderr",
          "output_type": "stream",
          "text": [
            "\r 37%|███▋      | 207/556 [44:15<1:18:33, 13.51s/it]"
          ]
        },
        {
          "name": "stdout",
          "output_type": "stream",
          "text": [
            "864.jpg\n"
          ]
        },
        {
          "name": "stderr",
          "output_type": "stream",
          "text": [
            "\r 37%|███▋      | 208/556 [44:30<1:21:48, 14.10s/it]"
          ]
        },
        {
          "name": "stdout",
          "output_type": "stream",
          "text": [
            "796.jpg\n"
          ]
        },
        {
          "name": "stderr",
          "output_type": "stream",
          "text": [
            "\r 38%|███▊      | 209/556 [44:45<1:22:51, 14.33s/it]"
          ]
        },
        {
          "name": "stdout",
          "output_type": "stream",
          "text": [
            "964.jpg\n"
          ]
        },
        {
          "name": "stderr",
          "output_type": "stream",
          "text": [
            "\r 38%|███▊      | 210/556 [45:03<1:28:13, 15.30s/it]"
          ]
        },
        {
          "name": "stdout",
          "output_type": "stream",
          "text": [
            "756.jpg\n"
          ]
        },
        {
          "name": "stderr",
          "output_type": "stream",
          "text": [
            "\r 38%|███▊      | 211/556 [45:12<1:17:47, 13.53s/it]"
          ]
        },
        {
          "name": "stdout",
          "output_type": "stream",
          "text": [
            "751.jpg\n"
          ]
        },
        {
          "name": "stderr",
          "output_type": "stream",
          "text": [
            "\r 38%|███▊      | 212/556 [45:28<1:21:17, 14.18s/it]"
          ]
        },
        {
          "name": "stdout",
          "output_type": "stream",
          "text": [
            "911.jpg\n"
          ]
        },
        {
          "name": "stderr",
          "output_type": "stream",
          "text": [
            "\r 38%|███▊      | 213/556 [45:39<1:15:14, 13.16s/it]"
          ]
        },
        {
          "name": "stdout",
          "output_type": "stream",
          "text": [
            "683.jpg\n"
          ]
        },
        {
          "name": "stderr",
          "output_type": "stream",
          "text": [
            "\r 38%|███▊      | 214/556 [45:52<1:15:18, 13.21s/it]"
          ]
        },
        {
          "name": "stdout",
          "output_type": "stream",
          "text": [
            "876.jpg\n"
          ]
        },
        {
          "name": "stderr",
          "output_type": "stream",
          "text": [
            "\r 39%|███▊      | 215/556 [46:08<1:19:28, 13.98s/it]"
          ]
        },
        {
          "name": "stdout",
          "output_type": "stream",
          "text": [
            "1093.jpg\n"
          ]
        },
        {
          "name": "stderr",
          "output_type": "stream",
          "text": [
            "\r 39%|███▉      | 216/556 [46:23<1:22:03, 14.48s/it]"
          ]
        },
        {
          "name": "stdout",
          "output_type": "stream",
          "text": [
            "936.jpg\n"
          ]
        },
        {
          "name": "stderr",
          "output_type": "stream",
          "text": [
            "\r 39%|███▉      | 217/556 [46:33<1:13:11, 12.95s/it]"
          ]
        },
        {
          "name": "stdout",
          "output_type": "stream",
          "text": [
            "821.jpg\n"
          ]
        },
        {
          "name": "stderr",
          "output_type": "stream",
          "text": [
            "\r 39%|███▉      | 218/556 [46:49<1:17:47, 13.81s/it]"
          ]
        },
        {
          "name": "stdout",
          "output_type": "stream",
          "text": [
            "1187.jpg\n"
          ]
        },
        {
          "name": "stderr",
          "output_type": "stream",
          "text": [
            "\r 39%|███▉      | 219/556 [46:58<1:10:17, 12.52s/it]"
          ]
        },
        {
          "name": "stdout",
          "output_type": "stream",
          "text": [
            "1028.jpg\n"
          ]
        },
        {
          "name": "stderr",
          "output_type": "stream",
          "text": [
            "\r 40%|███▉      | 220/556 [47:09<1:07:23, 12.03s/it]"
          ]
        },
        {
          "name": "stdout",
          "output_type": "stream",
          "text": [
            "996.jpg\n"
          ]
        },
        {
          "name": "stderr",
          "output_type": "stream",
          "text": [
            "\r 40%|███▉      | 221/556 [47:21<1:07:56, 12.17s/it]"
          ]
        },
        {
          "name": "stdout",
          "output_type": "stream",
          "text": [
            "817.jpg\n"
          ]
        },
        {
          "name": "stderr",
          "output_type": "stream",
          "text": [
            "\r 40%|███▉      | 222/556 [47:32<1:05:25, 11.75s/it]"
          ]
        },
        {
          "name": "stdout",
          "output_type": "stream",
          "text": [
            "919.jpg\n"
          ]
        },
        {
          "name": "stderr",
          "output_type": "stream",
          "text": [
            "\r 40%|████      | 223/556 [47:48<1:11:49, 12.94s/it]"
          ]
        },
        {
          "name": "stdout",
          "output_type": "stream",
          "text": [
            "957.jpg\n"
          ]
        },
        {
          "name": "stderr",
          "output_type": "stream",
          "text": [
            "\r 40%|████      | 224/556 [48:02<1:13:54, 13.36s/it]"
          ]
        },
        {
          "name": "stdout",
          "output_type": "stream",
          "text": [
            "859.jpg\n"
          ]
        },
        {
          "name": "stderr",
          "output_type": "stream",
          "text": [
            "\r 40%|████      | 225/556 [48:13<1:09:14, 12.55s/it]"
          ]
        },
        {
          "name": "stdout",
          "output_type": "stream",
          "text": [
            "914.jpg\n"
          ]
        },
        {
          "name": "stderr",
          "output_type": "stream",
          "text": [
            "\r 41%|████      | 226/556 [48:24<1:06:08, 12.02s/it]"
          ]
        },
        {
          "name": "stdout",
          "output_type": "stream",
          "text": [
            "1208.jpg\n"
          ]
        },
        {
          "name": "stderr",
          "output_type": "stream",
          "text": [
            "\r 41%|████      | 227/556 [48:33<1:01:39, 11.25s/it]"
          ]
        },
        {
          "name": "stdout",
          "output_type": "stream",
          "text": [
            "1100.jpg\n"
          ]
        },
        {
          "name": "stderr",
          "output_type": "stream",
          "text": [
            "\r 41%|████      | 228/556 [48:46<1:03:22, 11.59s/it]"
          ]
        },
        {
          "name": "stdout",
          "output_type": "stream",
          "text": [
            "1202.jpg\n"
          ]
        },
        {
          "name": "stderr",
          "output_type": "stream",
          "text": [
            "\r 41%|████      | 229/556 [48:58<1:04:28, 11.83s/it]"
          ]
        },
        {
          "name": "stdout",
          "output_type": "stream",
          "text": [
            "705.jpg\n"
          ]
        },
        {
          "name": "stderr",
          "output_type": "stream",
          "text": [
            "\r 41%|████▏     | 230/556 [49:09<1:02:39, 11.53s/it]"
          ]
        },
        {
          "name": "stdout",
          "output_type": "stream",
          "text": [
            "1005.jpg\n"
          ]
        },
        {
          "name": "stderr",
          "output_type": "stream",
          "text": [
            "\r 42%|████▏     | 231/556 [49:21<1:03:20, 11.69s/it]"
          ]
        },
        {
          "name": "stdout",
          "output_type": "stream",
          "text": [
            "1132.jpg\n"
          ]
        },
        {
          "name": "stderr",
          "output_type": "stream",
          "text": [
            "\r 42%|████▏     | 232/556 [49:28<56:12, 10.41s/it]  "
          ]
        },
        {
          "name": "stdout",
          "output_type": "stream",
          "text": [
            "991.jpg\n"
          ]
        },
        {
          "name": "stderr",
          "output_type": "stream",
          "text": [
            "\r 42%|████▏     | 233/556 [49:40<58:57, 10.95s/it]"
          ]
        },
        {
          "name": "stdout",
          "output_type": "stream",
          "text": [
            "1020.jpg\n"
          ]
        },
        {
          "name": "stderr",
          "output_type": "stream",
          "text": [
            "\r 42%|████▏     | 234/556 [49:56<1:06:01, 12.30s/it]"
          ]
        },
        {
          "name": "stdout",
          "output_type": "stream",
          "text": [
            "858.jpg\n"
          ]
        },
        {
          "name": "stderr",
          "output_type": "stream",
          "text": [
            "\r 42%|████▏     | 235/556 [50:12<1:11:11, 13.31s/it]"
          ]
        },
        {
          "name": "stdout",
          "output_type": "stream",
          "text": [
            "972.jpg\n"
          ]
        },
        {
          "name": "stderr",
          "output_type": "stream",
          "text": [
            "\r 42%|████▏     | 236/556 [50:26<1:13:19, 13.75s/it]"
          ]
        },
        {
          "name": "stdout",
          "output_type": "stream",
          "text": [
            "984.jpg\n"
          ]
        },
        {
          "name": "stderr",
          "output_type": "stream",
          "text": [
            "\r 43%|████▎     | 237/556 [50:39<1:10:49, 13.32s/it]"
          ]
        },
        {
          "name": "stdout",
          "output_type": "stream",
          "text": [
            "1010.jpg\n"
          ]
        },
        {
          "name": "stderr",
          "output_type": "stream",
          "text": [
            "\r 43%|████▎     | 238/556 [50:54<1:14:14, 14.01s/it]"
          ]
        },
        {
          "name": "stdout",
          "output_type": "stream",
          "text": [
            "741.jpg\n"
          ]
        },
        {
          "name": "stderr",
          "output_type": "stream",
          "text": [
            "\r 43%|████▎     | 239/556 [51:11<1:18:06, 14.79s/it]"
          ]
        },
        {
          "name": "stdout",
          "output_type": "stream",
          "text": [
            "712.jpg\n"
          ]
        },
        {
          "name": "stderr",
          "output_type": "stream",
          "text": [
            "\r 43%|████▎     | 240/556 [51:22<1:12:19, 13.73s/it]"
          ]
        },
        {
          "name": "stdout",
          "output_type": "stream",
          "text": [
            "1173.jpg\n"
          ]
        },
        {
          "name": "stderr",
          "output_type": "stream",
          "text": [
            "\r 43%|████▎     | 241/556 [51:30<1:03:18, 12.06s/it]"
          ]
        },
        {
          "name": "stdout",
          "output_type": "stream",
          "text": [
            "974.jpg\n"
          ]
        },
        {
          "name": "stderr",
          "output_type": "stream",
          "text": [
            "\r 44%|████▎     | 242/556 [51:46<1:09:29, 13.28s/it]"
          ]
        },
        {
          "name": "stdout",
          "output_type": "stream",
          "text": [
            "1125.jpg\n"
          ]
        },
        {
          "name": "stderr",
          "output_type": "stream",
          "text": [
            "\r 44%|████▎     | 243/556 [51:58<1:07:04, 12.86s/it]"
          ]
        },
        {
          "name": "stdout",
          "output_type": "stream",
          "text": [
            "820.jpg\n"
          ]
        },
        {
          "name": "stderr",
          "output_type": "stream",
          "text": [
            "\r 44%|████▍     | 244/556 [52:14<1:10:36, 13.58s/it]"
          ]
        },
        {
          "name": "stdout",
          "output_type": "stream",
          "text": [
            "1039.jpg\n"
          ]
        },
        {
          "name": "stderr",
          "output_type": "stream",
          "text": [
            "\r 44%|████▍     | 245/556 [52:24<1:05:27, 12.63s/it]"
          ]
        },
        {
          "name": "stdout",
          "output_type": "stream",
          "text": [
            "1203.jpg\n"
          ]
        },
        {
          "name": "stderr",
          "output_type": "stream",
          "text": [
            "\r 44%|████▍     | 246/556 [52:39<1:09:24, 13.44s/it]"
          ]
        },
        {
          "name": "stdout",
          "output_type": "stream",
          "text": [
            "708.jpg\n"
          ]
        },
        {
          "name": "stderr",
          "output_type": "stream",
          "text": [
            "\r 44%|████▍     | 247/556 [52:54<1:11:52, 13.96s/it]"
          ]
        },
        {
          "name": "stdout",
          "output_type": "stream",
          "text": [
            "912.jpg\n"
          ]
        },
        {
          "name": "stderr",
          "output_type": "stream",
          "text": [
            "\r 45%|████▍     | 248/556 [53:07<1:08:42, 13.39s/it]"
          ]
        },
        {
          "name": "stdout",
          "output_type": "stream",
          "text": [
            "892.jpg\n"
          ]
        },
        {
          "name": "stderr",
          "output_type": "stream",
          "text": [
            "\r 45%|████▍     | 249/556 [53:18<1:05:59, 12.90s/it]"
          ]
        },
        {
          "name": "stdout",
          "output_type": "stream",
          "text": [
            "715.jpg\n"
          ]
        },
        {
          "name": "stderr",
          "output_type": "stream",
          "text": [
            "\r 45%|████▍     | 250/556 [53:33<1:07:50, 13.30s/it]"
          ]
        },
        {
          "name": "stdout",
          "output_type": "stream",
          "text": [
            "1066.jpg\n"
          ]
        },
        {
          "name": "stderr",
          "output_type": "stream",
          "text": [
            "\r 45%|████▌     | 251/556 [53:44<1:05:20, 12.85s/it]"
          ]
        },
        {
          "name": "stdout",
          "output_type": "stream",
          "text": [
            "933.jpg\n"
          ]
        },
        {
          "name": "stderr",
          "output_type": "stream",
          "text": [
            "\r 45%|████▌     | 252/556 [53:55<1:01:27, 12.13s/it]"
          ]
        },
        {
          "name": "stdout",
          "output_type": "stream",
          "text": [
            "1001.jpg\n"
          ]
        },
        {
          "name": "stderr",
          "output_type": "stream",
          "text": [
            "\r 46%|████▌     | 253/556 [54:10<1:05:52, 13.04s/it]"
          ]
        },
        {
          "name": "stdout",
          "output_type": "stream",
          "text": [
            "1060.jpg\n"
          ]
        },
        {
          "name": "stderr",
          "output_type": "stream",
          "text": [
            "\r 46%|████▌     | 254/556 [54:27<1:11:45, 14.26s/it]"
          ]
        },
        {
          "name": "stdout",
          "output_type": "stream",
          "text": [
            "926.jpg\n"
          ]
        },
        {
          "name": "stderr",
          "output_type": "stream",
          "text": [
            "\r 46%|████▌     | 255/556 [54:39<1:07:58, 13.55s/it]"
          ]
        },
        {
          "name": "stdout",
          "output_type": "stream",
          "text": [
            "697.jpg\n"
          ]
        },
        {
          "name": "stderr",
          "output_type": "stream",
          "text": [
            "\r 46%|████▌     | 256/556 [54:54<1:10:17, 14.06s/it]"
          ]
        },
        {
          "name": "stdout",
          "output_type": "stream",
          "text": [
            "1176.jpg\n"
          ]
        },
        {
          "name": "stderr",
          "output_type": "stream",
          "text": [
            "\r 46%|████▌     | 257/556 [55:05<1:04:40, 12.98s/it]"
          ]
        },
        {
          "name": "stdout",
          "output_type": "stream",
          "text": [
            "1153.jpg\n"
          ]
        },
        {
          "name": "stderr",
          "output_type": "stream",
          "text": [
            "\r 46%|████▋     | 258/556 [55:15<1:00:37, 12.21s/it]"
          ]
        },
        {
          "name": "stdout",
          "output_type": "stream",
          "text": [
            "759.jpg\n"
          ]
        },
        {
          "name": "stderr",
          "output_type": "stream",
          "text": [
            "\r 47%|████▋     | 259/556 [55:30<1:04:54, 13.11s/it]"
          ]
        },
        {
          "name": "stdout",
          "output_type": "stream",
          "text": [
            "1101.jpg\n"
          ]
        },
        {
          "name": "stderr",
          "output_type": "stream",
          "text": [
            "\r 47%|████▋     | 260/556 [55:42<1:02:48, 12.73s/it]"
          ]
        },
        {
          "name": "stdout",
          "output_type": "stream",
          "text": [
            "958.jpg\n"
          ]
        },
        {
          "name": "stderr",
          "output_type": "stream",
          "text": [
            "\r 47%|████▋     | 261/556 [55:57<1:06:15, 13.48s/it]"
          ]
        },
        {
          "name": "stdout",
          "output_type": "stream",
          "text": [
            "1213.jpg\n"
          ]
        },
        {
          "name": "stderr",
          "output_type": "stream",
          "text": [
            "\r 47%|████▋     | 262/556 [56:13<1:08:41, 14.02s/it]"
          ]
        },
        {
          "name": "stdout",
          "output_type": "stream",
          "text": [
            "947.jpg\n"
          ]
        },
        {
          "name": "stderr",
          "output_type": "stream",
          "text": [
            "\r 47%|████▋     | 263/556 [56:28<1:10:12, 14.38s/it]"
          ]
        },
        {
          "name": "stdout",
          "output_type": "stream",
          "text": [
            "1034.jpg\n"
          ]
        },
        {
          "name": "stderr",
          "output_type": "stream",
          "text": [
            "\r 47%|████▋     | 264/556 [56:37<1:02:27, 12.84s/it]"
          ]
        },
        {
          "name": "stdout",
          "output_type": "stream",
          "text": [
            "706.jpg\n"
          ]
        },
        {
          "name": "stderr",
          "output_type": "stream",
          "text": [
            "\r 48%|████▊     | 265/556 [56:49<1:00:53, 12.56s/it]"
          ]
        },
        {
          "name": "stdout",
          "output_type": "stream",
          "text": [
            "1139.jpg\n"
          ]
        },
        {
          "name": "stderr",
          "output_type": "stream",
          "text": [
            "\r 48%|████▊     | 266/556 [57:04<1:04:35, 13.36s/it]"
          ]
        },
        {
          "name": "stdout",
          "output_type": "stream",
          "text": [
            "1102.jpg\n"
          ]
        },
        {
          "name": "stderr",
          "output_type": "stream",
          "text": [
            "\r 48%|████▊     | 267/556 [57:20<1:07:09, 13.94s/it]"
          ]
        },
        {
          "name": "stdout",
          "output_type": "stream",
          "text": [
            "881.jpg\n"
          ]
        },
        {
          "name": "stderr",
          "output_type": "stream",
          "text": [
            "\r 48%|████▊     | 268/556 [57:35<1:08:44, 14.32s/it]"
          ]
        },
        {
          "name": "stdout",
          "output_type": "stream",
          "text": [
            "885.jpg\n"
          ]
        },
        {
          "name": "stderr",
          "output_type": "stream",
          "text": [
            "\r 48%|████▊     | 269/556 [57:52<1:12:35, 15.18s/it]"
          ]
        },
        {
          "name": "stdout",
          "output_type": "stream",
          "text": [
            "783.jpg\n"
          ]
        },
        {
          "name": "stderr",
          "output_type": "stream",
          "text": [
            "\r 49%|████▊     | 270/556 [58:01<1:03:35, 13.34s/it]"
          ]
        },
        {
          "name": "stdout",
          "output_type": "stream",
          "text": [
            "1013.jpg\n"
          ]
        },
        {
          "name": "stderr",
          "output_type": "stream",
          "text": [
            "\r 49%|████▊     | 271/556 [58:16<1:06:05, 13.91s/it]"
          ]
        },
        {
          "name": "stdout",
          "output_type": "stream",
          "text": [
            "1031.jpg\n"
          ]
        },
        {
          "name": "stderr",
          "output_type": "stream",
          "text": [
            "\r 49%|████▉     | 272/556 [58:25<59:02, 12.47s/it]  "
          ]
        },
        {
          "name": "stdout",
          "output_type": "stream",
          "text": [
            "727.jpg\n"
          ]
        },
        {
          "name": "stderr",
          "output_type": "stream",
          "text": [
            "\r 49%|████▉     | 273/556 [58:35<54:11, 11.49s/it]"
          ]
        },
        {
          "name": "stdout",
          "output_type": "stream",
          "text": [
            "730.jpg\n"
          ]
        },
        {
          "name": "stderr",
          "output_type": "stream",
          "text": [
            "\r 49%|████▉     | 274/556 [58:50<59:23, 12.64s/it]"
          ]
        },
        {
          "name": "stdout",
          "output_type": "stream",
          "text": [
            "915.jpg\n"
          ]
        },
        {
          "name": "stderr",
          "output_type": "stream",
          "text": [
            "\r 49%|████▉     | 275/556 [59:03<59:42, 12.75s/it]"
          ]
        },
        {
          "name": "stdout",
          "output_type": "stream",
          "text": [
            "927.jpg\n"
          ]
        },
        {
          "name": "stderr",
          "output_type": "stream",
          "text": [
            "\r 50%|████▉     | 276/556 [59:16<59:39, 12.79s/it]"
          ]
        },
        {
          "name": "stdout",
          "output_type": "stream",
          "text": [
            "685.jpg\n"
          ]
        },
        {
          "name": "stderr",
          "output_type": "stream",
          "text": [
            "\r 50%|████▉     | 277/556 [59:26<56:15, 12.10s/it]"
          ]
        },
        {
          "name": "stdout",
          "output_type": "stream",
          "text": [
            "988.jpg\n"
          ]
        },
        {
          "name": "stderr",
          "output_type": "stream",
          "text": [
            "\r 50%|█████     | 278/556 [59:41<1:00:20, 13.02s/it]"
          ]
        },
        {
          "name": "stdout",
          "output_type": "stream",
          "text": [
            "1150.jpg\n"
          ]
        },
        {
          "name": "stderr",
          "output_type": "stream",
          "text": [
            "\r 50%|█████     | 279/556 [59:52<56:37, 12.27s/it]  "
          ]
        },
        {
          "name": "stdout",
          "output_type": "stream",
          "text": [
            "1059.jpg\n"
          ]
        },
        {
          "name": "stderr",
          "output_type": "stream",
          "text": [
            "\r 50%|█████     | 280/556 [1:00:07<1:00:36, 13.18s/it]"
          ]
        },
        {
          "name": "stdout",
          "output_type": "stream",
          "text": [
            "1050.jpg\n"
          ]
        },
        {
          "name": "stderr",
          "output_type": "stream",
          "text": [
            "\r 51%|█████     | 281/556 [1:00:16<54:57, 11.99s/it]  "
          ]
        },
        {
          "name": "stdout",
          "output_type": "stream",
          "text": [
            "760.jpg\n"
          ]
        },
        {
          "name": "stderr",
          "output_type": "stream",
          "text": [
            "\r 51%|█████     | 282/556 [1:00:25<50:36, 11.08s/it]"
          ]
        },
        {
          "name": "stdout",
          "output_type": "stream",
          "text": [
            "1130.jpg\n"
          ]
        },
        {
          "name": "stderr",
          "output_type": "stream",
          "text": [
            "\r 51%|█████     | 283/556 [1:00:41<56:11, 12.35s/it]"
          ]
        },
        {
          "name": "stdout",
          "output_type": "stream",
          "text": [
            "847.jpg\n"
          ]
        },
        {
          "name": "stderr",
          "output_type": "stream",
          "text": [
            "\r 51%|█████     | 284/556 [1:00:54<57:52, 12.77s/it]"
          ]
        },
        {
          "name": "stdout",
          "output_type": "stream",
          "text": [
            "699.jpg\n"
          ]
        },
        {
          "name": "stderr",
          "output_type": "stream",
          "text": [
            "\r 51%|█████▏    | 285/556 [1:01:10<1:01:03, 13.52s/it]"
          ]
        },
        {
          "name": "stdout",
          "output_type": "stream",
          "text": [
            "1198.jpg\n"
          ]
        },
        {
          "name": "stderr",
          "output_type": "stream",
          "text": [
            "\r 51%|█████▏    | 286/556 [1:01:25<1:03:01, 14.01s/it]"
          ]
        },
        {
          "name": "stdout",
          "output_type": "stream",
          "text": [
            "930.jpg\n"
          ]
        },
        {
          "name": "stderr",
          "output_type": "stream",
          "text": [
            "\r 52%|█████▏    | 287/556 [1:01:34<56:09, 12.52s/it]  "
          ]
        },
        {
          "name": "stdout",
          "output_type": "stream",
          "text": [
            "1091.jpg\n"
          ]
        },
        {
          "name": "stderr",
          "output_type": "stream",
          "text": [
            "\r 52%|█████▏    | 288/556 [1:01:49<59:28, 13.32s/it]"
          ]
        },
        {
          "name": "stdout",
          "output_type": "stream",
          "text": [
            "1111.jpg\n"
          ]
        },
        {
          "name": "stderr",
          "output_type": "stream",
          "text": [
            "\r 52%|█████▏    | 289/556 [1:02:00<55:27, 12.46s/it]"
          ]
        },
        {
          "name": "stdout",
          "output_type": "stream",
          "text": [
            "1068.jpg\n"
          ]
        },
        {
          "name": "stderr",
          "output_type": "stream",
          "text": [
            "\r 52%|█████▏    | 290/556 [1:02:12<55:45, 12.58s/it]"
          ]
        },
        {
          "name": "stdout",
          "output_type": "stream",
          "text": [
            "707.jpg\n"
          ]
        },
        {
          "name": "stderr",
          "output_type": "stream",
          "text": [
            "\r 52%|█████▏    | 291/556 [1:02:28<59:05, 13.38s/it]"
          ]
        },
        {
          "name": "stdout",
          "output_type": "stream",
          "text": [
            "804.jpg\n"
          ]
        },
        {
          "name": "stderr",
          "output_type": "stream",
          "text": [
            "\r 53%|█████▎    | 292/556 [1:02:38<55:01, 12.50s/it]"
          ]
        },
        {
          "name": "stdout",
          "output_type": "stream",
          "text": [
            "719.jpg\n"
          ]
        },
        {
          "name": "stderr",
          "output_type": "stream",
          "text": [
            "\r 53%|█████▎    | 293/556 [1:02:53<58:28, 13.34s/it]"
          ]
        },
        {
          "name": "stdout",
          "output_type": "stream",
          "text": [
            "1220.jpg\n"
          ]
        },
        {
          "name": "stderr",
          "output_type": "stream",
          "text": [
            "\r 53%|█████▎    | 294/556 [1:03:08<59:28, 13.62s/it]"
          ]
        },
        {
          "name": "stdout",
          "output_type": "stream",
          "text": [
            "772.jpg\n"
          ]
        },
        {
          "name": "stderr",
          "output_type": "stream",
          "text": [
            "\r 53%|█████▎    | 295/556 [1:03:23<1:01:26, 14.12s/it]"
          ]
        },
        {
          "name": "stdout",
          "output_type": "stream",
          "text": [
            "1075.jpg\n"
          ]
        },
        {
          "name": "stderr",
          "output_type": "stream",
          "text": [
            "\r 53%|█████▎    | 296/556 [1:03:38<1:02:35, 14.44s/it]"
          ]
        },
        {
          "name": "stdout",
          "output_type": "stream",
          "text": [
            "904.jpg\n"
          ]
        },
        {
          "name": "stderr",
          "output_type": "stream",
          "text": [
            "\r 53%|█████▎    | 297/556 [1:03:47<55:26, 12.84s/it]  "
          ]
        },
        {
          "name": "stdout",
          "output_type": "stream",
          "text": [
            "906.jpg\n"
          ]
        },
        {
          "name": "stderr",
          "output_type": "stream",
          "text": [
            "\r 54%|█████▎    | 298/556 [1:04:04<1:00:20, 14.03s/it]"
          ]
        },
        {
          "name": "stdout",
          "output_type": "stream",
          "text": [
            "1087.jpg\n"
          ]
        },
        {
          "name": "stderr",
          "output_type": "stream",
          "text": [
            "\r 54%|█████▍    | 299/556 [1:04:19<1:01:38, 14.39s/it]"
          ]
        },
        {
          "name": "stdout",
          "output_type": "stream",
          "text": [
            "869.jpg\n"
          ]
        },
        {
          "name": "stderr",
          "output_type": "stream",
          "text": [
            "\r 54%|█████▍    | 300/556 [1:04:35<1:02:30, 14.65s/it]"
          ]
        },
        {
          "name": "stdout",
          "output_type": "stream",
          "text": [
            "710.jpg\n"
          ]
        },
        {
          "name": "stderr",
          "output_type": "stream",
          "text": [
            "\r 54%|█████▍    | 301/556 [1:04:46<58:48, 13.84s/it]  "
          ]
        },
        {
          "name": "stdout",
          "output_type": "stream",
          "text": [
            "761.jpg\n"
          ]
        },
        {
          "name": "stderr",
          "output_type": "stream",
          "text": [
            "\r 54%|█████▍    | 302/556 [1:05:02<1:00:16, 14.24s/it]"
          ]
        },
        {
          "name": "stdout",
          "output_type": "stream",
          "text": [
            "890.jpg\n"
          ]
        },
        {
          "name": "stderr",
          "output_type": "stream",
          "text": [
            "\r 54%|█████▍    | 303/556 [1:05:13<56:56, 13.50s/it]  "
          ]
        },
        {
          "name": "stdout",
          "output_type": "stream",
          "text": [
            "1107.jpg\n"
          ]
        },
        {
          "name": "stderr",
          "output_type": "stream",
          "text": [
            "\r 55%|█████▍    | 304/556 [1:05:24<52:51, 12.59s/it]"
          ]
        },
        {
          "name": "stdout",
          "output_type": "stream",
          "text": [
            "731.jpg\n"
          ]
        },
        {
          "name": "stderr",
          "output_type": "stream",
          "text": [
            "\r 55%|█████▍    | 305/556 [1:05:35<50:13, 12.01s/it]"
          ]
        },
        {
          "name": "stdout",
          "output_type": "stream",
          "text": [
            "810.jpg\n"
          ]
        },
        {
          "name": "stderr",
          "output_type": "stream",
          "text": [
            "\r 55%|█████▌    | 306/556 [1:05:45<48:03, 11.53s/it]"
          ]
        },
        {
          "name": "stdout",
          "output_type": "stream",
          "text": [
            "1184.jpg\n"
          ]
        },
        {
          "name": "stderr",
          "output_type": "stream",
          "text": [
            "\r 55%|█████▌    | 307/556 [1:06:00<52:23, 12.62s/it]"
          ]
        },
        {
          "name": "stdout",
          "output_type": "stream",
          "text": [
            "874.jpg\n"
          ]
        },
        {
          "name": "stderr",
          "output_type": "stream",
          "text": [
            "\r 55%|█████▌    | 308/556 [1:06:11<49:24, 11.95s/it]"
          ]
        },
        {
          "name": "stdout",
          "output_type": "stream",
          "text": [
            "776.jpg\n"
          ]
        },
        {
          "name": "stderr",
          "output_type": "stream",
          "text": [
            "\r 56%|█████▌    | 309/556 [1:06:23<49:14, 11.96s/it]"
          ]
        },
        {
          "name": "stdout",
          "output_type": "stream",
          "text": [
            "1016.jpg\n"
          ]
        },
        {
          "name": "stderr",
          "output_type": "stream",
          "text": [
            "\r 56%|█████▌    | 310/556 [1:06:31<44:19, 10.81s/it]"
          ]
        },
        {
          "name": "stdout",
          "output_type": "stream",
          "text": [
            "1108.jpg\n"
          ]
        },
        {
          "name": "stderr",
          "output_type": "stream",
          "text": [
            "\r 56%|█████▌    | 311/556 [1:06:43<45:35, 11.16s/it]"
          ]
        },
        {
          "name": "stdout",
          "output_type": "stream",
          "text": [
            "1193.jpg\n"
          ]
        },
        {
          "name": "stderr",
          "output_type": "stream",
          "text": [
            "\r 56%|█████▌    | 312/556 [1:07:00<52:34, 12.93s/it]"
          ]
        },
        {
          "name": "stdout",
          "output_type": "stream",
          "text": [
            "985.jpg\n"
          ]
        },
        {
          "name": "stderr",
          "output_type": "stream",
          "text": [
            "\r 56%|█████▋    | 313/556 [1:07:11<50:59, 12.59s/it]"
          ]
        },
        {
          "name": "stdout",
          "output_type": "stream",
          "text": [
            "765.jpg\n"
          ]
        },
        {
          "name": "stderr",
          "output_type": "stream",
          "text": [
            "\r 56%|█████▋    | 314/556 [1:07:20<45:18, 11.23s/it]"
          ]
        },
        {
          "name": "stdout",
          "output_type": "stream",
          "text": [
            "763.jpg\n"
          ]
        },
        {
          "name": "stderr",
          "output_type": "stream",
          "text": [
            "\r 57%|█████▋    | 315/556 [1:07:30<44:11, 11.00s/it]"
          ]
        },
        {
          "name": "stdout",
          "output_type": "stream",
          "text": [
            "726.jpg\n"
          ]
        },
        {
          "name": "stderr",
          "output_type": "stream",
          "text": [
            "\r 57%|█████▋    | 316/556 [1:07:38<40:37, 10.16s/it]"
          ]
        },
        {
          "name": "stdout",
          "output_type": "stream",
          "text": [
            "1146.jpg\n"
          ]
        },
        {
          "name": "stderr",
          "output_type": "stream",
          "text": [
            "\r 57%|█████▋    | 317/556 [1:07:50<42:28, 10.67s/it]"
          ]
        },
        {
          "name": "stdout",
          "output_type": "stream",
          "text": [
            "842.jpg\n"
          ]
        },
        {
          "name": "stderr",
          "output_type": "stream",
          "text": [
            "\r 57%|█████▋    | 318/556 [1:08:03<44:58, 11.34s/it]"
          ]
        },
        {
          "name": "stdout",
          "output_type": "stream",
          "text": [
            "822.jpg\n"
          ]
        },
        {
          "name": "stderr",
          "output_type": "stream",
          "text": [
            "\r 57%|█████▋    | 319/556 [1:08:13<43:37, 11.04s/it]"
          ]
        },
        {
          "name": "stdout",
          "output_type": "stream",
          "text": [
            "928.jpg\n"
          ]
        },
        {
          "name": "stderr",
          "output_type": "stream",
          "text": [
            "\r 58%|█████▊    | 320/556 [1:08:28<48:11, 12.25s/it]"
          ]
        },
        {
          "name": "stdout",
          "output_type": "stream",
          "text": [
            "682.jpg\n"
          ]
        },
        {
          "name": "stderr",
          "output_type": "stream",
          "text": [
            "\r 58%|█████▊    | 321/556 [1:08:37<44:14, 11.30s/it]"
          ]
        },
        {
          "name": "stdout",
          "output_type": "stream",
          "text": [
            "745.jpg\n"
          ]
        },
        {
          "name": "stderr",
          "output_type": "stream",
          "text": [
            "\r 58%|█████▊    | 322/556 [1:08:50<45:52, 11.76s/it]"
          ]
        },
        {
          "name": "stdout",
          "output_type": "stream",
          "text": [
            "1165.jpg\n"
          ]
        },
        {
          "name": "stderr",
          "output_type": "stream",
          "text": [
            "\r 58%|█████▊    | 323/556 [1:08:59<42:26, 10.93s/it]"
          ]
        },
        {
          "name": "stdout",
          "output_type": "stream",
          "text": [
            "1204.jpg\n"
          ]
        },
        {
          "name": "stderr",
          "output_type": "stream",
          "text": [
            "\r 58%|█████▊    | 324/556 [1:09:08<40:05, 10.37s/it]"
          ]
        },
        {
          "name": "stdout",
          "output_type": "stream",
          "text": [
            "954.jpg\n"
          ]
        },
        {
          "name": "stderr",
          "output_type": "stream",
          "text": [
            "\r 58%|█████▊    | 325/556 [1:09:17<38:19,  9.95s/it]"
          ]
        },
        {
          "name": "stdout",
          "output_type": "stream",
          "text": [
            "792.jpg\n"
          ]
        },
        {
          "name": "stderr",
          "output_type": "stream",
          "text": [
            "\r 59%|█████▊    | 326/556 [1:09:26<37:01,  9.66s/it]"
          ]
        },
        {
          "name": "stdout",
          "output_type": "stream",
          "text": [
            "884.jpg\n"
          ]
        },
        {
          "name": "stderr",
          "output_type": "stream",
          "text": [
            "\r 59%|█████▉    | 327/556 [1:09:38<39:13, 10.28s/it]"
          ]
        },
        {
          "name": "stdout",
          "output_type": "stream",
          "text": [
            "961.jpg\n"
          ]
        },
        {
          "name": "stderr",
          "output_type": "stream",
          "text": [
            "\r 59%|█████▉    | 328/556 [1:09:45<35:26,  9.33s/it]"
          ]
        },
        {
          "name": "stdout",
          "output_type": "stream",
          "text": [
            "1230.jpg\n"
          ]
        },
        {
          "name": "stderr",
          "output_type": "stream",
          "text": [
            "\r 59%|█████▉    | 329/556 [1:09:57<38:06, 10.07s/it]"
          ]
        },
        {
          "name": "stdout",
          "output_type": "stream",
          "text": [
            "703.jpg\n"
          ]
        },
        {
          "name": "stderr",
          "output_type": "stream",
          "text": [
            "\r 59%|█████▉    | 330/556 [1:10:12<43:34, 11.57s/it]"
          ]
        },
        {
          "name": "stdout",
          "output_type": "stream",
          "text": [
            "901.jpg\n"
          ]
        },
        {
          "name": "stderr",
          "output_type": "stream",
          "text": [
            "\r 60%|█████▉    | 331/556 [1:10:25<44:48, 11.95s/it]"
          ]
        },
        {
          "name": "stdout",
          "output_type": "stream",
          "text": [
            "1113.jpg\n"
          ]
        },
        {
          "name": "stderr",
          "output_type": "stream",
          "text": [
            "\r 60%|█████▉    | 332/556 [1:10:40<48:07, 12.89s/it]"
          ]
        },
        {
          "name": "stdout",
          "output_type": "stream",
          "text": [
            "886.jpg\n"
          ]
        },
        {
          "name": "stderr",
          "output_type": "stream",
          "text": [
            "\r 60%|█████▉    | 333/556 [1:10:54<49:28, 13.31s/it]"
          ]
        },
        {
          "name": "stdout",
          "output_type": "stream",
          "text": [
            "812.jpg\n"
          ]
        },
        {
          "name": "stderr",
          "output_type": "stream",
          "text": [
            "\r 60%|██████    | 334/556 [1:11:05<45:57, 12.42s/it]"
          ]
        },
        {
          "name": "stdout",
          "output_type": "stream",
          "text": [
            "839.jpg\n"
          ]
        },
        {
          "name": "stderr",
          "output_type": "stream",
          "text": [
            "\r 60%|██████    | 335/556 [1:11:19<47:41, 12.95s/it]"
          ]
        },
        {
          "name": "stdout",
          "output_type": "stream",
          "text": [
            "917.jpg\n"
          ]
        },
        {
          "name": "stderr",
          "output_type": "stream",
          "text": [
            "\r 60%|██████    | 336/556 [1:11:31<46:12, 12.60s/it]"
          ]
        },
        {
          "name": "stdout",
          "output_type": "stream",
          "text": [
            "1190.jpg\n"
          ]
        },
        {
          "name": "stderr",
          "output_type": "stream",
          "text": [
            "\r 61%|██████    | 337/556 [1:11:46<48:47, 13.37s/it]"
          ]
        },
        {
          "name": "stdout",
          "output_type": "stream",
          "text": [
            "758.jpg\n"
          ]
        },
        {
          "name": "stderr",
          "output_type": "stream",
          "text": [
            "\r 61%|██████    | 338/556 [1:12:01<50:23, 13.87s/it]"
          ]
        },
        {
          "name": "stdout",
          "output_type": "stream",
          "text": [
            "801.jpg\n"
          ]
        },
        {
          "name": "stderr",
          "output_type": "stream",
          "text": [
            "\r 61%|██████    | 339/556 [1:12:12<47:47, 13.22s/it]"
          ]
        },
        {
          "name": "stdout",
          "output_type": "stream",
          "text": [
            "1088.jpg\n"
          ]
        },
        {
          "name": "stderr",
          "output_type": "stream",
          "text": [
            "\r 61%|██████    | 340/556 [1:12:27<49:32, 13.76s/it]"
          ]
        },
        {
          "name": "stdout",
          "output_type": "stream",
          "text": [
            "1021.jpg\n"
          ]
        },
        {
          "name": "stderr",
          "output_type": "stream",
          "text": [
            "\r 61%|██████▏   | 341/556 [1:12:43<50:45, 14.17s/it]"
          ]
        },
        {
          "name": "stdout",
          "output_type": "stream",
          "text": [
            "702.jpg\n"
          ]
        },
        {
          "name": "stderr",
          "output_type": "stream",
          "text": [
            "\r 62%|██████▏   | 342/556 [1:12:54<47:55, 13.44s/it]"
          ]
        },
        {
          "name": "stdout",
          "output_type": "stream",
          "text": [
            "802.jpg\n"
          ]
        },
        {
          "name": "stderr",
          "output_type": "stream",
          "text": [
            "\r 62%|██████▏   | 343/556 [1:13:09<49:24, 13.92s/it]"
          ]
        },
        {
          "name": "stdout",
          "output_type": "stream",
          "text": [
            "1078.jpg\n"
          ]
        },
        {
          "name": "stderr",
          "output_type": "stream",
          "text": [
            "\r 62%|██████▏   | 344/556 [1:13:24<50:20, 14.25s/it]"
          ]
        },
        {
          "name": "stdout",
          "output_type": "stream",
          "text": [
            "829.jpg\n"
          ]
        },
        {
          "name": "stderr",
          "output_type": "stream",
          "text": [
            "\r 62%|██████▏   | 345/556 [1:13:39<50:54, 14.48s/it]"
          ]
        },
        {
          "name": "stdout",
          "output_type": "stream",
          "text": [
            "877.jpg\n"
          ]
        },
        {
          "name": "stderr",
          "output_type": "stream",
          "text": [
            "\r 62%|██████▏   | 346/556 [1:13:47<43:55, 12.55s/it]"
          ]
        },
        {
          "name": "stdout",
          "output_type": "stream",
          "text": [
            "1168.jpg\n"
          ]
        },
        {
          "name": "stderr",
          "output_type": "stream",
          "text": [
            "\r 62%|██████▏   | 347/556 [1:13:56<40:01, 11.49s/it]"
          ]
        },
        {
          "name": "stdout",
          "output_type": "stream",
          "text": [
            "960.jpg\n"
          ]
        },
        {
          "name": "stderr",
          "output_type": "stream",
          "text": [
            "\r 63%|██████▎   | 348/556 [1:14:11<43:31, 12.56s/it]"
          ]
        },
        {
          "name": "stdout",
          "output_type": "stream",
          "text": [
            "1141.jpg\n"
          ]
        },
        {
          "name": "stderr",
          "output_type": "stream",
          "text": [
            "\r 63%|██████▎   | 349/556 [1:14:24<42:45, 12.40s/it]"
          ]
        },
        {
          "name": "stdout",
          "output_type": "stream",
          "text": [
            "1135.jpg\n"
          ]
        },
        {
          "name": "stderr",
          "output_type": "stream",
          "text": [
            "\r 63%|██████▎   | 350/556 [1:14:33<39:03, 11.38s/it]"
          ]
        },
        {
          "name": "stdout",
          "output_type": "stream",
          "text": [
            "1043.jpg\n"
          ]
        },
        {
          "name": "stderr",
          "output_type": "stream",
          "text": [
            "\r 63%|██████▎   | 351/556 [1:14:42<36:30, 10.68s/it]"
          ]
        },
        {
          "name": "stdout",
          "output_type": "stream",
          "text": [
            "752.jpg\n"
          ]
        },
        {
          "name": "stderr",
          "output_type": "stream",
          "text": [
            "\r 63%|██████▎   | 352/556 [1:14:51<34:39, 10.20s/it]"
          ]
        },
        {
          "name": "stdout",
          "output_type": "stream",
          "text": [
            "1136.jpg\n"
          ]
        },
        {
          "name": "stderr",
          "output_type": "stream",
          "text": [
            "\r 63%|██████▎   | 353/556 [1:15:06<39:31, 11.68s/it]"
          ]
        },
        {
          "name": "stdout",
          "output_type": "stream",
          "text": [
            "916.jpg\n"
          ]
        },
        {
          "name": "stderr",
          "output_type": "stream",
          "text": [
            "\r 64%|██████▎   | 354/556 [1:15:21<42:42, 12.69s/it]"
          ]
        },
        {
          "name": "stdout",
          "output_type": "stream",
          "text": [
            "841.jpg\n"
          ]
        },
        {
          "name": "stderr",
          "output_type": "stream",
          "text": [
            "\r 64%|██████▍   | 355/556 [1:15:36<44:51, 13.39s/it]"
          ]
        },
        {
          "name": "stdout",
          "output_type": "stream",
          "text": [
            "1124.jpg\n"
          ]
        },
        {
          "name": "stderr",
          "output_type": "stream",
          "text": [
            "\r 64%|██████▍   | 356/556 [1:15:50<45:29, 13.65s/it]"
          ]
        },
        {
          "name": "stdout",
          "output_type": "stream",
          "text": [
            "1214.jpg\n"
          ]
        },
        {
          "name": "stderr",
          "output_type": "stream",
          "text": [
            "\r 64%|██████▍   | 357/556 [1:16:03<44:25, 13.40s/it]"
          ]
        },
        {
          "name": "stdout",
          "output_type": "stream",
          "text": [
            "1062.jpg\n"
          ]
        },
        {
          "name": "stderr",
          "output_type": "stream",
          "text": [
            "\r 64%|██████▍   | 358/556 [1:16:16<43:34, 13.20s/it]"
          ]
        },
        {
          "name": "stdout",
          "output_type": "stream",
          "text": [
            "980.jpg\n"
          ]
        },
        {
          "name": "stderr",
          "output_type": "stream",
          "text": [
            "\r 65%|██████▍   | 359/556 [1:16:28<42:48, 13.04s/it]"
          ]
        },
        {
          "name": "stdout",
          "output_type": "stream",
          "text": [
            "1003.jpg\n"
          ]
        },
        {
          "name": "stderr",
          "output_type": "stream",
          "text": [
            "\r 65%|██████▍   | 360/556 [1:16:43<44:40, 13.68s/it]"
          ]
        },
        {
          "name": "stdout",
          "output_type": "stream",
          "text": [
            "1167.jpg\n"
          ]
        },
        {
          "name": "stderr",
          "output_type": "stream",
          "text": [
            "\r 65%|██████▍   | 361/556 [1:16:52<39:52, 12.27s/it]"
          ]
        },
        {
          "name": "stdout",
          "output_type": "stream",
          "text": [
            "678.jpg\n"
          ]
        },
        {
          "name": "stderr",
          "output_type": "stream",
          "text": [
            "\r 65%|██████▌   | 362/556 [1:17:08<42:21, 13.10s/it]"
          ]
        },
        {
          "name": "stdout",
          "output_type": "stream",
          "text": [
            "866.jpg\n"
          ]
        },
        {
          "name": "stderr",
          "output_type": "stream",
          "text": [
            "\r 65%|██████▌   | 363/556 [1:17:16<38:07, 11.85s/it]"
          ]
        },
        {
          "name": "stdout",
          "output_type": "stream",
          "text": [
            "950.jpg\n"
          ]
        },
        {
          "name": "stderr",
          "output_type": "stream",
          "text": [
            "\r 65%|██████▌   | 364/556 [1:17:31<40:57, 12.80s/it]"
          ]
        },
        {
          "name": "stdout",
          "output_type": "stream",
          "text": [
            "898.jpg\n"
          ]
        },
        {
          "name": "stderr",
          "output_type": "stream",
          "text": [
            "\r 66%|██████▌   | 365/556 [1:17:44<40:36, 12.76s/it]"
          ]
        },
        {
          "name": "stdout",
          "output_type": "stream",
          "text": [
            "1076.jpg\n"
          ]
        },
        {
          "name": "stderr",
          "output_type": "stream",
          "text": [
            "\r 66%|██████▌   | 366/556 [1:17:56<39:27, 12.46s/it]"
          ]
        },
        {
          "name": "stdout",
          "output_type": "stream",
          "text": [
            "865.jpg\n"
          ]
        },
        {
          "name": "stderr",
          "output_type": "stream",
          "text": [
            "\r 66%|██████▌   | 367/556 [1:18:06<37:16, 11.84s/it]"
          ]
        },
        {
          "name": "stdout",
          "output_type": "stream",
          "text": [
            "1015.jpg\n"
          ]
        },
        {
          "name": "stderr",
          "output_type": "stream",
          "text": [
            "\r 66%|██████▌   | 368/556 [1:18:21<40:07, 12.81s/it]"
          ]
        },
        {
          "name": "stdout",
          "output_type": "stream",
          "text": [
            "1042.jpg\n"
          ]
        },
        {
          "name": "stderr",
          "output_type": "stream",
          "text": [
            "\r 66%|██████▋   | 369/556 [1:18:38<43:21, 13.91s/it]"
          ]
        },
        {
          "name": "stdout",
          "output_type": "stream",
          "text": [
            "724.jpg\n"
          ]
        },
        {
          "name": "stderr",
          "output_type": "stream",
          "text": [
            "\r 67%|██████▋   | 370/556 [1:18:47<38:37, 12.46s/it]"
          ]
        },
        {
          "name": "stdout",
          "output_type": "stream",
          "text": [
            "977.jpg\n"
          ]
        },
        {
          "name": "stderr",
          "output_type": "stream",
          "text": [
            "\r 67%|██████▋   | 371/556 [1:18:57<36:31, 11.84s/it]"
          ]
        },
        {
          "name": "stdout",
          "output_type": "stream",
          "text": [
            "913.jpg\n"
          ]
        },
        {
          "name": "stderr",
          "output_type": "stream",
          "text": [
            "\r 67%|██████▋   | 372/556 [1:19:09<36:18, 11.84s/it]"
          ]
        },
        {
          "name": "stdout",
          "output_type": "stream",
          "text": [
            "941.jpg\n"
          ]
        },
        {
          "name": "stderr",
          "output_type": "stream",
          "text": [
            "\r 67%|██████▋   | 373/556 [1:19:21<36:05, 11.83s/it]"
          ]
        },
        {
          "name": "stdout",
          "output_type": "stream",
          "text": [
            "840.jpg\n"
          ]
        },
        {
          "name": "stderr",
          "output_type": "stream",
          "text": [
            "\r 67%|██████▋   | 374/556 [1:19:34<36:47, 12.13s/it]"
          ]
        },
        {
          "name": "stdout",
          "output_type": "stream",
          "text": [
            "1122.jpg\n"
          ]
        },
        {
          "name": "stderr",
          "output_type": "stream",
          "text": [
            "\r 67%|██████▋   | 375/556 [1:19:49<39:36, 13.13s/it]"
          ]
        },
        {
          "name": "stdout",
          "output_type": "stream",
          "text": [
            "782.jpg\n"
          ]
        },
        {
          "name": "stderr",
          "output_type": "stream",
          "text": [
            "\r 68%|██████▊   | 376/556 [1:20:01<38:10, 12.73s/it]"
          ]
        },
        {
          "name": "stdout",
          "output_type": "stream",
          "text": [
            "720.jpg\n"
          ]
        },
        {
          "name": "stderr",
          "output_type": "stream",
          "text": [
            "\r 68%|██████▊   | 377/556 [1:20:16<40:04, 13.43s/it]"
          ]
        },
        {
          "name": "stdout",
          "output_type": "stream",
          "text": [
            "1065.jpg\n"
          ]
        },
        {
          "name": "stderr",
          "output_type": "stream",
          "text": [
            "\r 68%|██████▊   | 378/556 [1:20:31<41:15, 13.91s/it]"
          ]
        },
        {
          "name": "stdout",
          "output_type": "stream",
          "text": [
            "1082.jpg\n"
          ]
        },
        {
          "name": "stderr",
          "output_type": "stream",
          "text": [
            "\r 68%|██████▊   | 379/556 [1:20:43<39:17, 13.32s/it]"
          ]
        },
        {
          "name": "stdout",
          "output_type": "stream",
          "text": [
            "1178.jpg\n"
          ]
        },
        {
          "name": "stderr",
          "output_type": "stream",
          "text": [
            "\r 68%|██████▊   | 380/556 [1:20:53<36:29, 12.44s/it]"
          ]
        },
        {
          "name": "stdout",
          "output_type": "stream",
          "text": [
            "848.jpg\n"
          ]
        },
        {
          "name": "stderr",
          "output_type": "stream",
          "text": [
            "\r 69%|██████▊   | 381/556 [1:21:04<34:27, 11.81s/it]"
          ]
        },
        {
          "name": "stdout",
          "output_type": "stream",
          "text": [
            "889.jpg\n"
          ]
        },
        {
          "name": "stderr",
          "output_type": "stream",
          "text": [
            "\r 69%|██████▊   | 382/556 [1:21:14<32:58, 11.37s/it]"
          ]
        },
        {
          "name": "stdout",
          "output_type": "stream",
          "text": [
            "694.jpg\n"
          ]
        },
        {
          "name": "stderr",
          "output_type": "stream",
          "text": [
            "\r 69%|██████▉   | 383/556 [1:21:31<37:07, 12.88s/it]"
          ]
        },
        {
          "name": "stdout",
          "output_type": "stream",
          "text": [
            "846.jpg\n"
          ]
        },
        {
          "name": "stderr",
          "output_type": "stream",
          "text": [
            "\r 69%|██████▉   | 384/556 [1:21:46<38:44, 13.51s/it]"
          ]
        },
        {
          "name": "stdout",
          "output_type": "stream",
          "text": [
            "1063.jpg\n"
          ]
        },
        {
          "name": "stderr",
          "output_type": "stream",
          "text": [
            "\r 69%|██████▉   | 385/556 [1:22:01<39:48, 13.97s/it]"
          ]
        },
        {
          "name": "stdout",
          "output_type": "stream",
          "text": [
            "1036.jpg\n"
          ]
        },
        {
          "name": "stderr",
          "output_type": "stream",
          "text": [
            "\r 69%|██████▉   | 386/556 [1:22:16<40:29, 14.29s/it]"
          ]
        },
        {
          "name": "stdout",
          "output_type": "stream",
          "text": [
            "1041.jpg\n"
          ]
        },
        {
          "name": "stderr",
          "output_type": "stream",
          "text": [
            "\r 70%|██████▉   | 387/556 [1:22:28<39:01, 13.85s/it]"
          ]
        },
        {
          "name": "stdout",
          "output_type": "stream",
          "text": [
            "1199.jpg\n"
          ]
        },
        {
          "name": "stderr",
          "output_type": "stream",
          "text": [
            "\r 70%|██████▉   | 388/556 [1:22:44<39:52, 14.24s/it]"
          ]
        },
        {
          "name": "stdout",
          "output_type": "stream",
          "text": [
            "723.jpg\n"
          ]
        },
        {
          "name": "stderr",
          "output_type": "stream",
          "text": [
            "\r 70%|██████▉   | 389/556 [1:22:59<40:20, 14.49s/it]"
          ]
        },
        {
          "name": "stdout",
          "output_type": "stream",
          "text": [
            "1134.jpg\n"
          ]
        },
        {
          "name": "stderr",
          "output_type": "stream",
          "text": [
            "\r 70%|███████   | 390/556 [1:23:11<38:43, 13.99s/it]"
          ]
        },
        {
          "name": "stdout",
          "output_type": "stream",
          "text": [
            "684.jpg\n"
          ]
        },
        {
          "name": "stderr",
          "output_type": "stream",
          "text": [
            "\r 70%|███████   | 391/556 [1:23:22<35:28, 12.90s/it]"
          ]
        },
        {
          "name": "stdout",
          "output_type": "stream",
          "text": [
            "923.jpg\n"
          ]
        },
        {
          "name": "stderr",
          "output_type": "stream",
          "text": [
            "\r 71%|███████   | 392/556 [1:23:37<36:58, 13.53s/it]"
          ]
        },
        {
          "name": "stdout",
          "output_type": "stream",
          "text": [
            "803.jpg\n"
          ]
        },
        {
          "name": "stderr",
          "output_type": "stream",
          "text": [
            "\r 71%|███████   | 393/556 [1:23:52<37:59, 13.98s/it]"
          ]
        },
        {
          "name": "stdout",
          "output_type": "stream",
          "text": [
            "1226.jpg\n"
          ]
        },
        {
          "name": "stderr",
          "output_type": "stream",
          "text": [
            "\r 71%|███████   | 394/556 [1:24:01<33:44, 12.49s/it]"
          ]
        },
        {
          "name": "stdout",
          "output_type": "stream",
          "text": [
            "1143.jpg\n"
          ]
        },
        {
          "name": "stderr",
          "output_type": "stream",
          "text": [
            "\r 71%|███████   | 395/556 [1:24:09<30:18, 11.29s/it]"
          ]
        },
        {
          "name": "stdout",
          "output_type": "stream",
          "text": [
            "1223.jpg\n"
          ]
        },
        {
          "name": "stderr",
          "output_type": "stream",
          "text": [
            "\r 71%|███████   | 396/556 [1:24:21<30:30, 11.44s/it]"
          ]
        },
        {
          "name": "stdout",
          "output_type": "stream",
          "text": [
            "953.jpg\n"
          ]
        },
        {
          "name": "stderr",
          "output_type": "stream",
          "text": [
            "\r 71%|███████▏  | 397/556 [1:24:32<29:26, 11.11s/it]"
          ]
        },
        {
          "name": "stdout",
          "output_type": "stream",
          "text": [
            "1177.jpg\n"
          ]
        },
        {
          "name": "stderr",
          "output_type": "stream",
          "text": [
            "\r 72%|███████▏  | 398/556 [1:24:41<27:38, 10.49s/it]"
          ]
        },
        {
          "name": "stdout",
          "output_type": "stream",
          "text": [
            "852.jpg\n"
          ]
        },
        {
          "name": "stderr",
          "output_type": "stream",
          "text": [
            "\r 72%|███████▏  | 399/556 [1:24:50<26:19, 10.06s/it]"
          ]
        },
        {
          "name": "stdout",
          "output_type": "stream",
          "text": [
            "767.jpg\n"
          ]
        },
        {
          "name": "stderr",
          "output_type": "stream",
          "text": [
            "\r 72%|███████▏  | 400/556 [1:25:04<29:21, 11.29s/it]"
          ]
        },
        {
          "name": "stdout",
          "output_type": "stream",
          "text": [
            "1120.jpg\n"
          ]
        },
        {
          "name": "stderr",
          "output_type": "stream",
          "text": [
            "\r 72%|███████▏  | 401/556 [1:25:14<28:26, 11.01s/it]"
          ]
        },
        {
          "name": "stdout",
          "output_type": "stream",
          "text": [
            "922.jpg\n"
          ]
        },
        {
          "name": "stderr",
          "output_type": "stream",
          "text": [
            "\r 72%|███████▏  | 402/556 [1:25:23<26:41, 10.40s/it]"
          ]
        },
        {
          "name": "stdout",
          "output_type": "stream",
          "text": [
            "800.jpg\n"
          ]
        },
        {
          "name": "stderr",
          "output_type": "stream",
          "text": [
            "\r 72%|███████▏  | 403/556 [1:25:35<27:44, 10.88s/it]"
          ]
        },
        {
          "name": "stdout",
          "output_type": "stream",
          "text": [
            "722.jpg\n"
          ]
        },
        {
          "name": "stderr",
          "output_type": "stream",
          "text": [
            "\r 73%|███████▎  | 404/556 [1:25:50<30:46, 12.15s/it]"
          ]
        },
        {
          "name": "stdout",
          "output_type": "stream",
          "text": [
            "736.jpg\n"
          ]
        },
        {
          "name": "stderr",
          "output_type": "stream",
          "text": [
            "\r 73%|███████▎  | 405/556 [1:26:05<32:46, 13.02s/it]"
          ]
        },
        {
          "name": "stdout",
          "output_type": "stream",
          "text": [
            "895.jpg\n"
          ]
        },
        {
          "name": "stderr",
          "output_type": "stream",
          "text": [
            "\r 73%|███████▎  | 406/556 [1:26:18<32:24, 12.96s/it]"
          ]
        },
        {
          "name": "stdout",
          "output_type": "stream",
          "text": [
            "1194.jpg\n"
          ]
        },
        {
          "name": "stderr",
          "output_type": "stream",
          "text": [
            "\r 73%|███████▎  | 407/556 [1:26:33<33:46, 13.60s/it]"
          ]
        },
        {
          "name": "stdout",
          "output_type": "stream",
          "text": [
            "942.jpg\n"
          ]
        },
        {
          "name": "stderr",
          "output_type": "stream",
          "text": [
            "\r 73%|███████▎  | 408/556 [1:26:45<32:17, 13.09s/it]"
          ]
        },
        {
          "name": "stdout",
          "output_type": "stream",
          "text": [
            "1083.jpg\n"
          ]
        },
        {
          "name": "stderr",
          "output_type": "stream",
          "text": [
            "\r 74%|███████▎  | 409/556 [1:26:59<32:54, 13.43s/it]"
          ]
        },
        {
          "name": "stdout",
          "output_type": "stream",
          "text": [
            "779.jpg\n"
          ]
        },
        {
          "name": "stderr",
          "output_type": "stream",
          "text": [
            "\r 74%|███████▎  | 410/556 [1:27:14<33:53, 13.93s/it]"
          ]
        },
        {
          "name": "stdout",
          "output_type": "stream",
          "text": [
            "987.jpg\n"
          ]
        },
        {
          "name": "stderr",
          "output_type": "stream",
          "text": [
            "\r 74%|███████▍  | 411/556 [1:27:26<32:02, 13.26s/it]"
          ]
        },
        {
          "name": "stdout",
          "output_type": "stream",
          "text": [
            "1052.jpg\n"
          ]
        },
        {
          "name": "stderr",
          "output_type": "stream",
          "text": [
            "\r 74%|███████▍  | 412/556 [1:27:35<28:46, 11.99s/it]"
          ]
        },
        {
          "name": "stdout",
          "output_type": "stream",
          "text": [
            "1038.jpg\n"
          ]
        },
        {
          "name": "stderr",
          "output_type": "stream",
          "text": [
            "\r 74%|███████▍  | 413/556 [1:27:48<29:09, 12.24s/it]"
          ]
        },
        {
          "name": "stdout",
          "output_type": "stream",
          "text": [
            "1056.jpg\n"
          ]
        },
        {
          "name": "stderr",
          "output_type": "stream",
          "text": [
            "\r 74%|███████▍  | 414/556 [1:28:01<29:21, 12.41s/it]"
          ]
        },
        {
          "name": "stdout",
          "output_type": "stream",
          "text": [
            "1175.jpg\n"
          ]
        },
        {
          "name": "stderr",
          "output_type": "stream",
          "text": [
            "\r 75%|███████▍  | 415/556 [1:28:13<29:19, 12.48s/it]"
          ]
        },
        {
          "name": "stdout",
          "output_type": "stream",
          "text": [
            "1191.jpg\n"
          ]
        },
        {
          "name": "stderr",
          "output_type": "stream",
          "text": [
            "\r 75%|███████▍  | 416/556 [1:28:26<29:18, 12.56s/it]"
          ]
        },
        {
          "name": "stdout",
          "output_type": "stream",
          "text": [
            "999.jpg\n"
          ]
        },
        {
          "name": "stderr",
          "output_type": "stream",
          "text": [
            "\r 75%|███████▌  | 417/556 [1:28:37<27:35, 11.91s/it]"
          ]
        },
        {
          "name": "stdout",
          "output_type": "stream",
          "text": [
            "967.jpg\n"
          ]
        },
        {
          "name": "stderr",
          "output_type": "stream",
          "text": [
            "\r 75%|███████▌  | 418/556 [1:28:52<29:36, 12.88s/it]"
          ]
        },
        {
          "name": "stdout",
          "output_type": "stream",
          "text": [
            "1033.jpg\n"
          ]
        },
        {
          "name": "stderr",
          "output_type": "stream",
          "text": [
            "\r 75%|███████▌  | 419/556 [1:29:07<30:53, 13.53s/it]"
          ]
        },
        {
          "name": "stdout",
          "output_type": "stream",
          "text": [
            "938.jpg\n"
          ]
        },
        {
          "name": "stderr",
          "output_type": "stream",
          "text": [
            "\r 76%|███████▌  | 420/556 [1:29:17<28:28, 12.57s/it]"
          ]
        },
        {
          "name": "stdout",
          "output_type": "stream",
          "text": [
            "1029.jpg\n"
          ]
        },
        {
          "name": "stderr",
          "output_type": "stream",
          "text": [
            "\r 76%|███████▌  | 421/556 [1:29:29<28:05, 12.49s/it]"
          ]
        },
        {
          "name": "stdout",
          "output_type": "stream",
          "text": [
            "679.jpg\n"
          ]
        },
        {
          "name": "stderr",
          "output_type": "stream",
          "text": [
            "\r 76%|███████▌  | 422/556 [1:29:43<28:34, 12.79s/it]"
          ]
        },
        {
          "name": "stdout",
          "output_type": "stream",
          "text": [
            "834.jpg\n"
          ]
        },
        {
          "name": "stderr",
          "output_type": "stream",
          "text": [
            "\r 76%|███████▌  | 423/556 [1:29:52<25:56, 11.70s/it]"
          ]
        },
        {
          "name": "stdout",
          "output_type": "stream",
          "text": [
            "1210.jpg\n"
          ]
        },
        {
          "name": "stderr",
          "output_type": "stream",
          "text": [
            "\r 76%|███████▋  | 424/556 [1:30:04<25:53, 11.77s/it]"
          ]
        },
        {
          "name": "stdout",
          "output_type": "stream",
          "text": [
            "757.jpg\n"
          ]
        },
        {
          "name": "stderr",
          "output_type": "stream",
          "text": [
            "\r 76%|███████▋  | 425/556 [1:30:19<27:55, 12.79s/it]"
          ]
        },
        {
          "name": "stdout",
          "output_type": "stream",
          "text": [
            "1110.jpg\n"
          ]
        },
        {
          "name": "stderr",
          "output_type": "stream",
          "text": [
            "\r 77%|███████▋  | 426/556 [1:30:29<26:08, 12.07s/it]"
          ]
        },
        {
          "name": "stdout",
          "output_type": "stream",
          "text": [
            "815.jpg\n"
          ]
        },
        {
          "name": "stderr",
          "output_type": "stream",
          "text": [
            "\r 77%|███████▋  | 427/556 [1:30:45<27:52, 12.96s/it]"
          ]
        },
        {
          "name": "stdout",
          "output_type": "stream",
          "text": [
            "1119.jpg\n"
          ]
        },
        {
          "name": "stderr",
          "output_type": "stream",
          "text": [
            "\r 77%|███████▋  | 428/556 [1:30:52<23:54, 11.21s/it]"
          ]
        },
        {
          "name": "stdout",
          "output_type": "stream",
          "text": [
            "1186.jpg\n"
          ]
        },
        {
          "name": "stderr",
          "output_type": "stream",
          "text": [
            "\r 77%|███████▋  | 429/556 [1:31:03<24:02, 11.36s/it]"
          ]
        },
        {
          "name": "stdout",
          "output_type": "stream",
          "text": [
            "1092.jpg\n"
          ]
        },
        {
          "name": "stderr",
          "output_type": "stream",
          "text": [
            "\r 77%|███████▋  | 430/556 [1:31:16<24:40, 11.75s/it]"
          ]
        },
        {
          "name": "stdout",
          "output_type": "stream",
          "text": [
            "739.jpg\n"
          ]
        },
        {
          "name": "stderr",
          "output_type": "stream",
          "text": [
            "\r 78%|███████▊  | 431/556 [1:31:31<26:29, 12.72s/it]"
          ]
        },
        {
          "name": "stdout",
          "output_type": "stream",
          "text": [
            "1131.jpg\n"
          ]
        },
        {
          "name": "stderr",
          "output_type": "stream",
          "text": [
            "\r 78%|███████▊  | 432/556 [1:31:40<24:01, 11.62s/it]"
          ]
        },
        {
          "name": "stdout",
          "output_type": "stream",
          "text": [
            "882.jpg\n"
          ]
        },
        {
          "name": "stderr",
          "output_type": "stream",
          "text": [
            "\r 78%|███████▊  | 433/556 [1:31:48<21:37, 10.55s/it]"
          ]
        },
        {
          "name": "stdout",
          "output_type": "stream",
          "text": [
            "781.jpg\n"
          ]
        },
        {
          "name": "stderr",
          "output_type": "stream",
          "text": [
            "\r 78%|███████▊  | 434/556 [1:31:59<21:28, 10.56s/it]"
          ]
        },
        {
          "name": "stdout",
          "output_type": "stream",
          "text": [
            "971.jpg\n"
          ]
        },
        {
          "name": "stderr",
          "output_type": "stream",
          "text": [
            "\r 78%|███████▊  | 435/556 [1:32:09<21:08, 10.48s/it]"
          ]
        },
        {
          "name": "stdout",
          "output_type": "stream",
          "text": [
            "965.jpg\n"
          ]
        },
        {
          "name": "stderr",
          "output_type": "stream",
          "text": [
            "\r 78%|███████▊  | 436/556 [1:32:21<21:53, 10.94s/it]"
          ]
        },
        {
          "name": "stdout",
          "output_type": "stream",
          "text": [
            "1079.jpg\n"
          ]
        },
        {
          "name": "stderr",
          "output_type": "stream",
          "text": [
            "\r 79%|███████▊  | 437/556 [1:32:33<22:09, 11.18s/it]"
          ]
        },
        {
          "name": "stdout",
          "output_type": "stream",
          "text": [
            "806.jpg\n"
          ]
        },
        {
          "name": "stderr",
          "output_type": "stream",
          "text": [
            "\r 79%|███████▉  | 438/556 [1:32:46<23:00, 11.70s/it]"
          ]
        },
        {
          "name": "stdout",
          "output_type": "stream",
          "text": [
            "677.jpg\n"
          ]
        },
        {
          "name": "stderr",
          "output_type": "stream",
          "text": [
            "\r 79%|███████▉  | 439/556 [1:32:56<22:02, 11.30s/it]"
          ]
        },
        {
          "name": "stdout",
          "output_type": "stream",
          "text": [
            "1158.jpg\n"
          ]
        },
        {
          "name": "stderr",
          "output_type": "stream",
          "text": [
            "\r 79%|███████▉  | 440/556 [1:33:06<21:17, 11.01s/it]"
          ]
        },
        {
          "name": "stdout",
          "output_type": "stream",
          "text": [
            "836.jpg\n"
          ]
        },
        {
          "name": "stderr",
          "output_type": "stream",
          "text": [
            "\r 79%|███████▉  | 441/556 [1:33:21<23:25, 12.22s/it]"
          ]
        },
        {
          "name": "stdout",
          "output_type": "stream",
          "text": [
            "934.jpg\n"
          ]
        },
        {
          "name": "stderr",
          "output_type": "stream",
          "text": [
            "\r 79%|███████▉  | 442/556 [1:33:36<24:46, 13.04s/it]"
          ]
        },
        {
          "name": "stdout",
          "output_type": "stream",
          "text": [
            "789.jpg\n"
          ]
        },
        {
          "name": "stderr",
          "output_type": "stream",
          "text": [
            "\r 80%|███████▉  | 443/556 [1:33:45<22:16, 11.82s/it]"
          ]
        },
        {
          "name": "stdout",
          "output_type": "stream",
          "text": [
            "795.jpg\n"
          ]
        },
        {
          "name": "stderr",
          "output_type": "stream",
          "text": [
            "\r 80%|███████▉  | 444/556 [1:33:54<20:27, 10.96s/it]"
          ]
        },
        {
          "name": "stdout",
          "output_type": "stream",
          "text": [
            "774.jpg\n"
          ]
        },
        {
          "name": "stderr",
          "output_type": "stream",
          "text": [
            "\r 80%|████████  | 445/556 [1:34:05<19:54, 10.76s/it]"
          ]
        },
        {
          "name": "stdout",
          "output_type": "stream",
          "text": [
            "1089.jpg\n"
          ]
        },
        {
          "name": "stderr",
          "output_type": "stream",
          "text": [
            "\r 80%|████████  | 446/556 [1:34:20<22:04, 12.04s/it]"
          ]
        },
        {
          "name": "stdout",
          "output_type": "stream",
          "text": [
            "743.jpg\n"
          ]
        },
        {
          "name": "stderr",
          "output_type": "stream",
          "text": [
            "\r 80%|████████  | 447/556 [1:34:30<20:56, 11.53s/it]"
          ]
        },
        {
          "name": "stdout",
          "output_type": "stream",
          "text": [
            "827.jpg\n"
          ]
        },
        {
          "name": "stderr",
          "output_type": "stream",
          "text": [
            "\r 81%|████████  | 448/556 [1:34:40<20:06, 11.17s/it]"
          ]
        },
        {
          "name": "stdout",
          "output_type": "stream",
          "text": [
            "1219.jpg\n"
          ]
        },
        {
          "name": "stderr",
          "output_type": "stream",
          "text": [
            "\r 81%|████████  | 449/556 [1:34:52<20:22, 11.43s/it]"
          ]
        },
        {
          "name": "stdout",
          "output_type": "stream",
          "text": [
            "1002.jpg\n"
          ]
        },
        {
          "name": "stderr",
          "output_type": "stream",
          "text": [
            "\r 81%|████████  | 450/556 [1:35:07<22:06, 12.51s/it]"
          ]
        },
        {
          "name": "stdout",
          "output_type": "stream",
          "text": [
            "845.jpg\n"
          ]
        },
        {
          "name": "stderr",
          "output_type": "stream",
          "text": [
            "\r 81%|████████  | 451/556 [1:35:20<22:01, 12.58s/it]"
          ]
        },
        {
          "name": "stdout",
          "output_type": "stream",
          "text": [
            "737.jpg\n"
          ]
        },
        {
          "name": "stderr",
          "output_type": "stream",
          "text": [
            "\r 81%|████████▏ | 452/556 [1:35:28<19:27, 11.23s/it]"
          ]
        },
        {
          "name": "stdout",
          "output_type": "stream",
          "text": [
            "1183.jpg\n"
          ]
        },
        {
          "name": "stderr",
          "output_type": "stream",
          "text": [
            "\r 81%|████████▏ | 453/556 [1:35:40<19:32, 11.38s/it]"
          ]
        },
        {
          "name": "stdout",
          "output_type": "stream",
          "text": [
            "1200.jpg\n"
          ]
        },
        {
          "name": "stderr",
          "output_type": "stream",
          "text": [
            "\r 82%|████████▏ | 454/556 [1:35:51<18:59, 11.17s/it]"
          ]
        },
        {
          "name": "stdout",
          "output_type": "stream",
          "text": [
            "924.jpg\n"
          ]
        },
        {
          "name": "stderr",
          "output_type": "stream",
          "text": [
            "\r 82%|████████▏ | 455/556 [1:36:01<18:20, 10.90s/it]"
          ]
        },
        {
          "name": "stdout",
          "output_type": "stream",
          "text": [
            "888.jpg\n"
          ]
        },
        {
          "name": "stderr",
          "output_type": "stream",
          "text": [
            "\r 82%|████████▏ | 456/556 [1:36:11<17:52, 10.73s/it]"
          ]
        },
        {
          "name": "stdout",
          "output_type": "stream",
          "text": [
            "823.jpg\n"
          ]
        },
        {
          "name": "stderr",
          "output_type": "stream",
          "text": [
            "\r 82%|████████▏ | 457/556 [1:36:20<16:50, 10.21s/it]"
          ]
        },
        {
          "name": "stdout",
          "output_type": "stream",
          "text": [
            "849.jpg\n"
          ]
        },
        {
          "name": "stderr",
          "output_type": "stream",
          "text": [
            "\r 82%|████████▏ | 458/556 [1:36:30<16:42, 10.23s/it]"
          ]
        },
        {
          "name": "stdout",
          "output_type": "stream",
          "text": [
            "690.jpg\n"
          ]
        },
        {
          "name": "stderr",
          "output_type": "stream",
          "text": [
            "\r 83%|████████▎ | 459/556 [1:36:41<16:34, 10.25s/it]"
          ]
        },
        {
          "name": "stdout",
          "output_type": "stream",
          "text": [
            "711.jpg\n"
          ]
        },
        {
          "name": "stderr",
          "output_type": "stream",
          "text": [
            "\r 83%|████████▎ | 460/556 [1:36:50<15:48,  9.88s/it]"
          ]
        },
        {
          "name": "stdout",
          "output_type": "stream",
          "text": [
            "1012.jpg\n"
          ]
        },
        {
          "name": "stderr",
          "output_type": "stream",
          "text": [
            "\r 83%|████████▎ | 461/556 [1:37:02<16:35, 10.48s/it]"
          ]
        },
        {
          "name": "stdout",
          "output_type": "stream",
          "text": [
            "1182.jpg\n"
          ]
        },
        {
          "name": "stderr",
          "output_type": "stream",
          "text": [
            "\r 83%|████████▎ | 462/556 [1:37:13<17:02, 10.88s/it]"
          ]
        },
        {
          "name": "stdout",
          "output_type": "stream",
          "text": [
            "1009.jpg\n"
          ]
        },
        {
          "name": "stderr",
          "output_type": "stream",
          "text": [
            "\r 83%|████████▎ | 463/556 [1:37:24<16:35, 10.70s/it]"
          ]
        },
        {
          "name": "stdout",
          "output_type": "stream",
          "text": [
            "734.jpg\n"
          ]
        },
        {
          "name": "stderr",
          "output_type": "stream",
          "text": [
            "\r 83%|████████▎ | 464/556 [1:37:39<18:25, 12.01s/it]"
          ]
        },
        {
          "name": "stdout",
          "output_type": "stream",
          "text": [
            "1181.jpg\n"
          ]
        },
        {
          "name": "stderr",
          "output_type": "stream",
          "text": [
            "\r 84%|████████▎ | 465/556 [1:37:51<18:05, 11.93s/it]"
          ]
        },
        {
          "name": "stdout",
          "output_type": "stream",
          "text": [
            "1228.jpg\n"
          ]
        },
        {
          "name": "stderr",
          "output_type": "stream",
          "text": [
            "\r 84%|████████▍ | 466/556 [1:38:06<19:16, 12.85s/it]"
          ]
        },
        {
          "name": "stdout",
          "output_type": "stream",
          "text": [
            "897.jpg\n"
          ]
        },
        {
          "name": "stderr",
          "output_type": "stream",
          "text": [
            "\r 84%|████████▍ | 467/556 [1:38:17<18:29, 12.47s/it]"
          ]
        },
        {
          "name": "stdout",
          "output_type": "stream",
          "text": [
            "959.jpg\n"
          ]
        },
        {
          "name": "stderr",
          "output_type": "stream",
          "text": [
            "\r 84%|████████▍ | 468/556 [1:38:29<18:00, 12.28s/it]"
          ]
        },
        {
          "name": "stdout",
          "output_type": "stream",
          "text": [
            "1209.jpg\n"
          ]
        },
        {
          "name": "stderr",
          "output_type": "stream",
          "text": [
            "\r 84%|████████▍ | 469/556 [1:38:38<16:24, 11.31s/it]"
          ]
        },
        {
          "name": "stdout",
          "output_type": "stream",
          "text": [
            "902.jpg\n"
          ]
        },
        {
          "name": "stderr",
          "output_type": "stream",
          "text": [
            "\r 85%|████████▍ | 470/556 [1:38:53<17:51, 12.46s/it]"
          ]
        },
        {
          "name": "stdout",
          "output_type": "stream",
          "text": [
            "738.jpg\n"
          ]
        },
        {
          "name": "stderr",
          "output_type": "stream",
          "text": [
            "\r 85%|████████▍ | 471/556 [1:39:06<17:48, 12.57s/it]"
          ]
        },
        {
          "name": "stdout",
          "output_type": "stream",
          "text": [
            "887.jpg\n"
          ]
        },
        {
          "name": "stderr",
          "output_type": "stream",
          "text": [
            "\r 85%|████████▍ | 472/556 [1:39:20<18:13, 13.02s/it]"
          ]
        },
        {
          "name": "stdout",
          "output_type": "stream",
          "text": [
            "740.jpg\n"
          ]
        },
        {
          "name": "stderr",
          "output_type": "stream",
          "text": [
            "\r 85%|████████▌ | 473/556 [1:39:35<18:48, 13.60s/it]"
          ]
        },
        {
          "name": "stdout",
          "output_type": "stream",
          "text": [
            "1172.jpg\n"
          ]
        },
        {
          "name": "stderr",
          "output_type": "stream",
          "text": [
            "\r 85%|████████▌ | 474/556 [1:39:47<17:48, 13.03s/it]"
          ]
        },
        {
          "name": "stdout",
          "output_type": "stream",
          "text": [
            "1171.jpg\n"
          ]
        },
        {
          "name": "stderr",
          "output_type": "stream",
          "text": [
            "\r 85%|████████▌ | 475/556 [1:39:55<15:33, 11.53s/it]"
          ]
        },
        {
          "name": "stdout",
          "output_type": "stream",
          "text": [
            "1090.jpg\n"
          ]
        },
        {
          "name": "stderr",
          "output_type": "stream",
          "text": [
            "\r 86%|████████▌ | 476/556 [1:40:10<16:45, 12.57s/it]"
          ]
        },
        {
          "name": "stdout",
          "output_type": "stream",
          "text": [
            "1123.jpg\n"
          ]
        },
        {
          "name": "stderr",
          "output_type": "stream",
          "text": [
            "\r 86%|████████▌ | 477/556 [1:40:25<17:31, 13.31s/it]"
          ]
        },
        {
          "name": "stdout",
          "output_type": "stream",
          "text": [
            "1072.jpg\n"
          ]
        },
        {
          "name": "stderr",
          "output_type": "stream",
          "text": [
            "\r 86%|████████▌ | 478/556 [1:40:36<16:40, 12.82s/it]"
          ]
        },
        {
          "name": "stdout",
          "output_type": "stream",
          "text": [
            "952.jpg\n"
          ]
        },
        {
          "name": "stderr",
          "output_type": "stream",
          "text": [
            "\r 86%|████████▌ | 479/556 [1:40:53<17:54, 13.95s/it]"
          ]
        },
        {
          "name": "stdout",
          "output_type": "stream",
          "text": [
            "962.jpg\n"
          ]
        },
        {
          "name": "stderr",
          "output_type": "stream",
          "text": [
            "\r 86%|████████▋ | 480/556 [1:41:04<16:22, 12.93s/it]"
          ]
        },
        {
          "name": "stdout",
          "output_type": "stream",
          "text": [
            "1217.jpg\n"
          ]
        },
        {
          "name": "stderr",
          "output_type": "stream",
          "text": [
            "\r 87%|████████▋ | 481/556 [1:41:14<15:11, 12.16s/it]"
          ]
        },
        {
          "name": "stdout",
          "output_type": "stream",
          "text": [
            "861.jpg\n"
          ]
        },
        {
          "name": "stderr",
          "output_type": "stream",
          "text": [
            "\r 87%|████████▋ | 482/556 [1:41:26<14:48, 12.01s/it]"
          ]
        },
        {
          "name": "stdout",
          "output_type": "stream",
          "text": [
            "1224.jpg\n"
          ]
        },
        {
          "name": "stderr",
          "output_type": "stream",
          "text": [
            "\r 87%|████████▋ | 483/556 [1:41:37<14:33, 11.97s/it]"
          ]
        },
        {
          "name": "stdout",
          "output_type": "stream",
          "text": [
            "832.jpg\n"
          ]
        },
        {
          "name": "stderr",
          "output_type": "stream",
          "text": [
            "\r 87%|████████▋ | 484/556 [1:41:48<13:45, 11.46s/it]"
          ]
        },
        {
          "name": "stdout",
          "output_type": "stream",
          "text": [
            "878.jpg\n"
          ]
        },
        {
          "name": "stderr",
          "output_type": "stream",
          "text": [
            "\r 87%|████████▋ | 485/556 [1:41:59<13:38, 11.52s/it]"
          ]
        },
        {
          "name": "stdout",
          "output_type": "stream",
          "text": [
            "939.jpg\n"
          ]
        },
        {
          "name": "stderr",
          "output_type": "stream",
          "text": [
            "\r 87%|████████▋ | 486/556 [1:42:14<14:40, 12.58s/it]"
          ]
        },
        {
          "name": "stdout",
          "output_type": "stream",
          "text": [
            "969.jpg\n"
          ]
        },
        {
          "name": "stderr",
          "output_type": "stream",
          "text": [
            "\r 88%|████████▊ | 487/556 [1:42:23<13:14, 11.52s/it]"
          ]
        },
        {
          "name": "stdout",
          "output_type": "stream",
          "text": [
            "940.jpg\n"
          ]
        },
        {
          "name": "stderr",
          "output_type": "stream",
          "text": [
            "\r 88%|████████▊ | 488/556 [1:42:34<12:44, 11.24s/it]"
          ]
        },
        {
          "name": "stdout",
          "output_type": "stream",
          "text": [
            "872.jpg\n"
          ]
        },
        {
          "name": "stderr",
          "output_type": "stream",
          "text": [
            "\r 88%|████████▊ | 489/556 [1:42:49<13:51, 12.41s/it]"
          ]
        },
        {
          "name": "stdout",
          "output_type": "stream",
          "text": [
            "1051.jpg\n"
          ]
        },
        {
          "name": "stderr",
          "output_type": "stream",
          "text": [
            "\r 88%|████████▊ | 490/556 [1:43:00<12:58, 11.79s/it]"
          ]
        },
        {
          "name": "stdout",
          "output_type": "stream",
          "text": [
            "1049.jpg\n"
          ]
        },
        {
          "name": "stderr",
          "output_type": "stream",
          "text": [
            "\r 88%|████████▊ | 491/556 [1:43:09<11:51, 10.94s/it]"
          ]
        },
        {
          "name": "stdout",
          "output_type": "stream",
          "text": [
            "729.jpg\n"
          ]
        },
        {
          "name": "stderr",
          "output_type": "stream",
          "text": [
            "\r 88%|████████▊ | 492/556 [1:43:19<11:31, 10.81s/it]"
          ]
        },
        {
          "name": "stdout",
          "output_type": "stream",
          "text": [
            "1061.jpg\n"
          ]
        },
        {
          "name": "stderr",
          "output_type": "stream",
          "text": [
            "\r 89%|████████▊ | 493/556 [1:43:31<11:39, 11.10s/it]"
          ]
        },
        {
          "name": "stdout",
          "output_type": "stream",
          "text": [
            "1019.jpg\n"
          ]
        },
        {
          "name": "stderr",
          "output_type": "stream",
          "text": [
            "\r 89%|████████▉ | 494/556 [1:43:40<10:48, 10.46s/it]"
          ]
        },
        {
          "name": "stdout",
          "output_type": "stream",
          "text": [
            "932.jpg\n"
          ]
        },
        {
          "name": "stderr",
          "output_type": "stream",
          "text": [
            "\r 89%|████████▉ | 495/556 [1:43:55<12:03, 11.86s/it]"
          ]
        },
        {
          "name": "stdout",
          "output_type": "stream",
          "text": [
            "1156.jpg\n"
          ]
        },
        {
          "name": "stderr",
          "output_type": "stream",
          "text": [
            "\r 89%|████████▉ | 496/556 [1:44:10<12:49, 12.83s/it]"
          ]
        },
        {
          "name": "stdout",
          "output_type": "stream",
          "text": [
            "979.jpg\n"
          ]
        },
        {
          "name": "stderr",
          "output_type": "stream",
          "text": [
            "\r 89%|████████▉ | 497/556 [1:44:25<13:16, 13.50s/it]"
          ]
        },
        {
          "name": "stdout",
          "output_type": "stream",
          "text": [
            "784.jpg\n"
          ]
        },
        {
          "name": "stderr",
          "output_type": "stream",
          "text": [
            "\r 90%|████████▉ | 498/556 [1:44:38<12:50, 13.29s/it]"
          ]
        },
        {
          "name": "stdout",
          "output_type": "stream",
          "text": [
            "1040.jpg\n"
          ]
        },
        {
          "name": "stderr",
          "output_type": "stream",
          "text": [
            "\r 90%|████████▉ | 499/556 [1:44:50<12:13, 12.88s/it]"
          ]
        },
        {
          "name": "stdout",
          "output_type": "stream",
          "text": [
            "978.jpg\n"
          ]
        },
        {
          "name": "stderr",
          "output_type": "stream",
          "text": [
            "\r 90%|████████▉ | 500/556 [1:45:01<11:41, 12.52s/it]"
          ]
        },
        {
          "name": "stdout",
          "output_type": "stream",
          "text": [
            "754.jpg\n"
          ]
        },
        {
          "name": "stderr",
          "output_type": "stream",
          "text": [
            "\r 90%|█████████ | 501/556 [1:45:10<10:30, 11.46s/it]"
          ]
        },
        {
          "name": "stdout",
          "output_type": "stream",
          "text": [
            "1145.jpg\n"
          ]
        },
        {
          "name": "stderr",
          "output_type": "stream",
          "text": [
            "\r 90%|█████████ | 502/556 [1:45:26<11:17, 12.54s/it]"
          ]
        },
        {
          "name": "stdout",
          "output_type": "stream",
          "text": [
            "943.jpg\n"
          ]
        },
        {
          "name": "stderr",
          "output_type": "stream",
          "text": [
            "\r 90%|█████████ | 503/556 [1:45:34<09:53, 11.19s/it]"
          ]
        },
        {
          "name": "stdout",
          "output_type": "stream",
          "text": [
            "790.jpg\n"
          ]
        },
        {
          "name": "stderr",
          "output_type": "stream",
          "text": [
            "\r 91%|█████████ | 504/556 [1:45:49<10:49, 12.49s/it]"
          ]
        },
        {
          "name": "stdout",
          "output_type": "stream",
          "text": [
            "1164.jpg\n"
          ]
        },
        {
          "name": "stderr",
          "output_type": "stream",
          "text": [
            "\r 91%|█████████ | 505/556 [1:46:04<11:15, 13.25s/it]"
          ]
        },
        {
          "name": "stdout",
          "output_type": "stream",
          "text": [
            "983.jpg\n"
          ]
        },
        {
          "name": "stderr",
          "output_type": "stream",
          "text": [
            "\r 91%|█████████ | 506/556 [1:46:19<11:29, 13.80s/it]"
          ]
        },
        {
          "name": "stdout",
          "output_type": "stream",
          "text": [
            "777.jpg\n"
          ]
        },
        {
          "name": "stderr",
          "output_type": "stream",
          "text": [
            "\r 91%|█████████ | 507/556 [1:46:30<10:29, 12.85s/it]"
          ]
        },
        {
          "name": "stdout",
          "output_type": "stream",
          "text": [
            "1058.jpg\n"
          ]
        },
        {
          "name": "stderr",
          "output_type": "stream",
          "text": [
            "\r 91%|█████████▏| 508/556 [1:46:44<10:34, 13.23s/it]"
          ]
        },
        {
          "name": "stdout",
          "output_type": "stream",
          "text": [
            "1004.jpg\n"
          ]
        },
        {
          "name": "stderr",
          "output_type": "stream",
          "text": [
            "\r 92%|█████████▏| 509/556 [1:46:57<10:15, 13.10s/it]"
          ]
        },
        {
          "name": "stdout",
          "output_type": "stream",
          "text": [
            "1218.jpg\n"
          ]
        },
        {
          "name": "stderr",
          "output_type": "stream",
          "text": [
            "\r 92%|█████████▏| 510/556 [1:47:12<10:31, 13.72s/it]"
          ]
        },
        {
          "name": "stdout",
          "output_type": "stream",
          "text": [
            "1105.jpg\n"
          ]
        },
        {
          "name": "stderr",
          "output_type": "stream",
          "text": [
            "\r 92%|█████████▏| 511/556 [1:47:22<09:33, 12.74s/it]"
          ]
        },
        {
          "name": "stdout",
          "output_type": "stream",
          "text": [
            "686.jpg\n"
          ]
        },
        {
          "name": "stderr",
          "output_type": "stream",
          "text": [
            "\r 92%|█████████▏| 512/556 [1:47:35<09:22, 12.78s/it]"
          ]
        },
        {
          "name": "stdout",
          "output_type": "stream",
          "text": [
            "835.jpg\n"
          ]
        },
        {
          "name": "stderr",
          "output_type": "stream",
          "text": [
            "\r 92%|█████████▏| 513/556 [1:47:44<08:21, 11.66s/it]"
          ]
        },
        {
          "name": "stdout",
          "output_type": "stream",
          "text": [
            "893.jpg\n"
          ]
        },
        {
          "name": "stderr",
          "output_type": "stream",
          "text": [
            "\r 92%|█████████▏| 514/556 [1:47:57<08:24, 12.02s/it]"
          ]
        },
        {
          "name": "stdout",
          "output_type": "stream",
          "text": [
            "1127.jpg\n"
          ]
        },
        {
          "name": "stderr",
          "output_type": "stream",
          "text": [
            "\r 93%|█████████▎| 515/556 [1:48:10<08:21, 12.23s/it]"
          ]
        },
        {
          "name": "stdout",
          "output_type": "stream",
          "text": [
            "1179.jpg\n"
          ]
        },
        {
          "name": "stderr",
          "output_type": "stream",
          "text": [
            "\r 93%|█████████▎| 516/556 [1:48:26<08:59, 13.48s/it]"
          ]
        },
        {
          "name": "stdout",
          "output_type": "stream",
          "text": [
            "855.jpg\n"
          ]
        },
        {
          "name": "stderr",
          "output_type": "stream",
          "text": [
            "\r 93%|█████████▎| 517/556 [1:48:41<09:04, 13.95s/it]"
          ]
        },
        {
          "name": "stdout",
          "output_type": "stream",
          "text": [
            "693.jpg\n"
          ]
        },
        {
          "name": "stderr",
          "output_type": "stream",
          "text": [
            "\r 93%|█████████▎| 518/556 [1:48:50<07:54, 12.48s/it]"
          ]
        },
        {
          "name": "stdout",
          "output_type": "stream",
          "text": [
            "808.jpg\n"
          ]
        },
        {
          "name": "stderr",
          "output_type": "stream",
          "text": [
            "\r 93%|█████████▎| 519/556 [1:48:59<07:02, 11.42s/it]"
          ]
        },
        {
          "name": "stdout",
          "output_type": "stream",
          "text": [
            "770.jpg\n"
          ]
        },
        {
          "name": "stderr",
          "output_type": "stream",
          "text": [
            "\r 94%|█████████▎| 520/556 [1:49:11<06:54, 11.51s/it]"
          ]
        },
        {
          "name": "stdout",
          "output_type": "stream",
          "text": [
            "986.jpg\n"
          ]
        },
        {
          "name": "stderr",
          "output_type": "stream",
          "text": [
            "\r 94%|█████████▎| 521/556 [1:49:21<06:30, 11.17s/it]"
          ]
        },
        {
          "name": "stdout",
          "output_type": "stream",
          "text": [
            "1149.jpg\n"
          ]
        },
        {
          "name": "stderr",
          "output_type": "stream",
          "text": [
            "\r 94%|█████████▍| 522/556 [1:49:32<06:10, 10.91s/it]"
          ]
        },
        {
          "name": "stdout",
          "output_type": "stream",
          "text": [
            "992.jpg\n"
          ]
        },
        {
          "name": "stderr",
          "output_type": "stream",
          "text": [
            "\r 94%|█████████▍| 523/556 [1:49:42<05:54, 10.73s/it]"
          ]
        },
        {
          "name": "stdout",
          "output_type": "stream",
          "text": [
            "843.jpg\n"
          ]
        },
        {
          "name": "stderr",
          "output_type": "stream",
          "text": [
            "\r 94%|█████████▍| 524/556 [1:49:56<06:16, 11.77s/it]"
          ]
        },
        {
          "name": "stdout",
          "output_type": "stream",
          "text": [
            "1037.jpg\n"
          ]
        },
        {
          "name": "stderr",
          "output_type": "stream",
          "text": [
            "\r 94%|█████████▍| 525/556 [1:50:08<06:03, 11.74s/it]"
          ]
        },
        {
          "name": "stdout",
          "output_type": "stream",
          "text": [
            "1008.jpg\n"
          ]
        },
        {
          "name": "stderr",
          "output_type": "stream",
          "text": [
            "\r 95%|█████████▍| 526/556 [1:50:23<06:21, 12.72s/it]"
          ]
        },
        {
          "name": "stdout",
          "output_type": "stream",
          "text": [
            "1205.jpg\n"
          ]
        },
        {
          "name": "stderr",
          "output_type": "stream",
          "text": [
            "\r 95%|█████████▍| 527/556 [1:50:38<06:30, 13.45s/it]"
          ]
        },
        {
          "name": "stdout",
          "output_type": "stream",
          "text": [
            "698.jpg\n"
          ]
        },
        {
          "name": "stderr",
          "output_type": "stream",
          "text": [
            "\r 95%|█████████▍| 528/556 [1:50:51<06:15, 13.40s/it]"
          ]
        },
        {
          "name": "stdout",
          "output_type": "stream",
          "text": [
            "748.jpg\n"
          ]
        },
        {
          "name": "stderr",
          "output_type": "stream",
          "text": [
            "\r 95%|█████████▌| 529/556 [1:51:02<05:36, 12.48s/it]"
          ]
        },
        {
          "name": "stdout",
          "output_type": "stream",
          "text": [
            "819.jpg\n"
          ]
        },
        {
          "name": "stderr",
          "output_type": "stream",
          "text": [
            "\r 95%|█████████▌| 530/556 [1:51:17<05:44, 13.26s/it]"
          ]
        },
        {
          "name": "stdout",
          "output_type": "stream",
          "text": [
            "786.jpg\n"
          ]
        },
        {
          "name": "stderr",
          "output_type": "stream",
          "text": [
            "\r 96%|█████████▌| 531/556 [1:51:31<05:38, 13.53s/it]"
          ]
        },
        {
          "name": "stdout",
          "output_type": "stream",
          "text": [
            "1115.jpg\n"
          ]
        },
        {
          "name": "stderr",
          "output_type": "stream",
          "text": [
            "\r 96%|█████████▌| 532/556 [1:51:40<04:51, 12.16s/it]"
          ]
        },
        {
          "name": "stdout",
          "output_type": "stream",
          "text": [
            "695.jpg\n"
          ]
        },
        {
          "name": "stderr",
          "output_type": "stream",
          "text": [
            "\r 96%|█████████▌| 533/556 [1:51:55<04:59, 13.03s/it]"
          ]
        },
        {
          "name": "stdout",
          "output_type": "stream",
          "text": [
            "825.jpg\n"
          ]
        },
        {
          "name": "stderr",
          "output_type": "stream",
          "text": [
            "\r 96%|█████████▌| 534/556 [1:52:05<04:29, 12.23s/it]"
          ]
        },
        {
          "name": "stdout",
          "output_type": "stream",
          "text": [
            "775.jpg\n"
          ]
        },
        {
          "name": "stderr",
          "output_type": "stream",
          "text": [
            "\r 96%|█████████▌| 535/556 [1:52:20<04:34, 13.06s/it]"
          ]
        },
        {
          "name": "stdout",
          "output_type": "stream",
          "text": [
            "1024.jpg\n"
          ]
        },
        {
          "name": "stderr",
          "output_type": "stream",
          "text": [
            "\r 96%|█████████▋| 536/556 [1:52:32<04:13, 12.66s/it]"
          ]
        },
        {
          "name": "stdout",
          "output_type": "stream",
          "text": [
            "778.jpg\n"
          ]
        },
        {
          "name": "stderr",
          "output_type": "stream",
          "text": [
            "\r 97%|█████████▋| 537/556 [1:52:47<04:14, 13.40s/it]"
          ]
        },
        {
          "name": "stdout",
          "output_type": "stream",
          "text": [
            "853.jpg\n"
          ]
        },
        {
          "name": "stderr",
          "output_type": "stream",
          "text": [
            "\r 97%|█████████▋| 538/556 [1:53:00<03:57, 13.19s/it]"
          ]
        },
        {
          "name": "stdout",
          "output_type": "stream",
          "text": [
            "805.jpg\n"
          ]
        },
        {
          "name": "stderr",
          "output_type": "stream",
          "text": [
            "\r 97%|█████████▋| 539/556 [1:53:11<03:36, 12.74s/it]"
          ]
        },
        {
          "name": "stdout",
          "output_type": "stream",
          "text": [
            "1221.jpg\n"
          ]
        },
        {
          "name": "stderr",
          "output_type": "stream",
          "text": [
            "\r 97%|█████████▋| 540/556 [1:53:27<03:37, 13.58s/it]"
          ]
        },
        {
          "name": "stdout",
          "output_type": "stream",
          "text": [
            "951.jpg\n"
          ]
        },
        {
          "name": "stderr",
          "output_type": "stream",
          "text": [
            "\r 97%|█████████▋| 541/556 [1:53:42<03:30, 14.02s/it]"
          ]
        },
        {
          "name": "stdout",
          "output_type": "stream",
          "text": [
            "1025.jpg\n"
          ]
        },
        {
          "name": "stderr",
          "output_type": "stream",
          "text": [
            "\r 97%|█████████▋| 542/556 [1:53:52<03:00, 12.91s/it]"
          ]
        },
        {
          "name": "stdout",
          "output_type": "stream",
          "text": [
            "1046.jpg\n"
          ]
        },
        {
          "name": "stderr",
          "output_type": "stream",
          "text": [
            "\r 98%|█████████▊| 543/556 [1:54:07<02:52, 13.28s/it]"
          ]
        },
        {
          "name": "stdout",
          "output_type": "stream",
          "text": [
            "680.jpg\n"
          ]
        },
        {
          "name": "stderr",
          "output_type": "stream",
          "text": [
            "\r 98%|█████████▊| 544/556 [1:54:18<02:33, 12.82s/it]"
          ]
        },
        {
          "name": "stdout",
          "output_type": "stream",
          "text": [
            "949.jpg\n"
          ]
        },
        {
          "name": "stderr",
          "output_type": "stream",
          "text": [
            "\r 98%|█████████▊| 545/556 [1:54:29<02:13, 12.17s/it]"
          ]
        },
        {
          "name": "stdout",
          "output_type": "stream",
          "text": [
            "918.jpg\n"
          ]
        },
        {
          "name": "stderr",
          "output_type": "stream",
          "text": [
            "\r 98%|█████████▊| 546/556 [1:54:41<02:00, 12.06s/it]"
          ]
        },
        {
          "name": "stdout",
          "output_type": "stream",
          "text": [
            "1133.jpg\n"
          ]
        },
        {
          "name": "stderr",
          "output_type": "stream",
          "text": [
            "\r 98%|█████████▊| 547/556 [1:54:51<01:44, 11.59s/it]"
          ]
        },
        {
          "name": "stdout",
          "output_type": "stream",
          "text": [
            "1018.jpg\n"
          ]
        },
        {
          "name": "stderr",
          "output_type": "stream",
          "text": [
            "\r 99%|█████████▊| 548/556 [1:55:02<01:29, 11.24s/it]"
          ]
        },
        {
          "name": "stdout",
          "output_type": "stream",
          "text": [
            "945.jpg\n"
          ]
        },
        {
          "name": "stderr",
          "output_type": "stream",
          "text": [
            "\r 99%|█████████▊| 549/556 [1:55:12<01:16, 10.98s/it]"
          ]
        },
        {
          "name": "stdout",
          "output_type": "stream",
          "text": [
            "1048.jpg\n"
          ]
        },
        {
          "name": "stderr",
          "output_type": "stream",
          "text": [
            "\r 99%|█████████▉| 550/556 [1:55:22<01:04, 10.80s/it]"
          ]
        },
        {
          "name": "stdout",
          "output_type": "stream",
          "text": [
            "1022.jpg\n"
          ]
        },
        {
          "name": "stderr",
          "output_type": "stream",
          "text": [
            "\r 99%|█████████▉| 551/556 [1:55:34<00:55, 11.10s/it]"
          ]
        },
        {
          "name": "stdout",
          "output_type": "stream",
          "text": [
            "824.jpg\n"
          ]
        },
        {
          "name": "stderr",
          "output_type": "stream",
          "text": [
            "\r 99%|█████████▉| 552/556 [1:55:47<00:46, 11.75s/it]"
          ]
        },
        {
          "name": "stdout",
          "output_type": "stream",
          "text": [
            "1142.jpg\n"
          ]
        },
        {
          "name": "stderr",
          "output_type": "stream",
          "text": [
            "\r 99%|█████████▉| 553/556 [1:55:56<00:31, 10.66s/it]"
          ]
        },
        {
          "name": "stdout",
          "output_type": "stream",
          "text": [
            "925.jpg\n"
          ]
        },
        {
          "name": "stderr",
          "output_type": "stream",
          "text": [
            "\r100%|█████████▉| 554/556 [1:56:11<00:23, 11.98s/it]"
          ]
        },
        {
          "name": "stdout",
          "output_type": "stream",
          "text": [
            "1096.jpg\n"
          ]
        },
        {
          "name": "stderr",
          "output_type": "stream",
          "text": [
            "\r100%|█████████▉| 555/556 [1:56:26<00:12, 12.90s/it]"
          ]
        },
        {
          "name": "stdout",
          "output_type": "stream",
          "text": [
            "1112.jpg\n"
          ]
        },
        {
          "name": "stderr",
          "output_type": "stream",
          "text": [
            "100%|██████████| 556/556 [1:56:38<00:00, 12.59s/it]\n"
          ]
        }
      ],
      "source": [
        "for i in tqdm.tqdm(os.listdir('test/images')):\n",
        "    print(i)\n",
        "    img = Image.open('test/images/' + i)\n",
        "    width, height = img.width, img.height\n",
        "    \n",
        "    results = model(img, size=720, augment=True)  # custom inference size\n",
        "    preds = results.pandas().xyxy[0]\n",
        "    \n",
        "    preds.columns = ['XMin', 'YMin', 'XMax', 'YMax', 'Conf', 'label', 'LabelName']\n",
        "    preds['ImageID'] = i\n",
        "    \n",
        "    predicted_frame = pd.concat([predicted_frame , preds])    "
      ]
    },
    {
      "cell_type": "code",
      "execution_count": 40,
      "metadata": {
        "colab": {
          "base_uri": "https://localhost:8080/",
          "height": 206
        },
        "id": "nQWc2kmflPki",
        "outputId": "838c67c6-2cc4-4a01-f220-36b5472254ab"
      },
      "outputs": [
        {
          "data": {
            "text/html": [
              "\n",
              "  <div id=\"df-3a30af07-0389-4ea2-a1ff-a4ba85d36001\">\n",
              "    <div class=\"colab-df-container\">\n",
              "      <div>\n",
              "<style scoped>\n",
              "    .dataframe tbody tr th:only-of-type {\n",
              "        vertical-align: middle;\n",
              "    }\n",
              "\n",
              "    .dataframe tbody tr th {\n",
              "        vertical-align: top;\n",
              "    }\n",
              "\n",
              "    .dataframe thead th {\n",
              "        text-align: right;\n",
              "    }\n",
              "</style>\n",
              "<table border=\"1\" class=\"dataframe\">\n",
              "  <thead>\n",
              "    <tr style=\"text-align: right;\">\n",
              "      <th></th>\n",
              "      <th>XMin</th>\n",
              "      <th>YMin</th>\n",
              "      <th>XMax</th>\n",
              "      <th>YMax</th>\n",
              "      <th>Conf</th>\n",
              "      <th>label</th>\n",
              "      <th>LabelName</th>\n",
              "      <th>ImageID</th>\n",
              "    </tr>\n",
              "  </thead>\n",
              "  <tbody>\n",
              "    <tr>\n",
              "      <th>0</th>\n",
              "      <td>46.328888</td>\n",
              "      <td>111.138130</td>\n",
              "      <td>222.014359</td>\n",
              "      <td>211.000000</td>\n",
              "      <td>0.824701</td>\n",
              "      <td>0</td>\n",
              "      <td>pothole</td>\n",
              "      <td>900.jpg</td>\n",
              "    </tr>\n",
              "    <tr>\n",
              "      <th>1</th>\n",
              "      <td>39.317848</td>\n",
              "      <td>66.696732</td>\n",
              "      <td>108.656029</td>\n",
              "      <td>101.537834</td>\n",
              "      <td>0.693289</td>\n",
              "      <td>0</td>\n",
              "      <td>pothole</td>\n",
              "      <td>900.jpg</td>\n",
              "    </tr>\n",
              "    <tr>\n",
              "      <th>2</th>\n",
              "      <td>0.000000</td>\n",
              "      <td>9.802477</td>\n",
              "      <td>20.278170</td>\n",
              "      <td>38.695644</td>\n",
              "      <td>0.294509</td>\n",
              "      <td>0</td>\n",
              "      <td>pothole</td>\n",
              "      <td>900.jpg</td>\n",
              "    </tr>\n",
              "    <tr>\n",
              "      <th>0</th>\n",
              "      <td>268.923096</td>\n",
              "      <td>118.383614</td>\n",
              "      <td>989.116577</td>\n",
              "      <td>498.216461</td>\n",
              "      <td>0.913942</td>\n",
              "      <td>0</td>\n",
              "      <td>pothole</td>\n",
              "      <td>1014.jpg</td>\n",
              "    </tr>\n",
              "    <tr>\n",
              "      <th>1</th>\n",
              "      <td>61.015663</td>\n",
              "      <td>257.889679</td>\n",
              "      <td>298.477966</td>\n",
              "      <td>338.069214</td>\n",
              "      <td>0.766309</td>\n",
              "      <td>0</td>\n",
              "      <td>pothole</td>\n",
              "      <td>1014.jpg</td>\n",
              "    </tr>\n",
              "  </tbody>\n",
              "</table>\n",
              "</div>\n",
              "      <button class=\"colab-df-convert\" onclick=\"convertToInteractive('df-3a30af07-0389-4ea2-a1ff-a4ba85d36001')\"\n",
              "              title=\"Convert this dataframe to an interactive table.\"\n",
              "              style=\"display:none;\">\n",
              "        \n",
              "  <svg xmlns=\"http://www.w3.org/2000/svg\" height=\"24px\"viewBox=\"0 0 24 24\"\n",
              "       width=\"24px\">\n",
              "    <path d=\"M0 0h24v24H0V0z\" fill=\"none\"/>\n",
              "    <path d=\"M18.56 5.44l.94 2.06.94-2.06 2.06-.94-2.06-.94-.94-2.06-.94 2.06-2.06.94zm-11 1L8.5 8.5l.94-2.06 2.06-.94-2.06-.94L8.5 2.5l-.94 2.06-2.06.94zm10 10l.94 2.06.94-2.06 2.06-.94-2.06-.94-.94-2.06-.94 2.06-2.06.94z\"/><path d=\"M17.41 7.96l-1.37-1.37c-.4-.4-.92-.59-1.43-.59-.52 0-1.04.2-1.43.59L10.3 9.45l-7.72 7.72c-.78.78-.78 2.05 0 2.83L4 21.41c.39.39.9.59 1.41.59.51 0 1.02-.2 1.41-.59l7.78-7.78 2.81-2.81c.8-.78.8-2.07 0-2.86zM5.41 20L4 18.59l7.72-7.72 1.47 1.35L5.41 20z\"/>\n",
              "  </svg>\n",
              "      </button>\n",
              "      \n",
              "  <style>\n",
              "    .colab-df-container {\n",
              "      display:flex;\n",
              "      flex-wrap:wrap;\n",
              "      gap: 12px;\n",
              "    }\n",
              "\n",
              "    .colab-df-convert {\n",
              "      background-color: #E8F0FE;\n",
              "      border: none;\n",
              "      border-radius: 50%;\n",
              "      cursor: pointer;\n",
              "      display: none;\n",
              "      fill: #1967D2;\n",
              "      height: 32px;\n",
              "      padding: 0 0 0 0;\n",
              "      width: 32px;\n",
              "    }\n",
              "\n",
              "    .colab-df-convert:hover {\n",
              "      background-color: #E2EBFA;\n",
              "      box-shadow: 0px 1px 2px rgba(60, 64, 67, 0.3), 0px 1px 3px 1px rgba(60, 64, 67, 0.15);\n",
              "      fill: #174EA6;\n",
              "    }\n",
              "\n",
              "    [theme=dark] .colab-df-convert {\n",
              "      background-color: #3B4455;\n",
              "      fill: #D2E3FC;\n",
              "    }\n",
              "\n",
              "    [theme=dark] .colab-df-convert:hover {\n",
              "      background-color: #434B5C;\n",
              "      box-shadow: 0px 1px 3px 1px rgba(0, 0, 0, 0.15);\n",
              "      filter: drop-shadow(0px 1px 2px rgba(0, 0, 0, 0.3));\n",
              "      fill: #FFFFFF;\n",
              "    }\n",
              "  </style>\n",
              "\n",
              "      <script>\n",
              "        const buttonEl =\n",
              "          document.querySelector('#df-3a30af07-0389-4ea2-a1ff-a4ba85d36001 button.colab-df-convert');\n",
              "        buttonEl.style.display =\n",
              "          google.colab.kernel.accessAllowed ? 'block' : 'none';\n",
              "\n",
              "        async function convertToInteractive(key) {\n",
              "          const element = document.querySelector('#df-3a30af07-0389-4ea2-a1ff-a4ba85d36001');\n",
              "          const dataTable =\n",
              "            await google.colab.kernel.invokeFunction('convertToInteractive',\n",
              "                                                     [key], {});\n",
              "          if (!dataTable) return;\n",
              "\n",
              "          const docLinkHtml = 'Like what you see? Visit the ' +\n",
              "            '<a target=\"_blank\" href=https://colab.research.google.com/notebooks/data_table.ipynb>data table notebook</a>'\n",
              "            + ' to learn more about interactive tables.';\n",
              "          element.innerHTML = '';\n",
              "          dataTable['output_type'] = 'display_data';\n",
              "          await google.colab.output.renderOutput(dataTable, element);\n",
              "          const docLink = document.createElement('div');\n",
              "          docLink.innerHTML = docLinkHtml;\n",
              "          element.appendChild(docLink);\n",
              "        }\n",
              "      </script>\n",
              "    </div>\n",
              "  </div>\n",
              "  "
            ],
            "text/plain": [
              "         XMin        YMin        XMax        YMax      Conf label LabelName  \\\n",
              "0   46.328888  111.138130  222.014359  211.000000  0.824701     0   pothole   \n",
              "1   39.317848   66.696732  108.656029  101.537834  0.693289     0   pothole   \n",
              "2    0.000000    9.802477   20.278170   38.695644  0.294509     0   pothole   \n",
              "0  268.923096  118.383614  989.116577  498.216461  0.913942     0   pothole   \n",
              "1   61.015663  257.889679  298.477966  338.069214  0.766309     0   pothole   \n",
              "\n",
              "    ImageID  \n",
              "0   900.jpg  \n",
              "1   900.jpg  \n",
              "2   900.jpg  \n",
              "0  1014.jpg  \n",
              "1  1014.jpg  "
            ]
          },
          "execution_count": 40,
          "metadata": {},
          "output_type": "execute_result"
        }
      ],
      "source": [
        "predicted_frame.head()"
      ]
    },
    {
      "cell_type": "code",
      "execution_count": 41,
      "metadata": {
        "id": "0Vz_9WG2myzJ"
      },
      "outputs": [],
      "source": [
        "df = predicted_frame.iloc[: , [0,1,2,3,4,6,7]]\n",
        "df.to_csv('result.csv', index=False)"
      ]
    },
    {
      "cell_type": "code",
      "execution_count": null,
      "metadata": {
        "id": "0BVPNDMSnKE1"
      },
      "outputs": [],
      "source": []
    }
  ],
  "metadata": {
    "colab": {
      "provenance": []
    },
    "gpuClass": "standard",
    "kernelspec": {
      "display_name": "Python 3",
      "name": "python3"
    },
    "language_info": {
      "name": "python"
    }
  },
  "nbformat": 4,
  "nbformat_minor": 0
}
