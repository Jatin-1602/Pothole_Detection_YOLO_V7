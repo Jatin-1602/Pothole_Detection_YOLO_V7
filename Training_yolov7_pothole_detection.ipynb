{
  "cells": [
    {
      "cell_type": "code",
      "execution_count": null,
      "metadata": {
        "colab": {
          "base_uri": "https://localhost:8080/"
        },
        "id": "H3sZAnwQSrZo",
        "outputId": "26fab82a-28ec-432d-c080-f6c5b2545ab5"
      },
      "outputs": [
        {
          "name": "stdout",
          "output_type": "stream",
          "text": [
            "Mounted at /content/drive\n"
          ]
        }
      ],
      "source": [
        "from google.colab import drive\n",
        "drive.mount('/content/drive')"
      ]
    },
    {
      "cell_type": "code",
      "execution_count": null,
      "metadata": {
        "colab": {
          "base_uri": "https://localhost:8080/"
        },
        "id": "8uEUobQ0Rxy7",
        "outputId": "e3513304-3b04-4307-fe45-80d998406aba"
      },
      "outputs": [
        {
          "name": "stdout",
          "output_type": "stream",
          "text": [
            "/content/drive/MyDrive/yolo_v7/yolov7\n"
          ]
        }
      ],
      "source": [
        "%cd /content/drive/MyDrive/yolo_v7/yolov7"
      ]
    },
    {
      "cell_type": "code",
      "execution_count": null,
      "metadata": {
        "id": "sxgA2QOAVtZh"
      },
      "outputs": [],
      "source": [
        "# !wget https://github.com/WongKinYiu/yolov7/releases/download/v0.1/yolov7-e6e_training.pt"
      ]
    },
    {
      "cell_type": "code",
      "execution_count": null,
      "metadata": {
        "id": "UFSgwiiuS94f"
      },
      "outputs": [],
      "source": [
        "# # finetune p5 models\n",
        "# python train.py --workers 8 --device 0 --batch-size 32 --data data/custom.yaml --img 640 640 --cfg cfg/training/yolov7-custom.yaml --weights 'yolov7_training.pt' --name yolov7-custom --hyp data/hyp.scratch.custom.yaml\n",
        "\n",
        "# # finetune p6 models\n",
        "# python train_aux.py --workers 8 --device 0 --batch-size 16 --data data/custom.yaml --img 1280 1280 --cfg cfg/training/yolov7-w6-custom.yaml --weights 'yolov7-w6_training.pt' --name yolov7-w6-custom --hyp data/hyp.scratch.custom.yaml"
      ]
    },
    {
      "cell_type": "code",
      "execution_count": null,
      "metadata": {
        "id": "KklyfZiwOj62"
      },
      "outputs": [],
      "source": [
        "import torch\n",
        "import gc\n",
        "torch.cuda.empty_cache()"
      ]
    },
    {
      "cell_type": "code",
      "execution_count": null,
      "metadata": {
        "id": "3DqGc0_YvqNF"
      },
      "outputs": [],
      "source": [
        "fold = 5\n",
        "\n",
        "print(fold)\n",
        "cmd = f'python train_aux.py --workers 8 --device 0 --batch-size 8 --epochs 50 --data pothole_{fold}.yaml --img 640 640 --cfg cfg/training/yolov7-e6e.yaml --weights yolov7-e6e_training.pt --name yolov7-e6e-pothole-fold_{fold} --hyp data/hyp.scratch.custom.yaml'\n",
        "try:\n",
        "  !{cmd}\n",
        "except:\n",
        "  print(\"failed\")\n",
        "\n",
        "gc.collect()\n",
        "torch.cuda.empty_cache()"
      ]
    },
    {
      "cell_type": "code",
      "execution_count": null,
      "metadata": {
        "id": "o1dStssJTY-5"
      },
      "outputs": [],
      "source": [
        "# for fold in range(1, 6):\n",
        "#   print(fold)\n",
        "#   cmd = f'python train_aux.py --workers 8 --device 0 --batch-size 8 --epochs 33 --data pothole_{fold}.yaml --img 720 720 --cfg cfg/training/yolov7-e6e.yaml --weights yolov7-e6e_training.pt --name yolov7-e6e-pothole-fold_{fold} --hyp data/hyp.scratch.custom.yaml'\n",
        "#   try:\n",
        "#     !{cmd}\n",
        "#   except:\n",
        "#     print(\"failed\")\n",
        "\n",
        "#   gc.collect()\n",
        "#   torch.cuda.empty_cache()"
      ]
    }
  ],
  "metadata": {
    "accelerator": "GPU",
    "colab": {
      "provenance": []
    },
    "gpuClass": "standard",
    "kernelspec": {
      "display_name": "Python 3",
      "name": "python3"
    },
    "language_info": {
      "name": "python"
    }
  },
  "nbformat": 4,
  "nbformat_minor": 0
}
