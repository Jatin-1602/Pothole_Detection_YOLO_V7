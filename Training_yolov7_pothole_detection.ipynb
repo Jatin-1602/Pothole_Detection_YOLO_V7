{
  "nbformat": 4,
  "nbformat_minor": 0,
  "metadata": {
    "colab": {
      "provenance": []
    },
    "kernelspec": {
      "name": "python3",
      "display_name": "Python 3"
    },
    "language_info": {
      "name": "python"
    },
    "accelerator": "GPU",
    "gpuClass": "standard"
  },
  "cells": [
    {
      "cell_type": "code",
      "source": [
        "from google.colab import drive\n",
        "drive.mount('/content/drive')"
      ],
      "metadata": {
        "colab": {
          "base_uri": "https://localhost:8080/"
        },
        "id": "H3sZAnwQSrZo",
        "outputId": "26fab82a-28ec-432d-c080-f6c5b2545ab5"
      },
      "execution_count": null,
      "outputs": [
        {
          "output_type": "stream",
          "name": "stdout",
          "text": [
            "Mounted at /content/drive\n"
          ]
        }
      ]
    },
    {
      "cell_type": "code",
      "execution_count": null,
      "metadata": {
        "colab": {
          "base_uri": "https://localhost:8080/"
        },
        "id": "8uEUobQ0Rxy7",
        "outputId": "e3513304-3b04-4307-fe45-80d998406aba"
      },
      "outputs": [
        {
          "output_type": "stream",
          "name": "stdout",
          "text": [
            "/content/drive/MyDrive/yolo_v7/yolov7\n"
          ]
        }
      ],
      "source": [
        "%cd /content/drive/MyDrive/yolo_v7/yolov7"
      ]
    },
    {
      "cell_type": "code",
      "source": [
        "# !wget https://github.com/WongKinYiu/yolov7/releases/download/v0.1/yolov7-e6e_training.pt"
      ],
      "metadata": {
        "id": "sxgA2QOAVtZh"
      },
      "execution_count": null,
      "outputs": []
    },
    {
      "cell_type": "code",
      "source": [
        "# # finetune p5 models\n",
        "# python train.py --workers 8 --device 0 --batch-size 32 --data data/custom.yaml --img 640 640 --cfg cfg/training/yolov7-custom.yaml --weights 'yolov7_training.pt' --name yolov7-custom --hyp data/hyp.scratch.custom.yaml\n",
        "\n",
        "# # finetune p6 models\n",
        "# python train_aux.py --workers 8 --device 0 --batch-size 16 --data data/custom.yaml --img 1280 1280 --cfg cfg/training/yolov7-w6-custom.yaml --weights 'yolov7-w6_training.pt' --name yolov7-w6-custom --hyp data/hyp.scratch.custom.yaml"
      ],
      "metadata": {
        "id": "UFSgwiiuS94f"
      },
      "execution_count": null,
      "outputs": []
    },
    {
      "cell_type": "code",
      "source": [
        "import torch\n",
        "import gc\n",
        "torch.cuda.empty_cache()"
      ],
      "metadata": {
        "id": "KklyfZiwOj62"
      },
      "execution_count": null,
      "outputs": []
    },
    {
      "cell_type": "code",
      "source": [
        "fold = 5"
      ],
      "metadata": {
        "id": "3DqGc0_YvqNF"
      },
      "execution_count": null,
      "outputs": []
    },
    {
      "cell_type": "code",
      "source": [
      "print(fold)\n",
      "cmd = f'python train_aux.py --workers 8 --device 0 --batch-size 8 --epochs 50 --data pothole_yaml_{fold}.yaml --img 640 640 --cfg cfg/training/yolov7-e6e.yaml --weights yolov7-e6e_training.pt --name yolov7-e6e-pothole-fold_{fold} --hyp data/hyp.scratch.custom.yaml'\n",
      "try:\n",
      "  !{cmd}\n",
      "except:\n",
      "  print(\"failed\")\n",      
      "gc.collect()\n",
      "torch.cuda.empty_cache()"
      ],
      "metadata": {
        "id": "o1dStssJTY-5"
      },
      "execution_count": null,
      "outputs": []
    }
    {
      "cell_type": "code",
      "source": [
      "for fold in range(1, 6):\n"
      "   print(fold)\n",
      "   cmd = f'python train_aux.py --workers 8 --device 0 --batch-size 8 --epochs 33 --data pothole_yaml_{fold}.yaml --img 720 720 --cfg cfg/training/yolov7-e6e.yaml --weights yolov7-e6e_training.pt --name yolov7-e6e-pothole-fold_{fold} --hyp data/hyp.scratch.custom.yaml'\n",
      "   try:\n",
      "     !{cmd}\n",
      "   except:\n",
      "     print(\"failed\")\n",      
      "   gc.collect()\n",
      "   torch.cuda.empty_cache()"
      ],
      "metadata": {
        "id": "o1dStssJTY-5"
      },
      "execution_count": null,
      "outputs": []
    }
  ]
}
