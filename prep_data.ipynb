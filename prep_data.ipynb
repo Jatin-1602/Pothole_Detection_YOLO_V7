{
  "nbformat": 4,
  "nbformat_minor": 0,
  "metadata": {
    "colab": {
      "provenance": []
    },
    "kernelspec": {
      "name": "python3",
      "display_name": "Python 3"
    },
    "language_info": {
      "name": "python"
    },
    "accelerator": "GPU",
    "gpuClass": "standard"
  },
  "cells": [
    {
      "cell_type": "code",
      "source": [
        "from google.colab import drive\n",
        "drive.mount('/content/drive')"
      ],
      "metadata": {
        "colab": {
          "base_uri": "https://localhost:8080/"
        },
        "id": "lrq2IGA2JFdM",
        "outputId": "94a239fc-e3c2-40bb-9ff8-33062a454bbe"
      },
      "execution_count": null,
      "outputs": [
        {
          "output_type": "stream",
          "name": "stdout",
          "text": [
            "Mounted at /content/drive\n"
          ]
        }
      ]
    },
    {
      "cell_type": "code",
      "execution_count": null,
      "metadata": {
        "colab": {
          "base_uri": "https://localhost:8080/"
        },
        "id": "kiiQuC-3I9kH",
        "outputId": "da34980c-6f5c-44a2-ece0-1c89d7022bf8"
      },
      "outputs": [
        {
          "output_type": "stream",
          "name": "stdout",
          "text": [
            "/content/drive/MyDrive/yolo_v7\n"
          ]
        }
      ],
      "source": [
        "%cd /content/drive/MyDrive/yolo_v7"
      ]
    },
    {
      "cell_type": "code",
      "source": [
        "# !git clone https://github.com/WongKinYiu/yolov7.git"
      ],
      "metadata": {
        "id": "Z4QaLvoTJGcB"
      },
      "execution_count": null,
      "outputs": []
    },
    {
      "cell_type": "code",
      "source": [
        "%cd yolov7"
      ],
      "metadata": {
        "colab": {
          "base_uri": "https://localhost:8080/"
        },
        "id": "MiL3AVVTJr8q",
        "outputId": "56b810cc-95fb-4d3c-f22c-73fac33d7931"
      },
      "execution_count": null,
      "outputs": [
        {
          "output_type": "stream",
          "name": "stdout",
          "text": [
            "/content/drive/MyDrive/yolo_v7/yolov7\n"
          ]
        }
      ]
    },
    {
      "cell_type": "markdown",
      "source": [
        "## PREPARING .TXT and YAML FILES FOR YOLO_V7 INPUT"
      ],
      "metadata": {
        "id": "upltEwQ6MEom"
      }
    },
    {
      "cell_type": "code",
      "source": [
        "import pandas as pd\n",
        "from sklearn.preprocessing import LabelEncoder\n",
        "import cv2\n",
        "import os\n",
        "from tqdm import *\n",
        "import shutil as sh\n",
        "from sklearn.model_selection import KFold"
      ],
      "metadata": {
        "id": "X7Vi0SHMMAUe"
      },
      "execution_count": null,
      "outputs": []
    },
    {
      "cell_type": "code",
      "source": [
        "# Reading files\n",
        "\n",
        "df = pd.read_csv('train/train_labels.csv')\n",
        "df.LabelName.value_counts()\n",
        "\n",
        "# # Finding H/W for an image\n",
        "\n",
        "# df['image_width'] = 0\n",
        "# df['image_height'] = 0\n",
        "\n",
        "# for img_name in df.ImageID.unique():\n",
        "#     img_shape = cv2.imread(f'train/images/{img_name}').shape\n",
        "#     h = img_shape[0]\n",
        "#     w = img_shape[1]\n",
        "\n",
        "#     df.loc[df.ImageID == img_name, 'image_width'] = w\n",
        "#     df.loc[df.ImageID == img_name, 'image_height'] = h"
      ],
      "metadata": {
        "colab": {
          "base_uri": "https://localhost:8080/"
        },
        "id": "OlsfWf8iMYR5",
        "outputId": "5baec2dc-9feb-4493-9a2d-9991bd7e15be"
      },
      "execution_count": null,
      "outputs": [
        {
          "output_type": "execute_result",
          "data": {
            "text/plain": [
              "pothole    1371\n",
              "Name: LabelName, dtype: int64"
            ]
          },
          "metadata": {},
          "execution_count": 7
        }
      ]
    },
    {
      "cell_type": "code",
      "source": [
        "# Bounding Box Attributes\n",
        "df['w'] = df.XMax - df.XMin\n",
        "df['h'] = df.YMax - df.YMin\n",
        "df['area'] = df.w * df.h\n",
        "\n",
        "# Normalizing\n",
        "df.w = df.w / df.image_width\n",
        "df.h = df.h / df.image_height\n",
        "\n",
        "df['x_center'] = df.XMin/df.image_width + (df.w/2)\n",
        "df['y_center'] = df.YMin/df.image_height + (df.h/2)\n",
        "\n",
        "le=LabelEncoder()\n",
        "df['classes'] = le.fit_transform(df.LabelName)\n",
        "\n",
        "df['path']=df.ImageID.apply(lambda x: \"train/images/\"+x)"
      ],
      "metadata": {
        "id": "LFVxA0kfMmQY"
      },
      "execution_count": null,
      "outputs": []
    },
    {
      "cell_type": "code",
      "source": [
        "def prep_path(train_df,valid_df,fold):\n",
        "  for name,mini in tqdm(train_df.groupby('ImageID')):\n",
        "      path2save = f'train_{fold}_fold/'\n",
        "\n",
        "      if not os.path.exists('train_data/labels/'+path2save):\n",
        "          os.makedirs('train_data/labels/'+path2save)\n",
        "\n",
        "      with open('train_data/labels/'+path2save+name.replace('.jpg','')+\".txt\", 'w+') as f:\n",
        "          row = mini[['classes','x_center','y_center','w','h']].astype(float).values\n",
        "          row = row.astype(str)\n",
        "          for j in range(len(row)):\n",
        "              text = ' '.join(row[j])\n",
        "              f.write(text)\n",
        "              f.write(\"\\n\") \n",
        "      if not os.path.exists('train_data/images/{}'.format(path2save)):\n",
        "          os.makedirs('train_data/images/{}'.format(path2save))\n",
        "      sh.copy(mini.path.values[0],'train_data/images/{}{}'.format(path2save,name))\n",
        "\n",
        "\n",
        "  for name,mini in tqdm(valid_df.groupby('ImageID')):\n",
        "      path2save = f'val_{fold}_fold/'\n",
        "\n",
        "      if not os.path.exists('train_data/labels/'+path2save):\n",
        "                  os.makedirs('train_data/labels/'+path2save)\n",
        "\n",
        "      with open('train_data/labels/'+path2save+name.replace('.jpg','')+\".txt\", 'w+') as f:\n",
        "          row = mini[['classes','x_center','y_center','w','h']].astype(float).values\n",
        "          row = row.astype(str)\n",
        "          for j in range(len(row)):\n",
        "              text = ' '.join(row[j])\n",
        "              f.write(text)\n",
        "              f.write(\"\\n\") \n",
        "      if not os.path.exists('train_data/images/{}'.format(path2save)):\n",
        "          os.makedirs('train_data/images/{}'.format(path2save))\n",
        "      sh.copy(mini.path.values[0],'train_data/images/{}{}'.format(path2save,name))\n",
        "\n",
        "\n",
        "  import yaml\n",
        "  dic_data={\"train\": f\"train_data/images/train_{fold}_fold/\",\n",
        "              \"val\": f\"train_data/images/val_{fold}_fold/\",\n",
        "              \"path\": \"../\",\n",
        "              \"nc\": 1,\n",
        "              \"names\":['pothole'] }\n",
        "\n",
        "\n",
        "  with open(f'pothole_yaml_{fold}.yaml', 'w') as outfile:\n",
        "      yaml.dump(dic_data, outfile, default_flow_style=False)"
      ],
      "metadata": {
        "id": "bzUyd9VRN7Lr"
      },
      "execution_count": null,
      "outputs": []
    },
    {
      "cell_type": "markdown",
      "source": [
        "## K-FOLD TECHNIQUE"
      ],
      "metadata": {
        "id": "4P2vPcAMPjn6"
      }
    },
    {
      "cell_type": "code",
      "source": [
        "k = 5\n",
        "kf = KFold(n_splits=k)\n",
        "fold=1\n",
        "image_paths_valid = pd.DataFrame(df.ImageID.unique())\n",
        "for train_index, test_index in kf.split(image_paths_valid):\n",
        "    print(fold)\n",
        "    X_train, X_test = image_paths_valid.iloc[train_index], image_paths_valid.iloc[test_index]\n",
        "    valid_ids = X_test[0].values\n",
        "    train_df = df.loc[~df.ImageID.isin(valid_ids)]\n",
        "    valid_df = df.loc[df.ImageID.isin(valid_ids)]\n",
        "    train_df.shape,valid_df.shape\n",
        "    prep_path(train_df,valid_df,fold)\n",
        "    \n",
        "    fold += 1"
      ],
      "metadata": {
        "colab": {
          "base_uri": "https://localhost:8080/"
        },
        "id": "3mPTEKxhPfiX",
        "outputId": "888b7381-9f76-41fb-e6ca-41fc6171d726"
      },
      "execution_count": null,
      "outputs": [
        {
          "output_type": "stream",
          "name": "stdout",
          "text": [
            "1\n"
          ]
        },
        {
          "output_type": "stream",
          "name": "stderr",
          "text": [
            "100%|██████████| 539/539 [04:18<00:00,  2.09it/s]\n",
            "100%|██████████| 135/135 [00:01<00:00, 74.23it/s]\n"
          ]
        },
        {
          "output_type": "stream",
          "name": "stdout",
          "text": [
            "2\n"
          ]
        },
        {
          "output_type": "stream",
          "name": "stderr",
          "text": [
            "100%|██████████| 539/539 [00:07<00:00, 69.28it/s]\n",
            "100%|██████████| 135/135 [00:02<00:00, 54.50it/s]\n"
          ]
        },
        {
          "output_type": "stream",
          "name": "stdout",
          "text": [
            "3\n"
          ]
        },
        {
          "output_type": "stream",
          "name": "stderr",
          "text": [
            "100%|██████████| 539/539 [00:07<00:00, 68.49it/s]\n",
            "100%|██████████| 135/135 [00:01<00:00, 76.67it/s]\n"
          ]
        },
        {
          "output_type": "stream",
          "name": "stdout",
          "text": [
            "4\n"
          ]
        },
        {
          "output_type": "stream",
          "name": "stderr",
          "text": [
            "100%|██████████| 539/539 [00:08<00:00, 65.69it/s]\n",
            "100%|██████████| 135/135 [00:01<00:00, 78.15it/s]\n"
          ]
        },
        {
          "output_type": "stream",
          "name": "stdout",
          "text": [
            "5\n"
          ]
        },
        {
          "output_type": "stream",
          "name": "stderr",
          "text": [
            "100%|██████████| 540/540 [00:07<00:00, 68.21it/s]\n",
            "100%|██████████| 134/134 [00:02<00:00, 60.86it/s]\n"
          ]
        }
      ]
    }
  ]
}